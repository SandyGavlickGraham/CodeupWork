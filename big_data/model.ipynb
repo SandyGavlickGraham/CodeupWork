{
 "cells": [
  {
   "cell_type": "markdown",
   "metadata": {},
   "source": [
    "# Modeling\n",
    "Filename: model"
   ]
  },
  {
   "cell_type": "code",
   "execution_count": 40,
   "metadata": {},
   "outputs": [],
   "source": [
    "from __future__ import print_function\n",
    "import numpy as np\n",
    "import pandas as pd\n",
    "import matplotlib.pyplot as plt\n",
    "%matplotlib inline\n",
    "import seaborn as sns\n",
    "from pyspark.sql.functions import when, col, lower, upper, round, regexp_extract, count, countDistinct\n",
    "from pyspark.sql.types import DoubleType\n",
    "\n",
    "import pandas as pd\n",
    "import warnings\n",
    "warnings.filterwarnings(\"ignore\")\n",
    "\n",
    "from pyspark.sql import SparkSession, DataFrame, Column, Row, GroupedData, \\\n",
    "    DataFrameNaFunctions, DataFrameStatFunctions, functions, types, Window\n",
    "from pyspark.sql.functions import col, expr\n",
    "from pyspark.sql import functions as f\n",
    "import pyspark.sql.types as T\n",
    "from pyspark.sql.functions import round\n",
    "from pyspark.sql.functions import format_string\n",
    "from pyspark.sql.functions import trim, upper\n",
    "from pyspark.sql.functions import substring\n",
    "from pyspark.sql.functions import regexp_extract\n",
    "from pyspark.sql.functions import sum, sumDistinct\n",
    "import datetime\n",
    "from pyspark.sql.functions import year, month, dayofmonth\n",
    "from pyspark.sql.functions import count, countDistinct, approx_count_distinct\n",
    "from pyspark.sql.functions import mean, stddev, variance, skewness, kurtosis\n",
    "from pyspark.sql.functions import when, col, lower, upper, round, regexp_extract, count, countDistinct\n",
    "from pyspark.sql.types import DoubleType\n",
    "from pyspark.sql.types import IntegerType\n",
    "from pyspark.ml.feature import SQLTransformer"
   ]
  },
  {
   "cell_type": "code",
   "execution_count": 2,
   "metadata": {},
   "outputs": [],
   "source": [
    "spark = SparkSession.builder \\\n",
    "                    .master(\"local[*]\") \\\n",
    "                    .appName(\"classification\") \\\n",
    "                    .getOrCreate()"
   ]
  },
  {
   "cell_type": "code",
   "execution_count": 3,
   "metadata": {},
   "outputs": [],
   "source": [
    "case_data = \"sa311/case.csv\"\n",
    "case_df = spark.read.csv(case_data, header=True)\n",
    "\n",
    "dept_data = \"sa311/dept.csv\"\n",
    "dept_df = spark.read.csv(dept_data, header=True)"
   ]
  },
  {
   "cell_type": "code",
   "execution_count": 4,
   "metadata": {},
   "outputs": [],
   "source": [
    "df = case_df.join(dept_df, \"dept_division\", \"left_outer\")"
   ]
  },
  {
   "cell_type": "code",
   "execution_count": 5,
   "metadata": {},
   "outputs": [
    {
     "name": "stdout",
     "output_type": "stream",
     "text": [
      "root\n",
      " |-- dept_division: string (nullable = true)\n",
      " |-- case_id: string (nullable = true)\n",
      " |-- case_opened_date: string (nullable = true)\n",
      " |-- case_closed_date: string (nullable = true)\n",
      " |-- SLA_due_date: string (nullable = true)\n",
      " |-- case_late: string (nullable = true)\n",
      " |-- num_days_late: string (nullable = true)\n",
      " |-- case_closed: string (nullable = true)\n",
      " |-- service_request_type: string (nullable = true)\n",
      " |-- SLA_days: string (nullable = true)\n",
      " |-- case_status: string (nullable = true)\n",
      " |-- source_id: string (nullable = true)\n",
      " |-- request_address: string (nullable = true)\n",
      " |-- council_district: string (nullable = true)\n",
      " |-- dept_name: string (nullable = true)\n",
      " |-- standardized_dept_name: string (nullable = true)\n",
      " |-- dept_subject_to_SLA: string (nullable = true)\n",
      "\n"
     ]
    }
   ],
   "source": [
    "df.printSchema()"
   ]
  },
  {
   "cell_type": "code",
   "execution_count": 6,
   "metadata": {},
   "outputs": [],
   "source": [
    "# Convert the date fields to be of data type timestamp.\n",
    "df = df.withColumn(\"case_opened_date\", \n",
    "                   f.to_timestamp(f.col(\"case_opened_date\"), \n",
    "                                  \"M/d/yy H:mm\")) \\\n",
    "       .withColumn(\"case_closed_date\", \n",
    "                   f.to_timestamp(f.col(\"case_closed_date\"),\n",
    "                                  \"M/d/yy H:mm\")) \\\n",
    "       .withColumn(\"SLA_due_date\", \n",
    "                   f.to_timestamp(f.col(\"SLA_due_date\"),\n",
    "                                  \"M/d/yy H:mm\")) \\\n",
    "       .withColumn(\"case_late\", \n",
    "                   f.when(df.case_late == \"YES\", True) \\\n",
    "                    .otherwise(False)) \\\n",
    "       .withColumn(\"case_closed\", f.when(df.case_closed == \"YES\", True) \\\n",
    "                    .otherwise(False))"
   ]
  },
  {
   "cell_type": "code",
   "execution_count": 7,
   "metadata": {},
   "outputs": [],
   "source": [
    "# Compute the number of days past the SLA due date.\n",
    "# --Spark\n",
    "# DATEDIFF ( enddate , startdate )\n",
    "\n",
    "df = df.withColumn(\"days_past_SLA\", \n",
    "                   f.datediff(f.current_timestamp(), \n",
    "                              \"SLA_due_date\"))"
   ]
  },
  {
   "cell_type": "code",
   "execution_count": 8,
   "metadata": {},
   "outputs": [],
   "source": [
    "# Compute the number of days since opened.\n",
    "# --Spark\n",
    "# DATEDIFF ( enddate , startdate )\n",
    "\n",
    "df = df.withColumn(\"days_since_opening\", \n",
    "                   f.datediff(f.current_timestamp(), \n",
    "                              \"case_opened_date\"))"
   ]
  },
  {
   "cell_type": "code",
   "execution_count": 9,
   "metadata": {},
   "outputs": [],
   "source": [
    "# Extract the year from the case_closed_date column.\n",
    "\n",
    "df = df.withColumn(\"year_closed\", \n",
    "              year(\"case_closed_date\"))"
   ]
  },
  {
   "cell_type": "code",
   "execution_count": 10,
   "metadata": {},
   "outputs": [
    {
     "name": "stdout",
     "output_type": "stream",
     "text": [
      "root\n",
      " |-- dept_division: string (nullable = true)\n",
      " |-- case_id: string (nullable = true)\n",
      " |-- case_opened_date: timestamp (nullable = true)\n",
      " |-- case_closed_date: timestamp (nullable = true)\n",
      " |-- SLA_due_date: timestamp (nullable = true)\n",
      " |-- case_late: boolean (nullable = false)\n",
      " |-- num_days_late: string (nullable = true)\n",
      " |-- case_closed: boolean (nullable = false)\n",
      " |-- service_request_type: string (nullable = true)\n",
      " |-- SLA_days: string (nullable = true)\n",
      " |-- case_status: string (nullable = true)\n",
      " |-- source_id: string (nullable = true)\n",
      " |-- request_address: string (nullable = true)\n",
      " |-- council_district: string (nullable = true)\n",
      " |-- dept_name: string (nullable = true)\n",
      " |-- standardized_dept_name: string (nullable = true)\n",
      " |-- dept_subject_to_SLA: string (nullable = true)\n",
      " |-- days_past_SLA: integer (nullable = true)\n",
      " |-- days_since_opening: integer (nullable = true)\n",
      " |-- year_closed: integer (nullable = true)\n",
      "\n"
     ]
    }
   ],
   "source": [
    "df.printSchema()"
   ]
  },
  {
   "cell_type": "code",
   "execution_count": 11,
   "metadata": {},
   "outputs": [
    {
     "name": "stdout",
     "output_type": "stream",
     "text": [
      "-RECORD 0------------------------------------------------------\n",
      " dept_division          | Field Operations                     \n",
      " case_id                | 1014127332                           \n",
      " case_opened_date       | 2018-01-01 00:42:00                  \n",
      " case_closed_date       | 2018-01-01 12:29:00                  \n",
      " SLA_due_date           | 2020-09-26 00:42:00                  \n",
      " case_late              | false                                \n",
      " num_days_late          | -998.5087616000001                   \n",
      " case_closed            | true                                 \n",
      " service_request_type   | Stray Animal                         \n",
      " SLA_days               | 999.0                                \n",
      " case_status            | Closed                               \n",
      " source_id              | svcCRMLS                             \n",
      " request_address        | 2315  EL PASO ST, San Antonio, 78207 \n",
      " council_district       | 5                                    \n",
      " dept_name              | Animal Care Services                 \n",
      " standardized_dept_name | Animal Care Services                 \n",
      " dept_subject_to_SLA    | YES                                  \n",
      " days_past_SLA          | -496                                 \n",
      " days_since_opening     | 503                                  \n",
      " year_closed            | 2018                                 \n",
      "only showing top 1 row\n",
      "\n"
     ]
    }
   ],
   "source": [
    "df.show(1, vertical=True, truncate=False, )"
   ]
  },
  {
   "cell_type": "markdown",
   "metadata": {},
   "source": [
    "Are there any features that are drivers of a case being late? Consider:\n",
    "- department\n",
    "- type of department\n",
    "- location of request\n",
    "- council district"
   ]
  },
  {
   "cell_type": "code",
   "execution_count": 13,
   "metadata": {},
   "outputs": [],
   "source": [
    "df = df.select(lower(col('dept_division')).alias('dept_division'), \n",
    "          lower(col('service_request_type')).alias('request_type'),\n",
    "          lower(col('dept_name')).alias('dept_name'),\n",
    "          lower(col('standardized_dept_name')).alias('dept_name_std'),\n",
    "          (col('case_closed')=='YES').alias('case_closed'),\n",
    "          when(col('case_late')=='YES', 1).otherwise(0).alias('target'),\n",
    "          (col('dept_subject_to_SLA')=='YES').alias('dept_w_SLA'),\n",
    "          round(col('num_days_late').cast(DoubleType()), 2).alias('days_late'),\n",
    "          round(col('SLA_days').cast(DoubleType()), 2).alias('SLA_days'),\n",
    "          regexp_extract(col('request_address'),\"(\\d{5})$\", 1).\\\n",
    "               alias(\"request_address_zip\"),\n",
    "          (col('council_district').cast(IntegerType()))\n",
    "         )"
   ]
  },
  {
   "cell_type": "markdown",
   "metadata": {},
   "source": [
    "Examine the contents of dept_division, dept_name, and dept_name_std to see which to keep and see how many distinct request types there are."
   ]
  },
  {
   "cell_type": "code",
   "execution_count": 17,
   "metadata": {},
   "outputs": [
    {
     "data": {
      "text/html": [
       "<div>\n",
       "<style scoped>\n",
       "    .dataframe tbody tr th:only-of-type {\n",
       "        vertical-align: middle;\n",
       "    }\n",
       "\n",
       "    .dataframe tbody tr th {\n",
       "        vertical-align: top;\n",
       "    }\n",
       "\n",
       "    .dataframe thead th {\n",
       "        text-align: right;\n",
       "    }\n",
       "</style>\n",
       "<table border=\"1\" class=\"dataframe\">\n",
       "  <thead>\n",
       "    <tr style=\"text-align: right;\">\n",
       "      <th></th>\n",
       "      <th>0</th>\n",
       "    </tr>\n",
       "  </thead>\n",
       "  <tbody>\n",
       "    <tr>\n",
       "      <th>count(DISTINCT dept_division)</th>\n",
       "      <td>39</td>\n",
       "    </tr>\n",
       "    <tr>\n",
       "      <th>count(DISTINCT dept_name)</th>\n",
       "      <td>9</td>\n",
       "    </tr>\n",
       "    <tr>\n",
       "      <th>count(DISTINCT dept_name_std)</th>\n",
       "      <td>8</td>\n",
       "    </tr>\n",
       "    <tr>\n",
       "      <th>count(DISTINCT request_type)</th>\n",
       "      <td>334</td>\n",
       "    </tr>\n",
       "  </tbody>\n",
       "</table>\n",
       "</div>"
      ],
      "text/plain": [
       "                                 0\n",
       "count(DISTINCT dept_division)   39\n",
       "count(DISTINCT dept_name)        9\n",
       "count(DISTINCT dept_name_std)    8\n",
       "count(DISTINCT request_type)   334"
      ]
     },
     "execution_count": 17,
     "metadata": {},
     "output_type": "execute_result"
    }
   ],
   "source": [
    "df.select(countDistinct('dept_division'), \n",
    "          countDistinct('dept_name'),\n",
    "          countDistinct('dept_name_std'),\n",
    "          countDistinct('request_type')).\\\n",
    "          toPandas().transpose()"
   ]
  },
  {
   "cell_type": "code",
   "execution_count": 26,
   "metadata": {},
   "outputs": [
    {
     "name": "stdout",
     "output_type": "stream",
     "text": [
      "+-----------------------------+-------------------------+------------------------+\n",
      "|dept_division                |dept_name                |dept_name_std           |\n",
      "+-----------------------------+-------------------------+------------------------+\n",
      "|district 9                   |city council             |city council            |\n",
      "|clean and green              |parks and recreation     |parks & recreation      |\n",
      "|graffiti (intexp)            |code enforcement services|dsd/code enforcement    |\n",
      "|dangerous premise (intexp)   |code enforcement services|dsd/code enforcement    |\n",
      "|311 call center              |customer service         |customer service        |\n",
      "|storm water                  |trans & cap improvements |trans & cap improvements|\n",
      "|shops                        |parks and recreation     |parks & recreation      |\n",
      "|district 2                   |city council             |city council            |\n",
      "|food establishments          |metro health             |metro health            |\n",
      "|director's office horizontal |trans & cap improvements |trans & cap improvements|\n",
      "|code enforcement (intexp)    |code enforcement services|dsd/code enforcement    |\n",
      "|storm water engineering      |trans & cap improvements |trans & cap improvements|\n",
      "|signals                      |trans & cap improvements |trans & cap improvements|\n",
      "|district 7                   |city council             |city council            |\n",
      "|signs and markings           |trans & cap improvements |trans & cap improvements|\n",
      "|facility license             |metro health             |metro health            |\n",
      "|district 8                   |city council             |city council            |\n",
      "|brush                        |solid waste management   |solid waste             |\n",
      "|waste collection             |solid waste management   |solid waste             |\n",
      "|code enforcement             |code enforcement services|dsd/code enforcement    |\n",
      "|graffiti                     |code enforcement services|dsd/code enforcement    |\n",
      "|district 3                   |city council             |city council            |\n",
      "|streets                      |trans & cap improvements |trans & cap improvements|\n",
      "|reservations                 |parks and recreation     |parks & recreation      |\n",
      "|code enforcement (internal)  |null                     |dsd/code enforcement    |\n",
      "|district 10                  |city council             |city council            |\n",
      "|shops (internal)             |parks and recreation     |parks & recreation      |\n",
      "|vector                       |metro health             |metro health            |\n",
      "|field operations             |animal care services     |animal care services    |\n",
      "|traffic engineering design   |trans & cap improvements |trans & cap improvements|\n",
      "|dangerous premise            |code enforcement services|dsd/code enforcement    |\n",
      "|engineering division         |development services     |dsd/code enforcement    |\n",
      "|solid waste                  |solid waste management   |solid waste             |\n",
      "|district 6                   |city council             |city council            |\n",
      "|district 1                   |city council             |city council            |\n",
      "|tree crew                    |parks and recreation     |parks & recreation      |\n",
      "|miscellaneous                |solid waste management   |solid waste             |\n",
      "|trades                       |parks and recreation     |parks & recreation      |\n",
      "|clean and green natural areas|parks and recreation     |parks & recreation      |\n",
      "+-----------------------------+-------------------------+------------------------+\n",
      "\n"
     ]
    }
   ],
   "source": [
    "df.select('dept_division',\n",
    "          'dept_name',\n",
    "          'dept_name_std').distinct() \\\n",
    "  .show(50, truncate=False)"
   ]
  },
  {
   "cell_type": "markdown",
   "metadata": {},
   "source": [
    "dept_name is null for internal code enforcement, so we should change that value. But first, let's make a list of each field's values."
   ]
  },
  {
   "cell_type": "code",
   "execution_count": 27,
   "metadata": {},
   "outputs": [
    {
     "name": "stdout",
     "output_type": "stream",
     "text": [
      "+-----------------------------+\n",
      "|dept_division                |\n",
      "+-----------------------------+\n",
      "|code enforcement             |\n",
      "|storm water engineering      |\n",
      "|district 6                   |\n",
      "|shops (internal)             |\n",
      "|graffiti (intexp)            |\n",
      "|graffiti                     |\n",
      "|code enforcement (internal)  |\n",
      "|district 10                  |\n",
      "|food establishments          |\n",
      "|traffic engineering design   |\n",
      "|trades                       |\n",
      "|district 7                   |\n",
      "|district 9                   |\n",
      "|brush                        |\n",
      "|district 8                   |\n",
      "|engineering division         |\n",
      "|district 3                   |\n",
      "|streets                      |\n",
      "|dangerous premise (intexp)   |\n",
      "|shops                        |\n",
      "|clean and green              |\n",
      "|dangerous premise            |\n",
      "|waste collection             |\n",
      "|signals                      |\n",
      "|field operations             |\n",
      "|storm water                  |\n",
      "|311 call center              |\n",
      "|code enforcement (intexp)    |\n",
      "|director's office horizontal |\n",
      "|district 1                   |\n",
      "|reservations                 |\n",
      "|tree crew                    |\n",
      "|vector                       |\n",
      "|clean and green natural areas|\n",
      "|facility license             |\n",
      "|miscellaneous                |\n",
      "|solid waste                  |\n",
      "|signs and markings           |\n",
      "|district 2                   |\n",
      "+-----------------------------+\n",
      "\n"
     ]
    }
   ],
   "source": [
    "df.select('dept_division').distinct() \\\n",
    "  .show(50, truncate=False)"
   ]
  },
  {
   "cell_type": "code",
   "execution_count": 24,
   "metadata": {},
   "outputs": [
    {
     "name": "stdout",
     "output_type": "stream",
     "text": [
      "+-------------------------+\n",
      "|dept_name                |\n",
      "+-------------------------+\n",
      "|metro health             |\n",
      "|city council             |\n",
      "|animal care services     |\n",
      "|null                     |\n",
      "|solid waste management   |\n",
      "|code enforcement services|\n",
      "|parks and recreation     |\n",
      "|customer service         |\n",
      "|trans & cap improvements |\n",
      "|development services     |\n",
      "+-------------------------+\n",
      "\n"
     ]
    }
   ],
   "source": [
    "df.select('dept_name').distinct().show(50, truncate=False)\n",
    "# Remember that the null value is used for internal code enforcement cases."
   ]
  },
  {
   "cell_type": "code",
   "execution_count": 25,
   "metadata": {},
   "outputs": [
    {
     "name": "stdout",
     "output_type": "stream",
     "text": [
      "+------------------------+\n",
      "|dept_name_std           |\n",
      "+------------------------+\n",
      "|metro health            |\n",
      "|city council            |\n",
      "|animal care services    |\n",
      "|dsd/code enforcement    |\n",
      "|parks & recreation      |\n",
      "|customer service        |\n",
      "|trans & cap improvements|\n",
      "|solid waste             |\n",
      "+------------------------+\n",
      "\n"
     ]
    }
   ],
   "source": [
    "df.select('dept_name_std').distinct().show(50, truncate=False)\n",
    "# This one does not have null,\n",
    "# shortened solid waste management to solid waste,\n",
    "# and appears to have combined \n",
    "# code enforcement services and development services."
   ]
  },
  {
   "cell_type": "markdown",
   "metadata": {},
   "source": [
    "Drop dept_name_std."
   ]
  },
  {
   "cell_type": "code",
   "execution_count": 28,
   "metadata": {},
   "outputs": [],
   "source": [
    "df = df.drop('dept_name_std')"
   ]
  },
  {
   "cell_type": "markdown",
   "metadata": {},
   "source": [
    "Fill the null fields with internal code enforcement."
   ]
  },
  {
   "cell_type": "code",
   "execution_count": 29,
   "metadata": {},
   "outputs": [],
   "source": [
    "df = df.na.fill({\"dept_name\": \"internal code enforcement\"})"
   ]
  },
  {
   "cell_type": "markdown",
   "metadata": {},
   "source": [
    "Now let's see what we have."
   ]
  },
  {
   "cell_type": "code",
   "execution_count": 30,
   "metadata": {},
   "outputs": [
    {
     "name": "stdout",
     "output_type": "stream",
     "text": [
      "root\n",
      " |-- dept_division: string (nullable = true)\n",
      " |-- request_type: string (nullable = true)\n",
      " |-- dept_name: string (nullable = false)\n",
      " |-- case_closed: boolean (nullable = true)\n",
      " |-- target: integer (nullable = false)\n",
      " |-- dept_w_SLA: boolean (nullable = true)\n",
      " |-- days_late: double (nullable = true)\n",
      " |-- SLA_days: double (nullable = true)\n",
      " |-- request_address_zip: string (nullable = true)\n",
      " |-- council_district: integer (nullable = true)\n",
      "\n"
     ]
    }
   ],
   "source": [
    "df.printSchema()"
   ]
  },
  {
   "cell_type": "code",
   "execution_count": 31,
   "metadata": {},
   "outputs": [
    {
     "name": "stdout",
     "output_type": "stream",
     "text": [
      "-RECORD 0-----------------------------------\n",
      " dept_division       | field operations     \n",
      " request_type        | stray animal         \n",
      " dept_name           | animal care services \n",
      " case_closed         | true                 \n",
      " target              | 0                    \n",
      " dept_w_SLA          | true                 \n",
      " days_late           | -998.51              \n",
      " SLA_days            | 999.0                \n",
      " request_address_zip | 78207                \n",
      " council_district    | 5                    \n",
      "only showing top 1 row\n",
      "\n"
     ]
    }
   ],
   "source": [
    "df.show(1, vertical=True, truncate=False, )"
   ]
  },
  {
   "cell_type": "markdown",
   "metadata": {},
   "source": [
    "Filter out the closed cases since we only wish to examine those that are still open."
   ]
  },
  {
   "cell_type": "code",
   "execution_count": 33,
   "metadata": {},
   "outputs": [],
   "source": [
    "# __THIS__ is a placeholder for the DataFrame \n",
    "# passed into the transform method.\n",
    "filterer = SQLTransformer(\n",
    "    statement=\"SELECT * FROM __THIS__ WHERE \\\n",
    "           dept_w_SLA AND case_closed\")\n",
    "\n",
    "filtered = filterer.transform(df)"
   ]
  },
  {
   "cell_type": "code",
   "execution_count": 34,
   "metadata": {},
   "outputs": [
    {
     "name": "stdout",
     "output_type": "stream",
     "text": [
      "+------+------+\n",
      "|target| count|\n",
      "+------+------+\n",
      "|     0|735612|\n",
      "|     1| 87978|\n",
      "+------+------+\n",
      "\n"
     ]
    }
   ],
   "source": [
    "filtered.\\\n",
    "    groupBy('target').\\\n",
    "    count().orderBy('target').show()"
   ]
  },
  {
   "cell_type": "code",
   "execution_count": 35,
   "metadata": {},
   "outputs": [
    {
     "name": "stdout",
     "output_type": "stream",
     "text": [
      "root\n",
      " |-- dept_division: string (nullable = true)\n",
      " |-- request_type: string (nullable = true)\n",
      " |-- dept_name: string (nullable = false)\n",
      " |-- case_closed: boolean (nullable = true)\n",
      " |-- target: integer (nullable = false)\n",
      " |-- dept_w_SLA: boolean (nullable = true)\n",
      " |-- days_late: double (nullable = true)\n",
      " |-- SLA_days: double (nullable = true)\n",
      " |-- request_address_zip: string (nullable = true)\n",
      " |-- council_district: integer (nullable = true)\n",
      "\n"
     ]
    }
   ],
   "source": [
    "filtered.printSchema()"
   ]
  },
  {
   "cell_type": "markdown",
   "metadata": {},
   "source": [
    "#### Extract, transform, and select features\n",
    "Create function to explore features:"
   ]
  },
  {
   "cell_type": "code",
   "execution_count": 36,
   "metadata": {},
   "outputs": [],
   "source": [
    "def explore(df, target, cont1, cont2):\n",
    "    from pyspark.sql.functions import count, mean, corr\n",
    "    aggregated = df.groupby(target).agg(count(cont1), \n",
    "                                      mean(cont1),\n",
    "                                      mean(cont2),\n",
    "                                      corr(cont1,cont2)\n",
    "                                     ).orderBy(target)\n",
    "    aggregated.show()"
   ]
  },
  {
   "cell_type": "code",
   "execution_count": 37,
   "metadata": {},
   "outputs": [
    {
     "name": "stdout",
     "output_type": "stream",
     "text": [
      "+------+---------------+-----------------+------------------+-------------------------+\n",
      "|target|count(SLA_days)|    avg(SLA_days)|    avg(days_late)|corr(SLA_days, days_late)|\n",
      "+------+---------------+-----------------+------------------+-------------------------+\n",
      "|     0|         735612|64.44108282626885|-58.57142732854064|      -0.9976264528231141|\n",
      "|     1|          87978|14.20260667439587|22.111734751869747|      0.24758733973851244|\n",
      "+------+---------------+-----------------+------------------+-------------------------+\n",
      "\n"
     ]
    }
   ],
   "source": [
    "explore(filtered, 'target','SLA_days','days_late')"
   ]
  },
  {
   "cell_type": "markdown",
   "metadata": {},
   "source": [
    "Takeaway: the cases that are past their due date seem to have shorter SLA's"
   ]
  },
  {
   "cell_type": "code",
   "execution_count": 38,
   "metadata": {},
   "outputs": [],
   "source": [
    "sample_pdf = filtered.select('SLA_days', 'days_late', 'target'). \\\n",
    "  sample(False, 0.20, 12345). \\\n",
    "  toPandas()"
   ]
  },
  {
   "cell_type": "code",
   "execution_count": 41,
   "metadata": {},
   "outputs": [
    {
     "data": {
      "image/png": "[encoded data removed]",
      "text/plain": [
       "<Figure size 432x288 with 1 Axes>"
      ]
     },
     "metadata": {
      "needs_background": "light"
     },
     "output_type": "display_data"
    }
   ],
   "source": [
    "sns.scatterplot(x=sample_pdf.SLA_days, \n",
    "                y=sample_pdf.days_late,\n",
    "                hue=sample_pdf.target\n",
    "               )\n",
    "\n",
    "plt.show()"
   ]
  },
  {
   "cell_type": "code",
   "execution_count": 43,
   "metadata": {},
   "outputs": [
    {
     "name": "stdout",
     "output_type": "stream",
     "text": [
      "+--------------------+------------+\n",
      "|           dept_name|dept_name_ix|\n",
      "+--------------------+------------+\n",
      "|animal care services|         2.0|\n",
      "|trans & cap impro...|         3.0|\n",
      "|trans & cap impro...|         3.0|\n",
      "|code enforcement ...|         0.0|\n",
      "|animal care services|         2.0|\n",
      "+--------------------+------------+\n",
      "only showing top 5 rows\n",
      "\n"
     ]
    }
   ],
   "source": [
    "from pyspark.ml.feature import StringIndexer\n",
    "indexer = StringIndexer(inputCol=\"dept_name\", outputCol=\"dept_name_ix\")\n",
    "indexer_model = indexer.fit(filtered)\n",
    "list(enumerate(indexer_model.labels))\n",
    "indexed = indexer_model.transform(filtered)\n",
    "indexed.select(\"dept_name\", \"dept_name_ix\").show(5)"
   ]
  },
  {
   "cell_type": "markdown",
   "metadata": {},
   "source": [
    "Then we use OneHotEncoder to generate a set of dummy variables:"
   ]
  },
  {
   "cell_type": "code",
   "execution_count": 44,
   "metadata": {},
   "outputs": [
    {
     "name": "stdout",
     "output_type": "stream",
     "text": [
      "+--------------------+------------+-------------+\n",
      "|           dept_name|dept_name_ix| dept_name_cd|\n",
      "+--------------------+------------+-------------+\n",
      "|animal care services|         2.0|(8,[2],[1.0])|\n",
      "|trans & cap impro...|         3.0|(8,[3],[1.0])|\n",
      "|trans & cap impro...|         3.0|(8,[3],[1.0])|\n",
      "|code enforcement ...|         0.0|(8,[0],[1.0])|\n",
      "|animal care services|         2.0|(8,[2],[1.0])|\n",
      "+--------------------+------------+-------------+\n",
      "only showing top 5 rows\n",
      "\n"
     ]
    }
   ],
   "source": [
    "from pyspark.ml.feature import OneHotEncoder\n",
    "encoder = OneHotEncoder(inputCol=\"dept_name_ix\", outputCol=\"dept_name_cd\")\n",
    "encoded = encoder.transform(indexed)\n",
    "encoded.select(\"dept_name\", \"dept_name_ix\", \"dept_name_cd\").show(5)"
   ]
  },
  {
   "cell_type": "markdown",
   "metadata": {},
   "source": [
    "cat_var1_cd is stored as a SparseVector.\n",
    "\n",
    "Now we can (manually) select our features and label:"
   ]
  },
  {
   "cell_type": "code",
   "execution_count": 45,
   "metadata": {},
   "outputs": [],
   "source": [
    "selected = encoded.select(\"SLA_days\", \"dept_name_cd\", \"target\")\n",
    "features = [\"SLA_days\", \"dept_name_cd\"]"
   ]
  },
  {
   "cell_type": "markdown",
   "metadata": {},
   "source": [
    "The machine learning algorithms in Spark MLlib expect the features to be collected into a single column, so we use VectorAssembler to assemble our feature vector:"
   ]
  },
  {
   "cell_type": "code",
   "execution_count": 46,
   "metadata": {},
   "outputs": [
    {
     "data": {
      "text/plain": [
       "[Row(SLA_days=999.0, dept_name_cd=SparseVector(8, {2: 1.0}), target=0, features=SparseVector(9, {0: 999.0, 3: 1.0})),\n",
       " Row(SLA_days=4.32, dept_name_cd=SparseVector(8, {3: 1.0}), target=0, features=SparseVector(9, {0: 4.32, 4: 1.0})),\n",
       " Row(SLA_days=4.32, dept_name_cd=SparseVector(8, {3: 1.0}), target=0, features=SparseVector(9, {0: 4.32, 4: 1.0})),\n",
       " Row(SLA_days=16.29, dept_name_cd=SparseVector(8, {0: 1.0}), target=0, features=SparseVector(9, {0: 16.29, 1: 1.0})),\n",
       " Row(SLA_days=0.13, dept_name_cd=SparseVector(8, {2: 1.0}), target=1, features=SparseVector(9, {0: 0.13, 3: 1.0}))]"
      ]
     },
     "execution_count": 46,
     "metadata": {},
     "output_type": "execute_result"
    }
   ],
   "source": [
    "from pyspark.ml.feature import VectorAssembler\n",
    "assembler = VectorAssembler(inputCols=features, outputCol=\"features\")\n",
    "assembled = assembler.transform(selected)\n",
    "assembled.head(5)"
   ]
  },
  {
   "cell_type": "markdown",
   "metadata": {},
   "source": [
    "features is stored as a SparseVector.\n",
    "\n",
    "Save data for subsequent modules:"
   ]
  },
  {
   "cell_type": "code",
   "execution_count": 47,
   "metadata": {},
   "outputs": [],
   "source": [
    "assembled.write.parquet(\"sa311/assembled\", mode=\"overwrite\")"
   ]
  },
  {
   "cell_type": "markdown",
   "metadata": {},
   "source": [
    "1. Use the .randomSplit method to split the 311 data into training and test sets."
   ]
  },
  {
   "cell_type": "markdown",
   "metadata": {},
   "source": [
    "#### Create train and test sets\n",
    "\n",
    "We will fit our model on the train DataFrame and evaluate our model on the test DataFrame:"
   ]
  },
  {
   "cell_type": "code",
   "execution_count": 48,
   "metadata": {},
   "outputs": [],
   "source": [
    "(train, test) = assembled.randomSplit([0.7, 0.3], 12345)"
   ]
  },
  {
   "cell_type": "code",
   "execution_count": null,
   "metadata": {},
   "outputs": [],
   "source": []
  },
  {
   "cell_type": "markdown",
   "metadata": {},
   "source": [
    "2. Create a classification model to predict whether a case will be late or not (i.e. predict case_late). Experiment with different combinations of features and different classification algorithms."
   ]
  },
  {
   "cell_type": "markdown",
   "metadata": {},
   "source": [
    "Weights must be doubles.\n",
    "\n",
    "#### Specify a logistic regression model\n",
    "\n",
    "Use the LogisticRegression class to specify a logistic regression model:"
   ]
  },
  {
   "cell_type": "code",
   "execution_count": 49,
   "metadata": {},
   "outputs": [],
   "source": [
    "from pyspark.ml.classification import LogisticRegression\n",
    "log_reg = LogisticRegression(featuresCol=\"features\", labelCol=\"target\")"
   ]
  },
  {
   "cell_type": "markdown",
   "metadata": {},
   "source": [
    "Use the explainParams method to get a full list of hyperparameters:"
   ]
  },
  {
   "cell_type": "code",
   "execution_count": 50,
   "metadata": {},
   "outputs": [
    {
     "name": "stdout",
     "output_type": "stream",
     "text": [
      "aggregationDepth: suggested depth for treeAggregate (>= 2). (default: 2)\n",
      "elasticNetParam: the ElasticNet mixing parameter, in range [0, 1]. For alpha = 0, the penalty is an L2 penalty. For alpha = 1, it is an L1 penalty. (default: 0.0)\n",
      "family: The name of family which is a description of the label distribution to be used in the model. Supported options: auto, binomial, multinomial (default: auto)\n",
      "featuresCol: features column name. (default: features, current: features)\n",
      "fitIntercept: whether to fit an intercept term. (default: True)\n",
      "labelCol: label column name. (default: label, current: target)\n",
      "lowerBoundsOnCoefficients: The lower bounds on coefficients if fitting under bound constrained optimization. The bound matrix must be compatible with the shape (1, number of features) for binomial regression, or (number of classes, number of features) for multinomial regression. (undefined)\n",
      "lowerBoundsOnIntercepts: The lower bounds on intercepts if fitting under bound constrained optimization. The bounds vector size must beequal with 1 for binomial regression, or the number oflasses for multinomial regression. (undefined)\n",
      "maxIter: max number of iterations (>= 0). (default: 100)\n",
      "predictionCol: prediction column name. (default: prediction)\n",
      "probabilityCol: Column name for predicted class conditional probabilities. Note: Not all models output well-calibrated probability estimates! These probabilities should be treated as confidences, not precise probabilities. (default: probability)\n",
      "rawPredictionCol: raw prediction (a.k.a. confidence) column name. (default: rawPrediction)\n",
      "regParam: regularization parameter (>= 0). (default: 0.0)\n",
      "standardization: whether to standardize the training features before fitting the model. (default: True)\n",
      "threshold: Threshold in binary classification prediction, in range [0, 1]. If threshold and thresholds are both set, they must match.e.g. if threshold is p, then thresholds must be equal to [1-p, p]. (default: 0.5)\n",
      "thresholds: Thresholds in multi-class classification to adjust the probability of predicting each class. Array must have length equal to the number of classes, with values > 0, excepting that at most one value may be 0. The class with largest value p/t is predicted, where p is the original probability of that class and t is the class's threshold. (undefined)\n",
      "tol: the convergence tolerance for iterative algorithms (>= 0). (default: 1e-06)\n",
      "upperBoundsOnCoefficients: The upper bounds on coefficients if fitting under bound constrained optimization. The bound matrix must be compatible with the shape (1, number of features) for binomial regression, or (number of classes, number of features) for multinomial regression. (undefined)\n",
      "upperBoundsOnIntercepts: The upper bounds on intercepts if fitting under bound constrained optimization. The bound vector size must be equal with 1 for binomial regression, or the number of classes for multinomial regression. (undefined)\n",
      "weightCol: weight column name. If this is not set or empty, we treat all instance weights as 1.0. (undefined)\n"
     ]
    }
   ],
   "source": [
    "print(log_reg.explainParams())"
   ]
  },
  {
   "cell_type": "markdown",
   "metadata": {},
   "source": [
    "#### Fit the logistic regression model\n",
    "Use the fit method to fit the logistic regression model on the train DataFrame:"
   ]
  },
  {
   "cell_type": "code",
   "execution_count": 51,
   "metadata": {},
   "outputs": [],
   "source": [
    "log_reg_model = log_reg.fit(train)"
   ]
  },
  {
   "cell_type": "markdown",
   "metadata": {},
   "source": [
    "The result is an instance of the LogisticRegressionModel class:"
   ]
  },
  {
   "cell_type": "code",
   "execution_count": 52,
   "metadata": {},
   "outputs": [
    {
     "data": {
      "text/plain": [
       "pyspark.ml.classification.LogisticRegressionModel"
      ]
     },
     "execution_count": 52,
     "metadata": {},
     "output_type": "execute_result"
    }
   ],
   "source": [
    "type(log_reg_model)"
   ]
  },
  {
   "cell_type": "markdown",
   "metadata": {},
   "source": [
    "#### Examine the logistic regression model\n",
    "The model parameters are stored in the intercept and coefficients attributes:\n"
   ]
  },
  {
   "cell_type": "code",
   "execution_count": 53,
   "metadata": {},
   "outputs": [
    {
     "data": {
      "text/plain": [
       "DenseVector([-0.0165, -2.0369, -2.1576, -1.2221, -2.7785, -1.4834, -1.6436, 0.1187, 2.6067])"
      ]
     },
     "execution_count": 53,
     "metadata": {},
     "output_type": "execute_result"
    }
   ],
   "source": [
    "log_reg_model.intercept\n",
    "log_reg_model.coefficients"
   ]
  },
  {
   "cell_type": "markdown",
   "metadata": {},
   "source": [
    "The summary attribute is an instance of the BinaryLogisticRegressionTrainingSummary class:"
   ]
  },
  {
   "cell_type": "code",
   "execution_count": 54,
   "metadata": {},
   "outputs": [
    {
     "data": {
      "text/plain": [
       "pyspark.ml.classification.BinaryLogisticRegressionTrainingSummary"
      ]
     },
     "execution_count": 54,
     "metadata": {},
     "output_type": "execute_result"
    }
   ],
   "source": [
    "type(log_reg_model.summary)"
   ]
  },
  {
   "cell_type": "markdown",
   "metadata": {},
   "source": [
    "We can query the iteration history:"
   ]
  },
  {
   "cell_type": "code",
   "execution_count": 55,
   "metadata": {},
   "outputs": [
    {
     "data": {
      "text/plain": [
       "[0.3392421562440491,\n",
       " 0.3315334781193492,\n",
       " 0.3206644997947879,\n",
       " 0.3183481101392615,\n",
       " 0.31755529449485603,\n",
       " 0.31712331561943446,\n",
       " 0.31635776779661284,\n",
       " 0.31570139507978195,\n",
       " 0.3149374337733971,\n",
       " 0.31418769670016844,\n",
       " 0.3140280942418927,\n",
       " 0.3139810232131948,\n",
       " 0.3139708380378608,\n",
       " 0.3139707216201347,\n",
       " 0.313970685029307,\n",
       " 0.31397061072198146,\n",
       " 0.31397042711039175,\n",
       " 0.31396994128073263,\n",
       " 0.3139687238751262,\n",
       " 0.3139656807749887,\n",
       " 0.3139578683569557,\n",
       " 0.31393967712100757,\n",
       " 0.3139308257080037,\n",
       " 0.3138986098916888,\n",
       " 0.3138819386361396,\n",
       " 0.31387784085055764,\n",
       " 0.31387773180136724,\n",
       " 0.3138777058007543,\n",
       " 0.31387769834700435,\n",
       " 0.31387767507570613,\n",
       " 0.3138776728874259,\n",
       " 0.3138776658752167,\n",
       " 0.31387766555619145,\n",
       " 0.31387766553947377,\n",
       " 0.3138776655308732]"
      ]
     },
     "execution_count": 55,
     "metadata": {},
     "output_type": "execute_result"
    }
   ],
   "source": [
    "log_reg_model.summary.totalIterations\n",
    "log_reg_model.summary.objectiveHistory"
   ]
  },
  {
   "cell_type": "markdown",
   "metadata": {},
   "source": [
    "and plot it too:"
   ]
  },
  {
   "cell_type": "code",
   "execution_count": 56,
   "metadata": {},
   "outputs": [],
   "source": [
    "def plot_iterations(summary):\n",
    "  plt.plot(summary.objectiveHistory)\n",
    "  plt.title(\"Training Summary\")\n",
    "  plt.xlabel(\"Iteration\")\n",
    "  plt.ylabel(\"Objective Function\")\n",
    "  plt.show()"
   ]
  },
  {
   "cell_type": "code",
   "execution_count": 57,
   "metadata": {},
   "outputs": [
    {
     "data": {
      "image/png": "[encoded data removed]",
      "text/plain": [
       "<Figure size 432x288 with 1 Axes>"
      ]
     },
     "metadata": {
      "needs_background": "light"
     },
     "output_type": "display_data"
    }
   ],
   "source": [
    "plot_iterations(log_reg_model.summary)"
   ]
  },
  {
   "attachments": {
    "image.png": {
     "image/png": "[encoded data removed]"
    }
   },
   "cell_type": "markdown",
   "metadata": {},
   "source": [
    "### The AUC-ROC Curve\n",
    "- AUC: Area Under The Curve\n",
    "- ROC: Receiver Operating Characteristics\n",
    "- TPR: True Positive Rate\n",
    "- FPR: False Positive Rate\n",
    "\n",
    "##### AUC - ROC curve is a performance measurement for classification problem at various thresholds settings. ROC is a probability curve and AUC represents degree or measure of separability. It tells how much model is capable of distinguishing between classes. Higher the AUC, better the model is at predicting 0s as 0s and 1s as 1s. For example, the higher the AUC, the better the model is at distinguishing between patients with disease and no disease. The ROC curve is plotted with TPR against the FPR where TPR is on y-axis and FPR is on the x-axis.\n",
    "\n",
    "![image.png](attachment:image.png)\n",
    "\n",
    "#### Understanding AUC-ROC Curve\n",
    "\n",
    "To query the area under the ROC curve to measure the model's performance:\n"
   ]
  },
  {
   "cell_type": "code",
   "execution_count": 58,
   "metadata": {},
   "outputs": [
    {
     "data": {
      "text/plain": [
       "0.6745558810195302"
      ]
     },
     "execution_count": 58,
     "metadata": {},
     "output_type": "execute_result"
    }
   ],
   "source": [
    "log_reg_model.summary.areaUnderROC"
   ]
  },
  {
   "cell_type": "markdown",
   "metadata": {},
   "source": [
    "and plot the ROC curve:"
   ]
  },
  {
   "cell_type": "code",
   "execution_count": 59,
   "metadata": {},
   "outputs": [
    {
     "name": "stdout",
     "output_type": "stream",
     "text": [
      "+--------------------+--------------------+\n",
      "|                 FPR|                 TPR|\n",
      "+--------------------+--------------------+\n",
      "|                 0.0|                 0.0|\n",
      "|2.679944692155918...|0.003077674645823...|\n",
      "|6.932900399272919E-4|0.014329913694837975|\n",
      "|0.001332204390448...|0.015583781143136298|\n",
      "| 0.09345433218885454| 0.27964500895619604|\n",
      "+--------------------+--------------------+\n",
      "only showing top 5 rows\n",
      "\n"
     ]
    }
   ],
   "source": [
    "log_reg_model.summary.roc.show(5)"
   ]
  },
  {
   "cell_type": "code",
   "execution_count": 60,
   "metadata": {},
   "outputs": [],
   "source": [
    "def plot_roc_curve(summary):\n",
    "  roc_curve = summary.roc.toPandas()\n",
    "  plt.plot(roc_curve[\"FPR\"], roc_curve[\"FPR\"], \"k\")\n",
    "  plt.plot(roc_curve[\"FPR\"], roc_curve[\"TPR\"])\n",
    "  plt.title(\"ROC Area: %s\" % summary.areaUnderROC)\n",
    "  plt.xlabel(\"False Positive Rate\")\n",
    "  plt.ylabel(\"True Positive Rate\")\n",
    "  plt.show()"
   ]
  },
  {
   "cell_type": "code",
   "execution_count": 61,
   "metadata": {},
   "outputs": [
    {
     "data": {
      "image/png": "[encoded data removed]",
      "text/plain": [
       "<Figure size 432x288 with 1 Axes>"
      ]
     },
     "metadata": {
      "needs_background": "light"
     },
     "output_type": "display_data"
    }
   ],
   "source": [
    "plot_roc_curve(log_reg_model.summary)"
   ]
  },
  {
   "cell_type": "markdown",
   "metadata": {},
   "source": [
    "### Evaluate model performance on the test set.\n",
    "We have been assessing the model performance on the train DataFrame. We really want to assess it on the test DataFrame.\n",
    "\n",
    "Method 1: Use the evaluate method of the LogisticRegressionModel class"
   ]
  },
  {
   "cell_type": "code",
   "execution_count": 62,
   "metadata": {},
   "outputs": [],
   "source": [
    "test_summary = log_reg_model.evaluate(test)"
   ]
  },
  {
   "cell_type": "markdown",
   "metadata": {},
   "source": [
    "The result is an instance of the BinaryLogisticRegressionSummary class:"
   ]
  },
  {
   "cell_type": "code",
   "execution_count": 63,
   "metadata": {},
   "outputs": [
    {
     "data": {
      "text/plain": [
       "pyspark.ml.classification.BinaryLogisticRegressionSummary"
      ]
     },
     "execution_count": 63,
     "metadata": {},
     "output_type": "execute_result"
    }
   ],
   "source": [
    "type(test_summary)"
   ]
  },
  {
   "cell_type": "markdown",
   "metadata": {},
   "source": [
    "It has attributes similar to those of the BinaryLogisticRegressionTrainingSummary class:"
   ]
  },
  {
   "cell_type": "code",
   "execution_count": 64,
   "metadata": {},
   "outputs": [
    {
     "data": {
      "image/png": "[encoded data removed]",
      "text/plain": [
       "<Figure size 432x288 with 1 Axes>"
      ]
     },
     "metadata": {
      "needs_background": "light"
     },
     "output_type": "display_data"
    }
   ],
   "source": [
    "test_summary.areaUnderROC\n",
    "plot_roc_curve(test_summary)"
   ]
  },
  {
   "cell_type": "markdown",
   "metadata": {},
   "source": [
    "Method 2: Use the evaluate method of the BinaryClassificationEvaluator class.\n",
    "\n",
    "Generate predictions on the test DataFrame:"
   ]
  },
  {
   "cell_type": "code",
   "execution_count": 66,
   "metadata": {},
   "outputs": [
    {
     "name": "stdout",
     "output_type": "stream",
     "text": [
      "+--------+-------------+------+--------------------+--------------------+--------------------+----------+\n",
      "|SLA_days| dept_name_cd|target|            features|       rawPrediction|         probability|prediction|\n",
      "+--------+-------------+------+--------------------+--------------------+--------------------+----------+\n",
      "|    0.13|(8,[2],[1.0])|     0|(9,[0,3],[0.13,1.0])|[1.00711795493807...|[0.73245574973431...|       0.0|\n",
      "|    0.13|(8,[2],[1.0])|     0|(9,[0,3],[0.13,1.0])|[1.00711795493807...|[0.73245574973431...|       0.0|\n",
      "|    0.13|(8,[2],[1.0])|     0|(9,[0,3],[0.13,1.0])|[1.00711795493807...|[0.73245574973431...|       0.0|\n",
      "|    0.13|(8,[2],[1.0])|     0|(9,[0,3],[0.13,1.0])|[1.00711795493807...|[0.73245574973431...|       0.0|\n",
      "|    0.13|(8,[2],[1.0])|     0|(9,[0,3],[0.13,1.0])|[1.00711795493807...|[0.73245574973431...|       0.0|\n",
      "+--------+-------------+------+--------------------+--------------------+--------------------+----------+\n",
      "only showing top 5 rows\n",
      "\n"
     ]
    }
   ],
   "source": [
    "test_with_prediction = log_reg_model.transform(test)\n",
    "test_with_prediction.show(5)"
   ]
  },
  {
   "cell_type": "markdown",
   "metadata": {},
   "source": [
    "The resulting DataFrame includes three types of predictions. The rawPrediction is a vector of log-odds, prediction is a vector or probabilities prediction is the predicted class based on the probability vector."
   ]
  },
  {
   "cell_type": "markdown",
   "metadata": {},
   "source": [
    "# My understanding is the other exercises section replaced this one, so I did not do this.\n",
    "\n",
    "# Exercises\n",
    "In the exercises we add another feature to the classification model and determine if it improves the model performance.\n",
    "\n",
    "1. Determine if request_address_zip is a promising feature.\n",
    "\n",
    "2. Reassemble the feature vector and include request_address_zip.\n",
    "\n",
    "3. Create new train and test datasets.\n",
    "\n",
    "4. Refit the logistic regression model on the train dataset.\n",
    "\n",
    "5. Apply the refit logistic model to the test dataset.\n",
    "\n",
    "6. Compute the AUC on the test dataset."
   ]
  },
  {
   "cell_type": "markdown",
   "metadata": {},
   "source": [
    "# Cleanup\n",
    "Stop the SparkSession"
   ]
  },
  {
   "cell_type": "code",
   "execution_count": null,
   "metadata": {},
   "outputs": [],
   "source": [
    "spark.stop()"
   ]
  },
  {
   "cell_type": "code",
   "execution_count": null,
   "metadata": {},
   "outputs": [],
   "source": []
  }
 ],
 "metadata": {
  "kernelspec": {
   "display_name": "Python 3",
   "language": "python",
   "name": "python3"
  },
  "language_info": {
   "codemirror_mode": {
    "name": "ipython",
    "version": 3
   },
   "file_extension": ".py",
   "mimetype": "text/x-python",
   "name": "python",
   "nbconvert_exporter": "python",
   "pygments_lexer": "ipython3",
   "version": "3.7.1"
  }
 },
 "nbformat": 4,
 "nbformat_minor": 2
}
