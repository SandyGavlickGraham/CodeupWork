{
 "cells": [
  {
   "cell_type": "markdown",
   "metadata": {},
   "source": [
    "# Prepare\n",
    "Do your work in a file named prepare for these exercises."
   ]
  },
  {
   "cell_type": "code",
   "execution_count": 1,
   "metadata": {},
   "outputs": [],
   "source": [
    "import pandas as pd\n",
    "import warnings\n",
    "warnings.filterwarnings(\"ignore\")\n",
    "\n",
    "from pyspark.sql import SparkSession, DataFrame, Column, Row, GroupedData, \\\n",
    "    DataFrameNaFunctions, DataFrameStatFunctions, functions, types, Window\n",
    "from pyspark.sql.functions import col, expr\n",
    "from pyspark.sql import functions as f\n",
    "import pyspark.sql.types as T\n",
    "from pyspark.sql.functions import round\n",
    "from pyspark.sql.functions import format_string\n",
    "from pyspark.sql.functions import trim, upper\n",
    "from pyspark.sql.functions import substring\n",
    "from pyspark.sql.functions import regexp_extract\n",
    "from pyspark.sql.functions import sum, sumDistinct\n",
    "import datetime\n",
    "from pyspark.sql.functions import year, month, dayofmonth\n",
    "from pyspark.sql.functions import count, countDistinct, approx_count_distinct\n",
    "from pyspark.sql.functions import mean, stddev, variance, skewness, kurtosis\n"
   ]
  },
  {
   "cell_type": "markdown",
   "metadata": {},
   "source": [
    "## Part 1\n",
    "1. Read the case.csv file from the 311 call data into a Spark DataFrame."
   ]
  },
  {
   "cell_type": "code",
   "execution_count": 2,
   "metadata": {},
   "outputs": [],
   "source": [
    "spark = SparkSession.builder \\\n",
    "                    .master(\"local\") \\\n",
    "                    .appName(\"read\") \\\n",
    "                    .enableHiveSupport() \\\n",
    "                    .getOrCreate()\n",
    "\n",
    "data = \"sa311/case.csv\""
   ]
  },
  {
   "cell_type": "code",
   "execution_count": 3,
   "metadata": {},
   "outputs": [],
   "source": [
    "df = spark.read\\\n",
    "          .csv(data, \n",
    "               header=True, \n",
    "               inferSchema=True)"
   ]
  },
  {
   "cell_type": "code",
   "execution_count": 4,
   "metadata": {},
   "outputs": [
    {
     "name": "stdout",
     "output_type": "stream",
     "text": [
      "root\n",
      " |-- case_id: integer (nullable = true)\n",
      " |-- case_opened_date: string (nullable = true)\n",
      " |-- case_closed_date: string (nullable = true)\n",
      " |-- SLA_due_date: string (nullable = true)\n",
      " |-- case_late: string (nullable = true)\n",
      " |-- num_days_late: double (nullable = true)\n",
      " |-- case_closed: string (nullable = true)\n",
      " |-- dept_division: string (nullable = true)\n",
      " |-- service_request_type: string (nullable = true)\n",
      " |-- SLA_days: double (nullable = true)\n",
      " |-- case_status: string (nullable = true)\n",
      " |-- source_id: string (nullable = true)\n",
      " |-- request_address: string (nullable = true)\n",
      " |-- council_district: integer (nullable = true)\n",
      "\n"
     ]
    }
   ],
   "source": [
    "df.printSchema()"
   ]
  },
  {
   "cell_type": "markdown",
   "metadata": {},
   "source": [
    "2. How old is the latest (in terms of days past SLA) currently open issue? How long has the oldest (in terms of days since opened) currently opened issue been open?"
   ]
  },
  {
   "cell_type": "code",
   "execution_count": 5,
   "metadata": {},
   "outputs": [],
   "source": [
    "# Convert the date fields to be of data type timestamp.\n",
    "df = df.withColumn(\"case_opened_date\", \n",
    "                   f.to_timestamp(f.col(\"case_opened_date\"), \n",
    "                                  \"M/d/yy H:mm\")) \\\n",
    "       .withColumn(\"case_closed_date\", \n",
    "                   f.to_timestamp(f.col(\"case_closed_date\"),\n",
    "                                  \"M/d/yy H:mm\")) \\\n",
    "       .withColumn(\"SLA_due_date\", \n",
    "                   f.to_timestamp(f.col(\"SLA_due_date\"),\n",
    "                                  \"M/d/yy H:mm\")) \\\n",
    "       .withColumn(\"case_late\", \n",
    "                   f.when(df.case_late == \"YES\", True) \\\n",
    "                    .otherwise(False)) \\\n",
    "       .withColumn(\"case_closed\", f.when(df.case_closed == \"YES\", True) \\\n",
    "                    .otherwise(False))"
   ]
  },
  {
   "cell_type": "code",
   "execution_count": 6,
   "metadata": {},
   "outputs": [],
   "source": [
    "caseOpenFilter = df.case_closed == \"NO\""
   ]
  },
  {
   "cell_type": "code",
   "execution_count": 7,
   "metadata": {},
   "outputs": [
    {
     "name": "stdout",
     "output_type": "stream",
     "text": [
      "-RECORD 0-------------------------------\n",
      " SLA_due_date     | 2022-05-27 15:07:00 \n",
      " case_opened_date | 2018-07-27 15:07:00 \n",
      " case_closed_date | null                \n",
      " case_closed      | false               \n",
      "-RECORD 1-------------------------------\n",
      " SLA_due_date     | 2022-05-25 15:42:00 \n",
      " case_opened_date | 2018-07-25 15:42:00 \n",
      " case_closed_date | null                \n",
      " case_closed      | false               \n",
      "-RECORD 2-------------------------------\n",
      " SLA_due_date     | 2022-05-24 10:01:00 \n",
      " case_opened_date | 2018-07-24 10:01:00 \n",
      " case_closed_date | null                \n",
      " case_closed      | false               \n",
      "only showing top 3 rows\n",
      "\n"
     ]
    }
   ],
   "source": [
    "df.select(\"SLA_due_date\",\n",
    "          \"case_opened_date\",\n",
    "          \"case_closed_date\",\n",
    "          \"case_closed\") \\\n",
    "  .where(caseOpenFilter) \\\n",
    "  .sort(\"SLA_due_date\", ascending=False) \\\n",
    "  .show(3, vertical=True, truncate=False)"
   ]
  },
  {
   "cell_type": "code",
   "execution_count": 8,
   "metadata": {},
   "outputs": [
    {
     "name": "stdout",
     "output_type": "stream",
     "text": [
      "+-----------+------+\n",
      "|case_closed|count |\n",
      "+-----------+------+\n",
      "|true       |823594|\n",
      "|false      |18110 |\n",
      "+-----------+------+\n",
      "\n"
     ]
    }
   ],
   "source": [
    "df.groupBy(\"case_closed\") \\\n",
    "  .count() \\\n",
    "  .show(3, truncate=False)"
   ]
  },
  {
   "cell_type": "code",
   "execution_count": 9,
   "metadata": {},
   "outputs": [
    {
     "name": "stdout",
     "output_type": "stream",
     "text": [
      "-RECORD 0-------------------------------\n",
      " SLA_due_date     | 2017-01-17 08:30:00 \n",
      " days_past_SLA    | 851                 \n",
      " num_days_late    | 348.6458333         \n",
      " case_opened_date | 2017-01-01 13:48:00 \n",
      " case_closed      | false               \n",
      "-RECORD 1-------------------------------\n",
      " SLA_due_date     | 2017-01-17 11:26:00 \n",
      " days_past_SLA    | 851                 \n",
      " num_days_late    | 348.52356480000003  \n",
      " case_opened_date | 2017-01-02 11:26:00 \n",
      " case_closed      | false               \n",
      "-RECORD 2-------------------------------\n",
      " SLA_due_date     | 2017-01-17 08:30:00 \n",
      " days_past_SLA    | 851                 \n",
      " num_days_late    | 348.6458333         \n",
      " case_opened_date | 2017-01-01 13:57:00 \n",
      " case_closed      | false               \n",
      "only showing top 3 rows\n",
      "\n"
     ]
    }
   ],
   "source": [
    "# Compute the number of days past the SLA due date.\n",
    "# --Spark\n",
    "# DATEDIFF ( enddate , startdate )\n",
    "\n",
    "df = df.withColumn(\"days_past_SLA\", \n",
    "                   f.datediff(f.current_timestamp(), \n",
    "                              \"SLA_due_date\"))\n",
    "df.select(\"SLA_due_date\",\n",
    "          \"days_past_SLA\",\n",
    "          \"num_days_late\",\n",
    "          \"case_opened_date\",\n",
    "          \"case_closed\") \\\n",
    "  .where(caseOpenFilter) \\\n",
    "  .sort(\"days_past_SLA\", ascending=False) \\\n",
    "  .show(3, vertical=True, truncate=False)\n",
    "\n",
    "# How old is the latest (in terms of days past \n",
    "# SLA) currently open issue?\n",
    "# The oldest is 851 days past the SLA due date \n",
    "# calculated to today's day (2019-05-18), or 349 days\n",
    "# past the SLA due date per the \"num_days_late\" \n",
    "# column."
   ]
  },
  {
   "cell_type": "code",
   "execution_count": 10,
   "metadata": {},
   "outputs": [
    {
     "name": "stdout",
     "output_type": "stream",
     "text": [
      "2018-08-08 10:38:00\n",
      "-RECORD 0--------------------------------------------------------------\n",
      " case_id              | 1014759619                                     \n",
      " case_opened_date     | 2018-08-08 10:38:00                            \n",
      " case_closed_date     | null                                           \n",
      " SLA_due_date         | 2018-08-22 10:38:00                            \n",
      " case_late            | false                                          \n",
      " num_days_late        | -13.44305556                                   \n",
      " case_closed          | false                                          \n",
      " dept_division        | Code Enforcement                               \n",
      " service_request_type | Bandit Signs                                   \n",
      " SLA_days             | 14.0                                           \n",
      " case_status          | Open                                           \n",
      " source_id            | CRM_Listener                                   \n",
      " request_address      | 1935  MILITARY DR SW, San Antonio, 78221       \n",
      " council_district     | 3                                              \n",
      " days_past_SLA        | 269                                            \n",
      "-RECORD 1--------------------------------------------------------------\n",
      " case_id              | 1014759618                                     \n",
      " case_opened_date     | 2018-08-08 10:38:00                            \n",
      " case_closed_date     | null                                           \n",
      " SLA_due_date         | 2018-08-22 10:38:00                            \n",
      " case_late            | false                                          \n",
      " num_days_late        | -13.44309028                                   \n",
      " case_closed          | false                                          \n",
      " dept_division        | Code Enforcement                               \n",
      " service_request_type | Dumpsters: City R.O.W.                         \n",
      " SLA_days             | 14.0                                           \n",
      " case_status          | Open                                           \n",
      " source_id            | gp20685                                        \n",
      " request_address      | 7311  SCOTLAND, San Antonio, 78213             \n",
      " council_district     | 1                                              \n",
      " days_past_SLA        | 269                                            \n",
      "-RECORD 2--------------------------------------------------------------\n",
      " case_id              | 1014759620                                     \n",
      " case_opened_date     | 2018-08-08 10:38:00                            \n",
      " case_closed_date     | null                                           \n",
      " SLA_due_date         | 2018-08-17 10:38:00                            \n",
      " case_late            | false                                          \n",
      " num_days_late        | -8.443217593                                   \n",
      " case_closed          | false                                          \n",
      " dept_division        | Brush                                          \n",
      " service_request_type | Brush - Out of Cycle Collection - Fee Required \n",
      " SLA_days             | 9.0                                            \n",
      " case_status          | Open                                           \n",
      " source_id            | 142989                                         \n",
      " request_address      | 125  LINCOLNSHIRE D, San Antonio, 78220        \n",
      " council_district     | 2                                              \n",
      " days_past_SLA        | 274                                            \n",
      "\n"
     ]
    }
   ],
   "source": [
    "# Michael Moran's solution gave a very different answer!\n",
    "\n",
    "latest_open_issue = f.max(df.where(~df.case_closed).case_opened_date).alias(\"latest_open_issue\")\n",
    "\n",
    "latest_date = df.select(f.max(\"case_opened_date\")).first()[0]\n",
    "print(latest_date)\n",
    "\n",
    "df.where(df.case_opened_date == latest_date).show(truncate=False, vertical=True)"
   ]
  },
  {
   "cell_type": "code",
   "execution_count": 10,
   "metadata": {},
   "outputs": [
    {
     "name": "stdout",
     "output_type": "stream",
     "text": [
      "+------------------+-------------------+-----------+\n",
      "|days_since_opening|case_opened_date   |case_closed|\n",
      "+------------------+-------------------+-----------+\n",
      "|867               |2017-01-01 13:48:00|false      |\n",
      "|867               |2017-01-01 13:57:00|false      |\n",
      "|866               |2017-01-02 11:26:00|false      |\n",
      "+------------------+-------------------+-----------+\n",
      "only showing top 3 rows\n",
      "\n"
     ]
    }
   ],
   "source": [
    "# Compute the number of days since opened.\n",
    "# --Spark\n",
    "# DATEDIFF ( enddate , startdate )\n",
    "\n",
    "df = df.withColumn(\"days_since_opening\", \n",
    "                   f.datediff(f.current_timestamp(), \n",
    "                              \"case_opened_date\"))\n",
    "df.select(\"days_since_opening\",\n",
    "          \"case_opened_date\",\n",
    "          \"case_closed\") \\\n",
    "  .where(caseOpenFilter) \\\n",
    "  .sort(\"days_since_opening\", ascending=False) \\\n",
    "  .show(3, truncate=False)\n",
    "\n",
    "# How long has the oldest (in terms of days since\n",
    "# opened) currently opened issue been open?\n",
    "# The oldest in terms of days since opened has\n",
    "# been open for 867 days calculated to today's date\n",
    "# (2019-05-18)."
   ]
  },
  {
   "cell_type": "code",
   "execution_count": 11,
   "metadata": {},
   "outputs": [
    {
     "name": "stdout",
     "output_type": "stream",
     "text": [
      "+-------------------+-------------------+---------------+\n",
      "| earliest_open_case|                now|date_difference|\n",
      "+-------------------+-------------------+---------------+\n",
      "|2017-01-01 03:22:00|2019-05-18 15:56:53|            867|\n",
      "+-------------------+-------------------+---------------+\n",
      "\n"
     ]
    }
   ],
   "source": [
    "# Michael Moran's solution (same answer)\n",
    "(df.select(f.min(df.where(~df.case_closed).case_opened_date).alias(\"earliest_open_case\"))\n",
    "   .withColumn(\"now\", f.to_timestamp(f.current_timestamp(), \"M/d/y H:mm\"))\n",
    "   .withColumn(\"date_difference\", f.datediff(f.col(\"now\"), f.col(\"earliest_open_case\")))\n",
    "   .show())"
   ]
  },
  {
   "cell_type": "markdown",
   "metadata": {},
   "source": [
    "3. How many Stray Animal cases are there?"
   ]
  },
  {
   "cell_type": "code",
   "execution_count": 12,
   "metadata": {},
   "outputs": [
    {
     "name": "stdout",
     "output_type": "stream",
     "text": [
      "+--------------------------+-----+\n",
      "|service_request_type      |count|\n",
      "+--------------------------+-----+\n",
      "|No Pickup                 |86855|\n",
      "|Overgrown Yard/Trash      |65895|\n",
      "|Bandit Signs              |32910|\n",
      "|Damaged Cart              |30338|\n",
      "|Front Or Side Yard Parking|28794|\n",
      "|Stray Animal              |26760|\n",
      "+--------------------------+-----+\n",
      "only showing top 6 rows\n",
      "\n"
     ]
    }
   ],
   "source": [
    "df.groupBy(\"service_request_type\") \\\n",
    "  .count() \\\n",
    "  .sort(\"count\", ascending=False) \\\n",
    "  .show(6, truncate=False)\n",
    "# 26760 Stray Animal cases"
   ]
  },
  {
   "cell_type": "code",
   "execution_count": 13,
   "metadata": {},
   "outputs": [
    {
     "data": {
      "text/plain": [
       "26760"
      ]
     },
     "execution_count": 13,
     "metadata": {},
     "output_type": "execute_result"
    }
   ],
   "source": [
    "df.where(f.lower(df.service_request_type) == \"stray animal\").count()"
   ]
  },
  {
   "cell_type": "markdown",
   "metadata": {},
   "source": [
    "4. How many service requests that are assigned to the Field Operations department (dept_division) are not classified as \"Officer Standby\" request type (service_request_type)?"
   ]
  },
  {
   "cell_type": "code",
   "execution_count": 14,
   "metadata": {},
   "outputs": [],
   "source": [
    "from pyspark.sql.functions import sum, sumDistinct"
   ]
  },
  {
   "cell_type": "code",
   "execution_count": 15,
   "metadata": {},
   "outputs": [
    {
     "name": "stdout",
     "output_type": "stream",
     "text": [
      "+-------------------------------+----------------+-----+\n",
      "|service_request_type           |dept_division   |count|\n",
      "+-------------------------------+----------------+-----+\n",
      "|Stray Animal                   |Field Operations|26760|\n",
      "|Aggressive Animal(Non-Critical)|Field Operations|24882|\n",
      "|Animal Neglect                 |Field Operations|13441|\n",
      "|Trapped/Confined Animal        |Field Operations|11354|\n",
      "|Public Nuisance(Own Animal)    |Field Operations|10715|\n",
      "|Injured Animal(Critical)       |Field Operations|9633 |\n",
      "|Aggressive Animal(Critical)    |Field Operations|5266 |\n",
      "|Animal Bite(Non-Critical)      |Field Operations|4750 |\n",
      "|Animal Permits Request         |Field Operations|3026 |\n",
      "|Animal Cruelty(Critical)       |Field Operations|3001 |\n",
      "|Animal Bite(Critical)          |Field Operations|708  |\n",
      "|City Council Animal Request    |Field Operations|365  |\n",
      "|Spay/Neuter Request Response   |Field Operations|1    |\n",
      "+-------------------------------+----------------+-----+\n",
      "\n"
     ]
    }
   ],
   "source": [
    "FO_requests = df.groupBy(\"service_request_type\", \"dept_division\") \\\n",
    "  .count() \\\n",
    "  .where(df.dept_division == \"Field Operations\") \\\n",
    "  .where(df.service_request_type != \"Officer Standby\") \\\n",
    "  .sort(\"count\", ascending=False) \n",
    "\n",
    "FO_requests.show(truncate=False)"
   ]
  },
  {
   "cell_type": "code",
   "execution_count": 16,
   "metadata": {},
   "outputs": [
    {
     "name": "stdout",
     "output_type": "stream",
     "text": [
      "+----------+\n",
      "|sum(count)|\n",
      "+----------+\n",
      "|    113902|\n",
      "+----------+\n",
      "\n"
     ]
    }
   ],
   "source": [
    "FO_requests.agg(sum(\"count\")).show()\n",
    "# 113,902 service requests that are assigned to \n",
    "# the Field Operations department (dept_division)\n",
    "# are not classified as \"Officer Standby\" request \n",
    "# type (service_request_type)"
   ]
  },
  {
   "cell_type": "code",
   "execution_count": 17,
   "metadata": {},
   "outputs": [
    {
     "data": {
      "text/plain": [
       "113902"
      ]
     },
     "execution_count": 17,
     "metadata": {},
     "output_type": "execute_result"
    }
   ],
   "source": [
    "df.where(f.lower(df.dept_division) == \"field operations\") \\\n",
    "  .where(f.lower(f.col(\"service_request_type\")) != \"officer standby\") \\\n",
    "  .count()"
   ]
  },
  {
   "cell_type": "markdown",
   "metadata": {},
   "source": [
    "5. Create a new DataFrame without any information related to dates or location."
   ]
  },
  {
   "cell_type": "code",
   "execution_count": 18,
   "metadata": {},
   "outputs": [
    {
     "name": "stdout",
     "output_type": "stream",
     "text": [
      "root\n",
      " |-- case_id: integer (nullable = true)\n",
      " |-- case_opened_date: timestamp (nullable = true)\n",
      " |-- case_closed_date: timestamp (nullable = true)\n",
      " |-- SLA_due_date: timestamp (nullable = true)\n",
      " |-- case_late: boolean (nullable = false)\n",
      " |-- num_days_late: double (nullable = true)\n",
      " |-- case_closed: boolean (nullable = false)\n",
      " |-- dept_division: string (nullable = true)\n",
      " |-- service_request_type: string (nullable = true)\n",
      " |-- SLA_days: double (nullable = true)\n",
      " |-- case_status: string (nullable = true)\n",
      " |-- source_id: string (nullable = true)\n",
      " |-- request_address: string (nullable = true)\n",
      " |-- council_district: integer (nullable = true)\n",
      " |-- days_past_SLA: integer (nullable = true)\n",
      " |-- days_since_opening: integer (nullable = true)\n",
      "\n"
     ]
    }
   ],
   "source": [
    "df.printSchema()"
   ]
  },
  {
   "cell_type": "code",
   "execution_count": 19,
   "metadata": {},
   "outputs": [
    {
     "data": {
      "text/plain": [
       "['case_id',\n",
       " 'case_late',\n",
       " 'num_days_late',\n",
       " 'case_closed',\n",
       " 'dept_division',\n",
       " 'service_request_type',\n",
       " 'SLA_days',\n",
       " 'case_status',\n",
       " 'source_id',\n",
       " 'days_past_SLA',\n",
       " 'days_since_opening']"
      ]
     },
     "execution_count": 19,
     "metadata": {},
     "output_type": "execute_result"
    }
   ],
   "source": [
    "no_dates = df.select('case_id', \n",
    "                     'case_late',\n",
    "                     'num_days_late', \n",
    "                     'case_closed',\n",
    "                     'dept_division', \n",
    "                     'service_request_type',\n",
    "                     'SLA_days',\n",
    "                     'case_status',\n",
    "                     'source_id',\n",
    "                     'days_past_SLA',\n",
    "                     'days_since_opening')\n",
    "\n",
    "no_dates.columns"
   ]
  },
  {
   "cell_type": "code",
   "execution_count": 20,
   "metadata": {},
   "outputs": [
    {
     "data": {
      "text/plain": [
       "['case_id',\n",
       " 'case_late',\n",
       " 'num_days_late',\n",
       " 'case_closed',\n",
       " 'dept_division',\n",
       " 'service_request_type',\n",
       " 'SLA_days',\n",
       " 'case_status',\n",
       " 'source_id',\n",
       " 'days_past_SLA',\n",
       " 'days_since_opening']"
      ]
     },
     "execution_count": 20,
     "metadata": {},
     "output_type": "execute_result"
    }
   ],
   "source": [
    "# OR\n",
    "df_wo_dates_locations = df.drop(\"case_opened_date\", \n",
    "                                \"case_closed_date\", \n",
    "                                \"SLA_due_date\", \n",
    "                                \"request_address\", \n",
    "                                \"council_district\")\n",
    "\n",
    "df_wo_dates_locations.columns"
   ]
  },
  {
   "cell_type": "markdown",
   "metadata": {},
   "source": [
    "6. Read dept.csv into a Spark DataFrame. Inspect the dept_name column. Replace the missing values with \"other\"."
   ]
  },
  {
   "cell_type": "code",
   "execution_count": 21,
   "metadata": {},
   "outputs": [
    {
     "name": "stdout",
     "output_type": "stream",
     "text": [
      "root\n",
      " |-- dept_division: string (nullable = true)\n",
      " |-- dept_name: string (nullable = true)\n",
      " |-- standardized_dept_name: string (nullable = true)\n",
      " |-- dept_subject_to_SLA: string (nullable = true)\n",
      "\n"
     ]
    }
   ],
   "source": [
    "data = \"sa311/dept.csv\"\n",
    "dept_df = spark.read\\\n",
    "          .csv(data, \n",
    "               header=True, \n",
    "               inferSchema=True)\n",
    "dept_df.printSchema()"
   ]
  },
  {
   "cell_type": "code",
   "execution_count": 22,
   "metadata": {},
   "outputs": [
    {
     "name": "stdout",
     "output_type": "stream",
     "text": [
      "+-------------------------+-----+\n",
      "|dept_name                |count|\n",
      "+-------------------------+-----+\n",
      "|Animal Care Services     |1    |\n",
      "|null                     |1    |\n",
      "|Solid Waste Management   |4    |\n",
      "|Development Services     |1    |\n",
      "|Trans & Cap Improvements |7    |\n",
      "|Customer Service         |1    |\n",
      "|Metro Health             |3    |\n",
      "|Parks and Recreation     |7    |\n",
      "|Code Enforcement Services|6    |\n",
      "|City Council             |8    |\n",
      "+-------------------------+-----+\n",
      "\n"
     ]
    }
   ],
   "source": [
    "dept_df.groupBy(\"dept_name\") \\\n",
    "  .count() \\\n",
    "  .show(truncate=False)"
   ]
  },
  {
   "cell_type": "code",
   "execution_count": 23,
   "metadata": {},
   "outputs": [],
   "source": [
    "dept_df = dept_df.na.fill({\"dept_name\": \"other\"})"
   ]
  },
  {
   "cell_type": "code",
   "execution_count": 24,
   "metadata": {},
   "outputs": [
    {
     "name": "stdout",
     "output_type": "stream",
     "text": [
      "+-------------------------+-----+\n",
      "|dept_name                |count|\n",
      "+-------------------------+-----+\n",
      "|Animal Care Services     |1    |\n",
      "|Solid Waste Management   |4    |\n",
      "|other                    |1    |\n",
      "|Development Services     |1    |\n",
      "|Trans & Cap Improvements |7    |\n",
      "|Customer Service         |1    |\n",
      "|Metro Health             |3    |\n",
      "|Parks and Recreation     |7    |\n",
      "|Code Enforcement Services|6    |\n",
      "|City Council             |8    |\n",
      "+-------------------------+-----+\n",
      "\n"
     ]
    }
   ],
   "source": [
    "dept_df.groupBy(\"dept_name\") \\\n",
    "  .count() \\\n",
    "  .show(truncate=False)"
   ]
  },
  {
   "cell_type": "code",
   "execution_count": 25,
   "metadata": {},
   "outputs": [
    {
     "name": "stdout",
     "output_type": "stream",
     "text": [
      "root\n",
      " |-- dept_division: string (nullable = true)\n",
      " |-- dept_name: string (nullable = false)\n",
      " |-- standardized_dept_name: string (nullable = true)\n",
      " |-- dept_subject_to_SLA: string (nullable = true)\n",
      "\n"
     ]
    }
   ],
   "source": [
    "dept_df.printSchema()"
   ]
  },
  {
   "cell_type": "markdown",
   "metadata": {},
   "source": [
    "## Part 2\n",
    "1. Convert the council_district column to a string column."
   ]
  },
  {
   "cell_type": "code",
   "execution_count": 26,
   "metadata": {},
   "outputs": [
    {
     "name": "stdout",
     "output_type": "stream",
     "text": [
      "root\n",
      " |-- case_id: integer (nullable = true)\n",
      " |-- case_opened_date: timestamp (nullable = true)\n",
      " |-- case_closed_date: timestamp (nullable = true)\n",
      " |-- SLA_due_date: timestamp (nullable = true)\n",
      " |-- case_late: boolean (nullable = false)\n",
      " |-- num_days_late: double (nullable = true)\n",
      " |-- case_closed: boolean (nullable = false)\n",
      " |-- dept_division: string (nullable = true)\n",
      " |-- service_request_type: string (nullable = true)\n",
      " |-- SLA_days: double (nullable = true)\n",
      " |-- case_status: string (nullable = true)\n",
      " |-- source_id: string (nullable = true)\n",
      " |-- request_address: string (nullable = true)\n",
      " |-- council_district: integer (nullable = true)\n",
      " |-- days_past_SLA: integer (nullable = true)\n",
      " |-- days_since_opening: integer (nullable = true)\n",
      "\n"
     ]
    }
   ],
   "source": [
    "df.printSchema()"
   ]
  },
  {
   "cell_type": "code",
   "execution_count": 27,
   "metadata": {},
   "outputs": [],
   "source": [
    "df = df.withColumn(\"council_district\", \n",
    "              df.council_district.cast(\"string\"))"
   ]
  },
  {
   "cell_type": "code",
   "execution_count": 28,
   "metadata": {},
   "outputs": [
    {
     "name": "stdout",
     "output_type": "stream",
     "text": [
      "root\n",
      " |-- case_id: integer (nullable = true)\n",
      " |-- case_opened_date: timestamp (nullable = true)\n",
      " |-- case_closed_date: timestamp (nullable = true)\n",
      " |-- SLA_due_date: timestamp (nullable = true)\n",
      " |-- case_late: boolean (nullable = false)\n",
      " |-- num_days_late: double (nullable = true)\n",
      " |-- case_closed: boolean (nullable = false)\n",
      " |-- dept_division: string (nullable = true)\n",
      " |-- service_request_type: string (nullable = true)\n",
      " |-- SLA_days: double (nullable = true)\n",
      " |-- case_status: string (nullable = true)\n",
      " |-- source_id: string (nullable = true)\n",
      " |-- request_address: string (nullable = true)\n",
      " |-- council_district: string (nullable = true)\n",
      " |-- days_past_SLA: integer (nullable = true)\n",
      " |-- days_since_opening: integer (nullable = true)\n",
      "\n"
     ]
    }
   ],
   "source": [
    "df.printSchema()"
   ]
  },
  {
   "cell_type": "markdown",
   "metadata": {},
   "source": [
    "2. Extract the year from the case_closed_date column."
   ]
  },
  {
   "cell_type": "code",
   "execution_count": 29,
   "metadata": {},
   "outputs": [
    {
     "name": "stdout",
     "output_type": "stream",
     "text": [
      "+----------------+\n",
      "|case_closed_year|\n",
      "+----------------+\n",
      "|            2018|\n",
      "|            2018|\n",
      "|            2018|\n",
      "|            2018|\n",
      "|            2018|\n",
      "+----------------+\n",
      "only showing top 5 rows\n",
      "\n"
     ]
    }
   ],
   "source": [
    "df.select(f.year(\"case_closed_date\") \\\n",
    "  .alias(\"case_closed_year\")) \\\n",
    "  .show(5)"
   ]
  },
  {
   "cell_type": "code",
   "execution_count": 30,
   "metadata": {},
   "outputs": [],
   "source": [
    "df = df.withColumn(\"year_closed\", \n",
    "              year(\"case_closed_date\"))"
   ]
  },
  {
   "cell_type": "code",
   "execution_count": 31,
   "metadata": {},
   "outputs": [
    {
     "name": "stdout",
     "output_type": "stream",
     "text": [
      "-RECORD 0----------------------------------------------------\n",
      " case_id              | 1014127332                           \n",
      " case_opened_date     | 2018-01-01 00:42:00                  \n",
      " case_closed_date     | 2018-01-01 12:29:00                  \n",
      " SLA_due_date         | 2020-09-26 00:42:00                  \n",
      " case_late            | false                                \n",
      " num_days_late        | -998.5087616000001                   \n",
      " case_closed          | true                                 \n",
      " dept_division        | Field Operations                     \n",
      " service_request_type | Stray Animal                         \n",
      " SLA_days             | 999.0                                \n",
      " case_status          | Closed                               \n",
      " source_id            | svcCRMLS                             \n",
      " request_address      | 2315  EL PASO ST, San Antonio, 78207 \n",
      " council_district     | 5                                    \n",
      " days_past_SLA        | -497                                 \n",
      " days_since_opening   | 502                                  \n",
      " year_closed          | 2018                                 \n",
      "-RECORD 1----------------------------------------------------\n",
      " case_id              | 1014127333                           \n",
      " case_opened_date     | 2018-01-01 00:46:00                  \n",
      " case_closed_date     | 2018-01-03 08:11:00                  \n",
      " SLA_due_date         | 2018-01-05 08:30:00                  \n",
      " case_late            | false                                \n",
      " num_days_late        | -2.0126041669999997                  \n",
      " case_closed          | true                                 \n",
      " dept_division        | Storm Water                          \n",
      " service_request_type | Removal Of Obstruction               \n",
      " SLA_days             | 4.322222222                          \n",
      " case_status          | Closed                               \n",
      " source_id            | svcCRMSS                             \n",
      " request_address      | 2215  GOLIAD RD, San Antonio, 78223  \n",
      " council_district     | 3                                    \n",
      " days_past_SLA        | 498                                  \n",
      " days_since_opening   | 502                                  \n",
      " year_closed          | 2018                                 \n",
      "only showing top 2 rows\n",
      "\n"
     ]
    }
   ],
   "source": [
    "df.show(2, vertical=True, truncate=False)"
   ]
  },
  {
   "cell_type": "markdown",
   "metadata": {},
   "source": [
    "3. Convert num_days_late from days to hours in new columns num_hours_late."
   ]
  },
  {
   "cell_type": "code",
   "execution_count": 32,
   "metadata": {},
   "outputs": [],
   "source": [
    "df = df.withColumn(\"num_hours_late\", \n",
    "              df.num_days_late * 24)"
   ]
  },
  {
   "cell_type": "code",
   "execution_count": 33,
   "metadata": {},
   "outputs": [
    {
     "name": "stdout",
     "output_type": "stream",
     "text": [
      "+-------------------+-------------------+\n",
      "|num_hours_late     |num_days_late      |\n",
      "+-------------------+-------------------+\n",
      "|-23964.2102784     |-998.5087616000001 |\n",
      "|-48.302500007999996|-2.0126041669999997|\n",
      "|-72.536111112      |-3.022337963       |\n",
      "+-------------------+-------------------+\n",
      "only showing top 3 rows\n",
      "\n"
     ]
    }
   ],
   "source": [
    "df.select(\"num_hours_late\", \"num_days_late\") \\\n",
    "  .show(3, truncate=False)"
   ]
  },
  {
   "cell_type": "markdown",
   "metadata": {},
   "source": [
    "4. Convert the case_late column to a boolean column.\n",
    "##### Done in # 1 of part 1."
   ]
  },
  {
   "cell_type": "code",
   "execution_count": 34,
   "metadata": {},
   "outputs": [
    {
     "name": "stdout",
     "output_type": "stream",
     "text": [
      "root\n",
      " |-- case_id: integer (nullable = true)\n",
      " |-- case_opened_date: timestamp (nullable = true)\n",
      " |-- case_closed_date: timestamp (nullable = true)\n",
      " |-- SLA_due_date: timestamp (nullable = true)\n",
      " |-- case_late: boolean (nullable = false)\n",
      " |-- num_days_late: double (nullable = true)\n",
      " |-- case_closed: boolean (nullable = false)\n",
      " |-- dept_division: string (nullable = true)\n",
      " |-- service_request_type: string (nullable = true)\n",
      " |-- SLA_days: double (nullable = true)\n",
      " |-- case_status: string (nullable = true)\n",
      " |-- source_id: string (nullable = true)\n",
      " |-- request_address: string (nullable = true)\n",
      " |-- council_district: string (nullable = true)\n",
      " |-- days_past_SLA: integer (nullable = true)\n",
      " |-- days_since_opening: integer (nullable = true)\n",
      " |-- year_closed: integer (nullable = true)\n",
      " |-- num_hours_late: double (nullable = true)\n",
      "\n"
     ]
    }
   ],
   "source": [
    "df.printSchema()"
   ]
  },
  {
   "cell_type": "markdown",
   "metadata": {},
   "source": [
    "But could have done it here thusly..."
   ]
  },
  {
   "cell_type": "code",
   "execution_count": 35,
   "metadata": {},
   "outputs": [],
   "source": [
    "# df.select(\"case_late\") \\\n",
    "#   .withColumn(\"is_case_late\", (df[\"case_late\"] == \"YES\")) \\\n",
    "#   .show(10, truncate=False)"
   ]
  },
  {
   "cell_type": "code",
   "execution_count": 36,
   "metadata": {},
   "outputs": [
    {
     "name": "stdout",
     "output_type": "stream",
     "text": [
      "-RECORD 0-----------------------------------------------------\n",
      " case_id              | 1014127332                            \n",
      " case_opened_date     | 2018-01-01 00:42:00                   \n",
      " case_closed_date     | 2018-01-01 12:29:00                   \n",
      " SLA_due_date         | 2020-09-26 00:42:00                   \n",
      " case_late            | false                                 \n",
      " num_days_late        | -998.5087616000001                    \n",
      " case_closed          | true                                  \n",
      " dept_division        | Field Operations                      \n",
      " service_request_type | Stray Animal                          \n",
      " SLA_days             | 999.0                                 \n",
      " case_status          | Closed                                \n",
      " source_id            | svcCRMLS                              \n",
      " request_address      | 2315  EL PASO ST, San Antonio, 78207  \n",
      " council_district     | 5                                     \n",
      " days_past_SLA        | -497                                  \n",
      " days_since_opening   | 502                                   \n",
      " year_closed          | 2018                                  \n",
      " num_hours_late       | -23964.2102784                        \n",
      "-RECORD 1-----------------------------------------------------\n",
      " case_id              | 1014127333                            \n",
      " case_opened_date     | 2018-01-01 00:46:00                   \n",
      " case_closed_date     | 2018-01-03 08:11:00                   \n",
      " SLA_due_date         | 2018-01-05 08:30:00                   \n",
      " case_late            | false                                 \n",
      " num_days_late        | -2.0126041669999997                   \n",
      " case_closed          | true                                  \n",
      " dept_division        | Storm Water                           \n",
      " service_request_type | Removal Of Obstruction                \n",
      " SLA_days             | 4.322222222                           \n",
      " case_status          | Closed                                \n",
      " source_id            | svcCRMSS                              \n",
      " request_address      | 2215  GOLIAD RD, San Antonio, 78223   \n",
      " council_district     | 3                                     \n",
      " days_past_SLA        | 498                                   \n",
      " days_since_opening   | 502                                   \n",
      " year_closed          | 2018                                  \n",
      " num_hours_late       | -48.302500007999996                   \n",
      "-RECORD 2-----------------------------------------------------\n",
      " case_id              | 1014127334                            \n",
      " case_opened_date     | 2018-01-01 00:48:00                   \n",
      " case_closed_date     | 2018-01-02 07:57:00                   \n",
      " SLA_due_date         | 2018-01-05 08:30:00                   \n",
      " case_late            | false                                 \n",
      " num_days_late        | -3.022337963                          \n",
      " case_closed          | true                                  \n",
      " dept_division        | Storm Water                           \n",
      " service_request_type | Removal Of Obstruction                \n",
      " SLA_days             | 4.320729167                           \n",
      " case_status          | Closed                                \n",
      " source_id            | svcCRMSS                              \n",
      " request_address      | 102  PALFREY ST W, San Antonio, 78223 \n",
      " council_district     | 3                                     \n",
      " days_past_SLA        | 498                                   \n",
      " days_since_opening   | 502                                   \n",
      " year_closed          | 2018                                  \n",
      " num_hours_late       | -72.536111112                         \n",
      "only showing top 3 rows\n",
      "\n"
     ]
    }
   ],
   "source": [
    "df.show(3, vertical=True, truncate=False)"
   ]
  },
  {
   "cell_type": "markdown",
   "metadata": {},
   "source": [
    "5. Convert the SLA_days columns to a double column.\n",
    "\n",
    "##### This was done by inferSchema when the csv was read. But to do this manually, I would do: \n",
    "```\n",
    "df = df.withColumn(\"SLA_days\",\n",
    "                    df.SLA_days.cast(\"double\"))\n",
    "```"
   ]
  },
  {
   "cell_type": "code",
   "execution_count": 37,
   "metadata": {},
   "outputs": [
    {
     "name": "stdout",
     "output_type": "stream",
     "text": [
      "root\n",
      " |-- case_id: integer (nullable = true)\n",
      " |-- case_opened_date: timestamp (nullable = true)\n",
      " |-- case_closed_date: timestamp (nullable = true)\n",
      " |-- SLA_due_date: timestamp (nullable = true)\n",
      " |-- case_late: boolean (nullable = false)\n",
      " |-- num_days_late: double (nullable = true)\n",
      " |-- case_closed: boolean (nullable = false)\n",
      " |-- dept_division: string (nullable = true)\n",
      " |-- service_request_type: string (nullable = true)\n",
      " |-- SLA_days: double (nullable = true)\n",
      " |-- case_status: string (nullable = true)\n",
      " |-- source_id: string (nullable = true)\n",
      " |-- request_address: string (nullable = true)\n",
      " |-- council_district: string (nullable = true)\n",
      " |-- days_past_SLA: integer (nullable = true)\n",
      " |-- days_since_opening: integer (nullable = true)\n",
      " |-- year_closed: integer (nullable = true)\n",
      " |-- num_hours_late: double (nullable = true)\n",
      "\n"
     ]
    }
   ],
   "source": [
    "df.printSchema()"
   ]
  },
  {
   "cell_type": "code",
   "execution_count": 38,
   "metadata": {},
   "outputs": [
    {
     "name": "stdout",
     "output_type": "stream",
     "text": [
      "root\n",
      " |-- dept_division: string (nullable = true)\n",
      " |-- dept_name: string (nullable = false)\n",
      " |-- standardized_dept_name: string (nullable = true)\n",
      " |-- dept_subject_to_SLA: string (nullable = true)\n",
      "\n"
     ]
    }
   ],
   "source": [
    "dept_df.printSchema()"
   ]
  },
  {
   "cell_type": "markdown",
   "metadata": {},
   "source": [
    "6. Pull it all together -- merge depts_df and df\n",
    "\n",
    "Used an \"inner\" join: Use a join expression and the value inner to return only those rows for which the join expression is true. Inner join is the default, so could have left off that parameter.\n",
    "\n",
    "This gives us a list of cases associated with a department and the corresponding department information."
   ]
  },
  {
   "cell_type": "code",
   "execution_count": 39,
   "metadata": {},
   "outputs": [
    {
     "name": "stdout",
     "output_type": "stream",
     "text": [
      "-RECORD 0------------------------------------------------------\n",
      " dept_division          | Field Operations                     \n",
      " case_id                | 1014127332                           \n",
      " case_opened_date       | 2018-01-01 00:42:00                  \n",
      " case_closed_date       | 2018-01-01 12:29:00                  \n",
      " SLA_due_date           | 2020-09-26 00:42:00                  \n",
      " case_late              | false                                \n",
      " num_days_late          | -998.5087616000001                   \n",
      " case_closed            | true                                 \n",
      " service_request_type   | Stray Animal                         \n",
      " SLA_days               | 999.0                                \n",
      " case_status            | Closed                               \n",
      " source_id              | svcCRMLS                             \n",
      " request_address        | 2315  EL PASO ST, San Antonio, 78207 \n",
      " council_district       | 5                                    \n",
      " days_past_SLA          | -497                                 \n",
      " days_since_opening     | 502                                  \n",
      " year_closed            | 2018                                 \n",
      " num_hours_late         | -23964.2102784                       \n",
      " dept_name              | Animal Care Services                 \n",
      " standardized_dept_name | Animal Care Services                 \n",
      " dept_subject_to_SLA    | YES                                  \n",
      "-RECORD 1------------------------------------------------------\n",
      " dept_division          | Storm Water                          \n",
      " case_id                | 1014127333                           \n",
      " case_opened_date       | 2018-01-01 00:46:00                  \n",
      " case_closed_date       | 2018-01-03 08:11:00                  \n",
      " SLA_due_date           | 2018-01-05 08:30:00                  \n",
      " case_late              | false                                \n",
      " num_days_late          | -2.0126041669999997                  \n",
      " case_closed            | true                                 \n",
      " service_request_type   | Removal Of Obstruction               \n",
      " SLA_days               | 4.322222222                          \n",
      " case_status            | Closed                               \n",
      " source_id              | svcCRMSS                             \n",
      " request_address        | 2215  GOLIAD RD, San Antonio, 78223  \n",
      " council_district       | 3                                    \n",
      " days_past_SLA          | 498                                  \n",
      " days_since_opening     | 502                                  \n",
      " year_closed            | 2018                                 \n",
      " num_hours_late         | -48.302500007999996                  \n",
      " dept_name              | Trans & Cap Improvements             \n",
      " standardized_dept_name | Trans & Cap Improvements             \n",
      " dept_subject_to_SLA    | YES                                  \n",
      "only showing top 2 rows\n",
      "\n"
     ]
    }
   ],
   "source": [
    "joined_df = df.join(dept_df, \"dept_division\", \"inner\")\n",
    "joined_df.show(2, vertical=True, truncate=False)"
   ]
  },
  {
   "cell_type": "markdown",
   "metadata": {},
   "source": [
    "Check to see if any rows were not associated with a department and were dropped..."
   ]
  },
  {
   "cell_type": "code",
   "execution_count": 40,
   "metadata": {},
   "outputs": [
    {
     "name": "stdout",
     "output_type": "stream",
     "text": [
      "(0 rows)\n",
      "\n"
     ]
    }
   ],
   "source": [
    "df.join(dept_df, df.dept_division == dept_df.dept_division, \"left_anti\") \\\n",
    "    .show(vertical=True, truncate=False)"
   ]
  },
  {
   "cell_type": "markdown",
   "metadata": {},
   "source": [
    "Or instructions might have meant to display all the work I just did..."
   ]
  },
  {
   "cell_type": "code",
   "execution_count": 41,
   "metadata": {},
   "outputs": [
    {
     "name": "stdout",
     "output_type": "stream",
     "text": [
      "-RECORD 0-------------------------------\n",
      " council_district | 5                   \n",
      " case_closed_date | 2018-01-01 12:29:00 \n",
      " year             |                     \n",
      " case_late        | false               \n",
      " num_days_late    | -998.5087616000001  \n",
      " num_hours_late   | -23964.21           \n",
      " case_late_bool   | false               \n",
      "-RECORD 1-------------------------------\n",
      " council_district | 3                   \n",
      " case_closed_date | 2018-01-03 08:11:00 \n",
      " year             |                     \n",
      " case_late        | false               \n",
      " num_days_late    | -2.0126041669999997 \n",
      " num_hours_late   | -48.3               \n",
      " case_late_bool   | false               \n",
      "-RECORD 2-------------------------------\n",
      " council_district | 3                   \n",
      " case_closed_date | 2018-01-02 07:57:00 \n",
      " year             |                     \n",
      " case_late        | false               \n",
      " num_days_late    | -3.022337963        \n",
      " num_hours_late   | -72.54              \n",
      " case_late_bool   | false               \n",
      "only showing top 3 rows\n",
      "\n"
     ]
    }
   ],
   "source": [
    "df.select(col('council_district').cast('string'), \n",
    "           col('case_closed_date'), \n",
    "           f.regexp_extract(col('case_closed_date'), '\\d+/\\d+/(\\d+)', 1).alias('year'), \n",
    "           col('case_late'), \n",
    "           col('num_days_late')) \\\n",
    " .withColumn('num_hours_late', f.round(df.num_days_late * 24, 2)) \\\n",
    " .withColumn('case_late_bool', col('case_late') == 'YES') \\\n",
    " .show(3, vertical=True, truncate=False)"
   ]
  },
  {
   "cell_type": "markdown",
   "metadata": {},
   "source": [
    "## Part 3\n",
    "1. Create a DataFrame with all combinations of council_district and service_request_type (regardless of whether the combination is observed in the data)."
   ]
  },
  {
   "cell_type": "code",
   "execution_count": 42,
   "metadata": {},
   "outputs": [
    {
     "name": "stdout",
     "output_type": "stream",
     "text": [
      "-RECORD 0----------------------------------------------------------\n",
      " case_id                | 1014127378                               \n",
      " case_opened_date       | 2018-01-01 08:24:00                      \n",
      " case_closed_date       | 2018-01-02 07:37:00                      \n",
      " SLA_due_date           | 2018-01-03 08:24:00                      \n",
      " case_late              | false                                    \n",
      " num_days_late          | -1.03287037                              \n",
      " case_closed            | true                                     \n",
      " dept_division          | Miscellaneous                            \n",
      " service_request_type   | Dead Animal - Cat                        \n",
      " SLA_days               | 2.0                                      \n",
      " case_status            | Closed                                   \n",
      " source_id              | 139344                                   \n",
      " request_address        | 7059  TIMBERCREEK DR, San Antonio, 78227 \n",
      " council_district       | 6                                        \n",
      " days_past_SLA          | 500                                      \n",
      " days_since_opening     | 502                                      \n",
      " year_closed            | 2018                                     \n",
      " num_hours_late         | -24.78888888                             \n",
      " dept_division          | Miscellaneous                            \n",
      " dept_name              | Solid Waste Management                   \n",
      " standardized_dept_name | Solid Waste                              \n",
      " dept_subject_to_SLA    | YES                                      \n",
      "-RECORD 1----------------------------------------------------------\n",
      " case_id                | 1014127411                               \n",
      " case_opened_date       | 2018-01-01 10:14:00                      \n",
      " case_closed_date       | 2018-01-02 06:22:00                      \n",
      " SLA_due_date           | 2018-01-03 10:14:00                      \n",
      " case_late              | false                                    \n",
      " num_days_late          | -1.160555556                             \n",
      " case_closed            | true                                     \n",
      " dept_division          | Miscellaneous                            \n",
      " service_request_type   | Dead Animal - Dog                        \n",
      " SLA_days               | 2.0                                      \n",
      " case_status            | Closed                                   \n",
      " source_id              | 139344                                   \n",
      " request_address        | 6410  IH 35 N, San Antonio, 78218        \n",
      " council_district       | 2                                        \n",
      " days_past_SLA          | 500                                      \n",
      " days_since_opening     | 502                                      \n",
      " year_closed            | 2018                                     \n",
      " num_hours_late         | -27.853333344                            \n",
      " dept_division          | Miscellaneous                            \n",
      " dept_name              | Solid Waste Management                   \n",
      " standardized_dept_name | Solid Waste                              \n",
      " dept_subject_to_SLA    | YES                                      \n",
      "only showing top 2 rows\n",
      "\n"
     ]
    }
   ],
   "source": [
    "all_dist_serv = df.join(dept_df, df.dept_division == dept_df.dept_division, \"full_outer\")\n",
    "all_dist_serv.show(2, vertical=True, truncate=False)"
   ]
  },
  {
   "cell_type": "markdown",
   "metadata": {},
   "source": [
    "2. Join the case data with the source and department data."
   ]
  },
  {
   "cell_type": "code",
   "execution_count": 43,
   "metadata": {},
   "outputs": [
    {
     "name": "stdout",
     "output_type": "stream",
     "text": [
      "root\n",
      " |-- source_id: string (nullable = true)\n",
      " |-- source_username: string (nullable = true)\n",
      "\n"
     ]
    }
   ],
   "source": [
    "source_df = spark.read.csv('./sa311/source.csv', \n",
    "                           sep=\",\", \n",
    "                           header=True, \n",
    "                           inferSchema=True)\n",
    "source_df.printSchema()"
   ]
  },
  {
   "cell_type": "code",
   "execution_count": 44,
   "metadata": {},
   "outputs": [
    {
     "name": "stdout",
     "output_type": "stream",
     "text": [
      "root\n",
      " |-- dept_division: string (nullable = true)\n",
      " |-- case_id: integer (nullable = true)\n",
      " |-- case_opened_date: timestamp (nullable = true)\n",
      " |-- case_closed_date: timestamp (nullable = true)\n",
      " |-- SLA_due_date: timestamp (nullable = true)\n",
      " |-- case_late: boolean (nullable = false)\n",
      " |-- num_days_late: double (nullable = true)\n",
      " |-- case_closed: boolean (nullable = false)\n",
      " |-- service_request_type: string (nullable = true)\n",
      " |-- SLA_days: double (nullable = true)\n",
      " |-- case_status: string (nullable = true)\n",
      " |-- source_id: string (nullable = true)\n",
      " |-- request_address: string (nullable = true)\n",
      " |-- council_district: string (nullable = true)\n",
      " |-- days_past_SLA: integer (nullable = true)\n",
      " |-- days_since_opening: integer (nullable = true)\n",
      " |-- year_closed: integer (nullable = true)\n",
      " |-- num_hours_late: double (nullable = true)\n",
      " |-- dept_name: string (nullable = false)\n",
      " |-- standardized_dept_name: string (nullable = true)\n",
      " |-- dept_subject_to_SLA: string (nullable = true)\n",
      "\n"
     ]
    }
   ],
   "source": [
    "joined_df.printSchema()"
   ]
  },
  {
   "cell_type": "code",
   "execution_count": 45,
   "metadata": {},
   "outputs": [
    {
     "name": "stdout",
     "output_type": "stream",
     "text": [
      "root\n",
      " |-- dept_division: string (nullable = true)\n",
      " |-- case_id: integer (nullable = true)\n",
      " |-- case_opened_date: timestamp (nullable = true)\n",
      " |-- case_closed_date: timestamp (nullable = true)\n",
      " |-- SLA_due_date: timestamp (nullable = true)\n",
      " |-- case_late: boolean (nullable = false)\n",
      " |-- num_days_late: double (nullable = true)\n",
      " |-- case_closed: boolean (nullable = false)\n",
      " |-- service_request_type: string (nullable = true)\n",
      " |-- SLA_days: double (nullable = true)\n",
      " |-- case_status: string (nullable = true)\n",
      " |-- source_id: string (nullable = true)\n",
      " |-- request_address: string (nullable = true)\n",
      " |-- council_district: string (nullable = true)\n",
      " |-- days_past_SLA: integer (nullable = true)\n",
      " |-- days_since_opening: integer (nullable = true)\n",
      " |-- year_closed: integer (nullable = true)\n",
      " |-- num_hours_late: double (nullable = true)\n",
      " |-- dept_name: string (nullable = false)\n",
      " |-- standardized_dept_name: string (nullable = true)\n",
      " |-- dept_subject_to_SLA: string (nullable = true)\n",
      " |-- source_id: string (nullable = true)\n",
      " |-- source_username: string (nullable = true)\n",
      "\n",
      "-RECORD 0------------------------------------------------------\n",
      " dept_division          | Field Operations                     \n",
      " case_id                | 1014127332                           \n",
      " case_opened_date       | 2018-01-01 00:42:00                  \n",
      " case_closed_date       | 2018-01-01 12:29:00                  \n",
      " SLA_due_date           | 2020-09-26 00:42:00                  \n",
      " case_late              | false                                \n",
      " num_days_late          | -998.5087616000001                   \n",
      " case_closed            | true                                 \n",
      " service_request_type   | Stray Animal                         \n",
      " SLA_days               | 999.0                                \n",
      " case_status            | Closed                               \n",
      " source_id              | svcCRMLS                             \n",
      " request_address        | 2315  EL PASO ST, San Antonio, 78207 \n",
      " council_district       | 5                                    \n",
      " days_past_SLA          | -497                                 \n",
      " days_since_opening     | 502                                  \n",
      " year_closed            | 2018                                 \n",
      " num_hours_late         | -23964.2102784                       \n",
      " dept_name              | Animal Care Services                 \n",
      " standardized_dept_name | Animal Care Services                 \n",
      " dept_subject_to_SLA    | YES                                  \n",
      " source_id              | svcCRMLS                             \n",
      " source_username        | svcCRMLS                             \n",
      "-RECORD 1------------------------------------------------------\n",
      " dept_division          | Storm Water                          \n",
      " case_id                | 1014127333                           \n",
      " case_opened_date       | 2018-01-01 00:46:00                  \n",
      " case_closed_date       | 2018-01-03 08:11:00                  \n",
      " SLA_due_date           | 2018-01-05 08:30:00                  \n",
      " case_late              | false                                \n",
      " num_days_late          | -2.0126041669999997                  \n",
      " case_closed            | true                                 \n",
      " service_request_type   | Removal Of Obstruction               \n",
      " SLA_days               | 4.322222222                          \n",
      " case_status            | Closed                               \n",
      " source_id              | svcCRMSS                             \n",
      " request_address        | 2215  GOLIAD RD, San Antonio, 78223  \n",
      " council_district       | 3                                    \n",
      " days_past_SLA          | 498                                  \n",
      " days_since_opening     | 502                                  \n",
      " year_closed            | 2018                                 \n",
      " num_hours_late         | -48.302500007999996                  \n",
      " dept_name              | Trans & Cap Improvements             \n",
      " standardized_dept_name | Trans & Cap Improvements             \n",
      " dept_subject_to_SLA    | YES                                  \n",
      " source_id              | svcCRMSS                             \n",
      " source_username        | svcCRMSS                             \n",
      "only showing top 2 rows\n",
      "\n"
     ]
    }
   ],
   "source": [
    "all_df = joined_df.join(source_df, joined_df.source_id == source_df.source_id, 'left_outer')\n",
    "all_df.printSchema()\n",
    "all_df.show(2, vertical=True, truncate=False)"
   ]
  },
  {
   "cell_type": "markdown",
   "metadata": {},
   "source": [
    "3. Are there any cases that do not have a request source? NO"
   ]
  },
  {
   "cell_type": "code",
   "execution_count": 46,
   "metadata": {},
   "outputs": [
    {
     "name": "stdout",
     "output_type": "stream",
     "text": [
      "(0 rows)\n",
      "\n"
     ]
    }
   ],
   "source": [
    "joined_df.join(source_df, joined_df.source_id == source_df.source_id, \"left_anti\") \\\n",
    "         .show(vertical=True, truncate=False)"
   ]
  },
  {
   "cell_type": "markdown",
   "metadata": {},
   "source": [
    "# Part 4\n",
    "1. Who are the top 10 service request types in terms of number of requests?"
   ]
  },
  {
   "cell_type": "code",
   "execution_count": 47,
   "metadata": {},
   "outputs": [
    {
     "name": "stdout",
     "output_type": "stream",
     "text": [
      "+--------------------------------+-----+\n",
      "|service_request_type            |count|\n",
      "+--------------------------------+-----+\n",
      "|No Pickup                       |89210|\n",
      "|Overgrown Yard/Trash            |66403|\n",
      "|Bandit Signs                    |32968|\n",
      "|Damaged Cart                    |31163|\n",
      "|Front Or Side Yard Parking      |28920|\n",
      "|Stray Animal                    |27361|\n",
      "|Aggressive Animal(Non-Critical) |25492|\n",
      "|Cart Exchange Request           |22608|\n",
      "|Junk Vehicle On Private Property|21649|\n",
      "|Pot Hole Repair                 |20827|\n",
      "+--------------------------------+-----+\n",
      "only showing top 10 rows\n",
      "\n"
     ]
    }
   ],
   "source": [
    "all_df.groupBy('service_request_type') \\\n",
    "      .agg(count('service_request_type').alias('count')) \\\n",
    "      .sort('count',ascending=False) \\\n",
    "      .show(10, truncate=False)"
   ]
  },
  {
   "cell_type": "markdown",
   "metadata": {},
   "source": [
    "2. Who are the top 10 service request types in terms of average days late?"
   ]
  },
  {
   "cell_type": "code",
   "execution_count": 48,
   "metadata": {},
   "outputs": [
    {
     "name": "stdout",
     "output_type": "stream",
     "text": [
      "+--------------------------------------+------------------+\n",
      "|service_request_type                  |avg_days_late     |\n",
      "+--------------------------------------+------------------+\n",
      "|Zoning: Junk Yards                    |175.95636210420932|\n",
      "|Labeling for Used Mattress            |162.43032902285717|\n",
      "|Record Keeping of Used Mattresses     |153.99724039428568|\n",
      "|Signage Requied for Sale of Used Mattr|151.63868055333333|\n",
      "|Storage of Used Mattress              |142.112556415     |\n",
      "|Zoning: Recycle Yard                  |135.9285161247979 |\n",
      "|Donation Container Enforcement        |131.75610506358706|\n",
      "|License Requied Used Mattress Sales   |128.79828704142858|\n",
      "|Traffic Signal Graffiti               |101.79846062200002|\n",
      "|Complaint                             |72.87050230311685 |\n",
      "+--------------------------------------+------------------+\n",
      "only showing top 10 rows\n",
      "\n"
     ]
    }
   ],
   "source": [
    "all_df.groupBy('service_request_type') \\\n",
    "      .agg(mean('num_days_late').alias('avg_days_late')) \\\n",
    "      .sort('avg_days_late',ascending=False) \\\n",
    "      .show(10, truncate=False)"
   ]
  },
  {
   "cell_type": "markdown",
   "metadata": {},
   "source": [
    "3. Does number of days late depend on department?\n",
    "##### Code enforcement wins this prize!"
   ]
  },
  {
   "cell_type": "code",
   "execution_count": 49,
   "metadata": {},
   "outputs": [
    {
     "name": "stdout",
     "output_type": "stream",
     "text": [
      "+--------------------------------------+---------------------------+------------------+\n",
      "|service_request_type                  |dept_division              |avg_days_late     |\n",
      "+--------------------------------------+---------------------------+------------------+\n",
      "|Zoning: Junk Yards                    |Code Enforcement           |175.95636210420932|\n",
      "|Labeling for Used Mattress            |Code Enforcement (IntExp)  |162.43032902285717|\n",
      "|Record Keeping of Used Mattresses     |Code Enforcement (IntExp)  |153.99724039428568|\n",
      "|Signage Requied for Sale of Used Mattr|Code Enforcement (IntExp)  |151.63868055333333|\n",
      "|Storage of Used Mattress              |Code Enforcement (IntExp)  |142.112556415     |\n",
      "|Zoning: Recycle Yard                  |Code Enforcement (Internal)|135.9285161247979 |\n",
      "|Donation Container Enforcement        |Code Enforcement           |131.75610506358706|\n",
      "|License Requied Used Mattress Sales   |Code Enforcement (IntExp)  |128.79828704142858|\n",
      "|Traffic Signal Graffiti               |Signals                    |101.79846062200002|\n",
      "|Used Mattress Inspection              |Code Enforcement (IntExp)  |92.93570056835294 |\n",
      "+--------------------------------------+---------------------------+------------------+\n",
      "only showing top 10 rows\n",
      "\n"
     ]
    }
   ],
   "source": [
    "all_df.groupBy('service_request_type', 'dept_division') \\\n",
    "      .agg(mean('num_days_late').alias('avg_days_late')) \\\n",
    "      .sort('avg_days_late',ascending=False) \\\n",
    "      .show(10, truncate=False)"
   ]
  },
  {
   "cell_type": "markdown",
   "metadata": {},
   "source": [
    "Calculate average days late by department."
   ]
  },
  {
   "cell_type": "code",
   "execution_count": 50,
   "metadata": {},
   "outputs": [
    {
     "name": "stdout",
     "output_type": "stream",
     "text": [
      "+-----------------------------+------------------+\n",
      "|dept_division                |avg_days_late     |\n",
      "+-----------------------------+------------------+\n",
      "|Code Enforcement (Internal)  |135.9285161247979 |\n",
      "|Reservations                 |66.03116319       |\n",
      "|311 Call Center              |59.737091496300735|\n",
      "|Director's Office Horizontal |37.57064670295004 |\n",
      "|Engineering Division         |13.433724555869683|\n",
      "|Shops                        |9.641261768722693 |\n",
      "|Tree Crew                    |4.723282812065398 |\n",
      "|Solid Waste                  |3.519023919876228 |\n",
      "|Trades                       |3.2319771412769382|\n",
      "|Clean and Green Natural Areas|1.6914689194878048|\n",
      "+-----------------------------+------------------+\n",
      "only showing top 10 rows\n",
      "\n"
     ]
    }
   ],
   "source": [
    "all_df.groupBy('dept_division') \\\n",
    "      .agg(mean('num_days_late').alias('avg_days_late')) \\\n",
    "      .sort('avg_days_late',ascending=False) \\\n",
    "      .show(10, truncate=False)"
   ]
  },
  {
   "cell_type": "markdown",
   "metadata": {},
   "source": [
    "4. How do number of days late depend on department division and request type?"
   ]
  },
  {
   "cell_type": "code",
   "execution_count": 51,
   "metadata": {},
   "outputs": [
    {
     "name": "stdout",
     "output_type": "stream",
     "text": [
      "+----------------------------+--------------------------------------+------------------+\n",
      "|dept_division               |service_request_type                  |avg_days_late     |\n",
      "+----------------------------+--------------------------------------+------------------+\n",
      "|Code Enforcement            |Zoning: Junk Yards                    |175.95636210420932|\n",
      "|Code Enforcement (IntExp)   |Labeling for Used Mattress            |162.43032902285717|\n",
      "|Code Enforcement (IntExp)   |Record Keeping of Used Mattresses     |153.99724039428568|\n",
      "|Code Enforcement (IntExp)   |Signage Requied for Sale of Used Mattr|151.63868055333333|\n",
      "|Code Enforcement (IntExp)   |Storage of Used Mattress              |142.112556415     |\n",
      "|Code Enforcement (Internal) |Zoning: Recycle Yard                  |135.9285161247979 |\n",
      "|Code Enforcement            |Donation Container Enforcement        |131.75610506358706|\n",
      "|Code Enforcement (IntExp)   |License Requied Used Mattress Sales   |128.79828704142858|\n",
      "|Signals                     |Traffic Signal Graffiti               |101.79846062200002|\n",
      "|Code Enforcement (IntExp)   |Used Mattress Inspection              |92.93570056835294 |\n",
      "|Code Enforcement (IntExp)   |Bandit Signs                          |87.6176412032     |\n",
      "|311 Call Center             |Complaint                             |72.87050230311685 |\n",
      "|Code Enforcement            |Vendors                               |66.54809898507797 |\n",
      "|Reservations                |Reservation Assistance                |66.03116319       |\n",
      "|Waste Collection            |Contracted Service Issues             |62.2454525543     |\n",
      "|Code Enforcement            |No Address Posted                     |59.87564073362597 |\n",
      "|Code Enforcement            |Curbstoning                           |59.80862897760523 |\n",
      "|Director's Office Horizontal|Status: On-Going CIMS Projects        |37.57064670295004 |\n",
      "|Code Enforcement (IntExp)   |Historical Building (No Permits)      |31.567148565454545|\n",
      "|Waste Collection            |Service Information                   |29.17735574905489 |\n",
      "+----------------------------+--------------------------------------+------------------+\n",
      "only showing top 20 rows\n",
      "\n"
     ]
    }
   ],
   "source": [
    "all_df.groupBy('dept_division', 'service_request_type') \\\n",
    "      .agg(mean('num_days_late').alias('avg_days_late')) \\\n",
    "      .sort('avg_days_late',ascending=False) \\\n",
    "      .show(truncate=False)"
   ]
  },
  {
   "cell_type": "markdown",
   "metadata": {},
   "source": [
    "For the most part, the request type does not significantly vary the days late in each department. \n",
    "\n",
    "Consider the number of requests that each department receives."
   ]
  },
  {
   "cell_type": "code",
   "execution_count": 52,
   "metadata": {},
   "outputs": [
    {
     "name": "stdout",
     "output_type": "stream",
     "text": [
      "+------------------+--------------+\n",
      "|dept_division     |count_requests|\n",
      "+------------------+--------------+\n",
      "|Code Enforcement  |274298        |\n",
      "|Waste Collection  |220696        |\n",
      "|Field Operations  |119362        |\n",
      "|Miscellaneous     |46165         |\n",
      "|Streets           |39193         |\n",
      "|Signals           |21095         |\n",
      "|Brush             |18610         |\n",
      "|Signs and Markings|18127         |\n",
      "|Dangerous Premise |15648         |\n",
      "|Graffiti (IntExp) |15154         |\n",
      "+------------------+--------------+\n",
      "only showing top 10 rows\n",
      "\n"
     ]
    }
   ],
   "source": [
    "all_df.groupBy('dept_division') \\\n",
    "      .agg(count('service_request_type').alias('count_requests')) \\\n",
    "      .sort('count_requests',ascending=False) \\\n",
    "      .show(10, truncate=False)"
   ]
  },
  {
   "cell_type": "markdown",
   "metadata": {},
   "source": [
    "Code Enforcement does have the most requests, but Waste Collection is second and it \n",
    "was much lower on the number of days late."
   ]
  },
  {
   "cell_type": "code",
   "execution_count": 53,
   "metadata": {},
   "outputs": [],
   "source": [
    "spark.stop()"
   ]
  },
  {
   "cell_type": "code",
   "execution_count": null,
   "metadata": {},
   "outputs": [],
   "source": []
  }
 ],
 "metadata": {
  "kernelspec": {
   "display_name": "Python 3",
   "language": "python",
   "name": "python3"
  },
  "language_info": {
   "codemirror_mode": {
    "name": "ipython",
    "version": 3
   },
   "file_extension": ".py",
   "mimetype": "text/x-python",
   "name": "python",
   "nbconvert_exporter": "python",
   "pygments_lexer": "ipython3",
   "version": "3.7.1"
  }
 },
 "nbformat": 4,
 "nbformat_minor": 2
}
