{
 "cells": [
  {
   "cell_type": "code",
   "execution_count": 1,
   "metadata": {},
   "outputs": [
    {
     "name": "stderr",
     "output_type": "stream",
     "text": [
      "Using TensorFlow backend.\n"
     ]
    }
   ],
   "source": [
    "from keras import models\n",
    "from keras import layers\n",
    "from keras.utils import to_categorical\n",
    "from keras.datasets import mnist # bring in the MNIST data set"
   ]
  },
  {
   "cell_type": "code",
   "execution_count": 2,
   "metadata": {},
   "outputs": [],
   "source": [
    "# Acquire the data set\n",
    "(train_images, train_labels), (test_images, test_labels) = mnist.load_data()"
   ]
  },
  {
   "cell_type": "code",
   "execution_count": 3,
   "metadata": {},
   "outputs": [
    {
     "name": "stdout",
     "output_type": "stream",
     "text": [
      "(60000, 28, 28)\n"
     ]
    }
   ],
   "source": [
    "# explore the shape of the data\n",
    "print(train_images.shape)"
   ]
  },
  {
   "cell_type": "code",
   "execution_count": 5,
   "metadata": {},
   "outputs": [],
   "source": [
    "# data transformations (geometric transformations)\n",
    "# These are the layers in our neural network\n",
    "network = models.Sequential()\n",
    "network.add(layers.Dense(512, activation='relu', input_shape=(28 * 28,)))\n",
    "network.add(layers.Dense(10, activation='softmax'))"
   ]
  },
  {
   "cell_type": "markdown",
   "metadata": {},
   "source": [
    "#### A loss function\n",
    "How the network will be able to measure its performance on the training data, and thus how it will be able to steer itself in the right direction.\n",
    "\n",
    "#### An optimizer\n",
    "The mechanism through which the network will update itself based on the data it sees and its loss function.\n",
    "\n",
    "#### Metrics to monitor during training and testing\n",
    "Here, we’ll only care about accuracy (the fraction of the images that were correctly classified)"
   ]
  },
  {
   "cell_type": "code",
   "execution_count": 6,
   "metadata": {},
   "outputs": [],
   "source": [
    "# create our network, specifying the optimizer, loss function, and metrics we want\n",
    "network.compile(optimizer='rmsprop',\n",
    "               loss='categorical_crossentropy',\n",
    "               metrics=['accuracy'])"
   ]
  },
  {
   "cell_type": "code",
   "execution_count": 7,
   "metadata": {},
   "outputs": [
    {
     "data": {
      "text/plain": [
       "(60000, 784)"
      ]
     },
     "execution_count": 7,
     "metadata": {},
     "output_type": "execute_result"
    }
   ],
   "source": [
    "# reshape\n",
    "train_images = train_images.reshape((60000,28*28))\n",
    "train_images = train_images.astype('float32') /255\n",
    "test_images = test_images.reshape((10000, 28 * 28))\n",
    "test_images = test_images.astype('float32') /255\n",
    "\n",
    "train_images.shape"
   ]
  },
  {
   "cell_type": "code",
   "execution_count": 9,
   "metadata": {},
   "outputs": [],
   "source": [
    "# set the labels as categorical values\n",
    "train_labels = to_categorical(train_labels)\n",
    "test_labels = to_categorical(test_labels)"
   ]
  },
  {
   "cell_type": "code",
   "execution_count": 12,
   "metadata": {},
   "outputs": [
    {
     "name": "stdout",
     "output_type": "stream",
     "text": [
      "Epoch 1/17\n",
      "60000/60000 [==============================] - 2s 30us/step - loss: 0.0175 - acc: 0.9952\n",
      "Epoch 2/17\n",
      "60000/60000 [==============================] - 2s 31us/step - loss: 0.0137 - acc: 0.9964\n",
      "Epoch 3/17\n",
      "60000/60000 [==============================] - 2s 30us/step - loss: 0.0102 - acc: 0.9971\n",
      "Epoch 4/17\n",
      "60000/60000 [==============================] - 2s 30us/step - loss: 0.0083 - acc: 0.9976\n",
      "Epoch 5/17\n",
      "60000/60000 [==============================] - 2s 31us/step - loss: 0.0063 - acc: 0.9983\n",
      "Epoch 6/17\n",
      "60000/60000 [==============================] - 2s 31us/step - loss: 0.0050 - acc: 0.9985\n",
      "Epoch 7/17\n",
      "60000/60000 [==============================] - 2s 31us/step - loss: 0.0044 - acc: 0.9987\n",
      "Epoch 8/17\n",
      "60000/60000 [==============================] - 2s 31us/step - loss: 0.0031 - acc: 0.9993\n",
      "Epoch 9/17\n",
      "60000/60000 [==============================] - 2s 31us/step - loss: 0.0025 - acc: 0.9994\n",
      "Epoch 10/17\n",
      "60000/60000 [==============================] - 2s 31us/step - loss: 0.0024 - acc: 0.9994\n",
      "Epoch 11/17\n",
      "60000/60000 [==============================] - 2s 32us/step - loss: 0.0019 - acc: 0.9995\n",
      "Epoch 12/17\n",
      "60000/60000 [==============================] - 2s 33us/step - loss: 0.0015 - acc: 0.9997\n",
      "Epoch 13/17\n",
      "60000/60000 [==============================] - 2s 31us/step - loss: 0.0013 - acc: 0.9997\n",
      "Epoch 14/17\n",
      "60000/60000 [==============================] - 2s 31us/step - loss: 0.0014 - acc: 0.9996\n",
      "Epoch 15/17\n",
      "60000/60000 [==============================] - 2s 32us/step - loss: 9.6420e-04 - acc: 0.9998\n",
      "Epoch 16/17\n",
      "60000/60000 [==============================] - 2s 32us/step - loss: 8.8216e-04 - acc: 0.9998\n",
      "Epoch 17/17\n",
      "60000/60000 [==============================] - 2s 33us/step - loss: 7.7767e-04 - acc: 0.9998\n"
     ]
    },
    {
     "data": {
      "text/plain": [
       "<keras.callbacks.History at 0xb404a5470>"
      ]
     },
     "execution_count": 12,
     "metadata": {},
     "output_type": "execute_result"
    }
   ],
   "source": [
    "# fit the model to the training data\n",
    "network.fit(train_images, train_labels, epochs=17, batch_size=128)"
   ]
  },
  {
   "cell_type": "code",
   "execution_count": 13,
   "metadata": {},
   "outputs": [
    {
     "name": "stdout",
     "output_type": "stream",
     "text": [
      "10000/10000 [==============================] - 0s 19us/step\n",
      "test_acc: 0.9823\n"
     ]
    }
   ],
   "source": [
    "test_loss, test_acc = network.evaluate(test_images, test_labels)\n",
    "\n",
    "print('test_acc:', test_acc)"
   ]
  },
  {
   "cell_type": "code",
   "execution_count": null,
   "metadata": {},
   "outputs": [],
   "source": []
  }
 ],
 "metadata": {
  "kernelspec": {
   "display_name": "Python 3",
   "language": "python",
   "name": "python3"
  },
  "language_info": {
   "codemirror_mode": {
    "name": "ipython",
    "version": 3
   },
   "file_extension": ".py",
   "mimetype": "text/x-python",
   "name": "python",
   "nbconvert_exporter": "python",
   "pygments_lexer": "ipython3",
   "version": "3.7.1"
  }
 },
 "nbformat": 4,
 "nbformat_minor": 2
}
