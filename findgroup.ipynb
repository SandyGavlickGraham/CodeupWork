{
 "cells": [
  {
   "cell_type": "code",
   "execution_count": 8,
   "metadata": {},
   "outputs": [],
   "source": [
    "import pandas as pd\n",
    "from pydataset import data # data is a function that gives a dataframe\n",
    "from sqlalchemy import create_engine\n",
    "from env import user, host, pw\n",
    "# need to create this in an env file and enter user, host, and password"
   ]
  },
  {
   "cell_type": "code",
   "execution_count": 9,
   "metadata": {},
   "outputs": [],
   "source": [
    "def get_db_url(db, user, host, password):\n",
    "    from sqlalchemy import create_engine\n",
    "#     url = f'mysql+mysqlconnector://{user}:{password}@{host}/{db}'\n",
    "    url = 'mysql+pymysql://{}:{}@{}/ada_students'.format(user, pw, host)\n",
    "    return create_engine(url)\n",
    "\n",
    "conn = get_db_url('ada_students', user, host, pw)\n",
    "\n",
    "\n",
    "df = pd.read_sql(\n",
    "    'SELECT group_id, first_name, last_name, modules.module_id \\\n",
    "    FROM student_groups \\\n",
    "    JOIN students \\\n",
    "    ON student_groups.student_id = students.student_id \\\n",
    "    JOIN modules \\\n",
    "    ON  student_groups.module_id = modules.module_id \\\n",
    "    WHERE modules.module_id = 5 and group_id = 3 \\\n",
    "    ORDER BY group_id;', \n",
    "    conn)"
   ]
  },
  {
   "cell_type": "code",
   "execution_count": 10,
   "metadata": {},
   "outputs": [
    {
     "data": {
      "text/html": [
       "<div>\n",
       "<style scoped>\n",
       "    .dataframe tbody tr th:only-of-type {\n",
       "        vertical-align: middle;\n",
       "    }\n",
       "\n",
       "    .dataframe tbody tr th {\n",
       "        vertical-align: top;\n",
       "    }\n",
       "\n",
       "    .dataframe thead th {\n",
       "        text-align: right;\n",
       "    }\n",
       "</style>\n",
       "<table border=\"1\" class=\"dataframe\">\n",
       "  <thead>\n",
       "    <tr style=\"text-align: right;\">\n",
       "      <th></th>\n",
       "      <th>group_id</th>\n",
       "      <th>first_name</th>\n",
       "      <th>last_name</th>\n",
       "      <th>module_id</th>\n",
       "    </tr>\n",
       "  </thead>\n",
       "  <tbody>\n",
       "    <tr>\n",
       "      <th>0</th>\n",
       "      <td>3</td>\n",
       "      <td>Sandy</td>\n",
       "      <td>Graham</td>\n",
       "      <td>5</td>\n",
       "    </tr>\n",
       "    <tr>\n",
       "      <th>1</th>\n",
       "      <td>3</td>\n",
       "      <td>Ednalyn</td>\n",
       "      <td>De Dios</td>\n",
       "      <td>5</td>\n",
       "    </tr>\n",
       "  </tbody>\n",
       "</table>\n",
       "</div>"
      ],
      "text/plain": [
       "   group_id first_name last_name  module_id\n",
       "0         3      Sandy    Graham          5\n",
       "1         3    Ednalyn   De Dios          5"
      ]
     },
     "execution_count": 10,
     "metadata": {},
     "output_type": "execute_result"
    }
   ],
   "source": [
    "df"
   ]
  },
  {
   "cell_type": "code",
   "execution_count": null,
   "metadata": {},
   "outputs": [],
   "source": []
  }
 ],
 "metadata": {
  "kernelspec": {
   "display_name": "Python 3",
   "language": "python",
   "name": "python3"
  },
  "language_info": {
   "codemirror_mode": {
    "name": "ipython",
    "version": 3
   },
   "file_extension": ".py",
   "mimetype": "text/x-python",
   "name": "python",
   "nbconvert_exporter": "python",
   "pygments_lexer": "ipython3",
   "version": "3.7.1"
  }
 },
 "nbformat": 4,
 "nbformat_minor": 2
}
