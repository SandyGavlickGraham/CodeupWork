{
 "cells": [
  {
   "cell_type": "code",
   "execution_count": 1,
   "metadata": {},
   "outputs": [
    {
     "name": "stdout",
     "output_type": "stream",
     "text": [
      "cufflinks version  0.15\n"
     ]
    }
   ],
   "source": [
    "# import prepared data\n",
    "from prepare_zillow import prepare_zillow_without_outliers\n",
    "from summarize import df_summary\n",
    "\n",
    "# ignore warnings\n",
    "import warnings\n",
    "warnings.filterwarnings(\"ignore\")\n",
    "\n",
    "# Wrangling\n",
    "import numpy as np\n",
    "import pandas as pd\n",
    "\n",
    "# Visualizing\n",
    "%matplotlib inline\n",
    "import matplotlib.pyplot as plt\n",
    "from matplotlib import cm\n",
    "import seaborn as sns\n",
    "import plotly.plotly as py\n",
    "import plotly.tools as tls\n",
    "import cufflinks as cf\n",
    "print('cufflinks version ', cf.__version__)\n",
    "import plotly.graph_objs as go\n",
    "import sys # used in command to make entire array print by default\n",
    "\n",
    "# Modeling\n",
    "from scipy.spatial.distance import cdist\n",
    "from scipy.cluster.vq import kmeans2, whiten\n",
    "from sklearn.cluster import KMeans\n",
    "from sklearn import metrics\n",
    "import math\n",
    "from mpl_toolkits.mplot3d import Axes3D\n",
    "%matplotlib inline\n",
    "from sklearn.preprocessing import LabelEncoder\n",
    "from sklearn.preprocessing import MinMaxScaler\n",
    "import xgboost as xgb\n",
    "from scipy import stats\n",
    "from pandas.tools.plotting import scatter_matrix\n",
    "from matplotlib.ticker import FormatStrFormatter\n",
    "from sklearn.linear_model import LinearRegression\n",
    "from matplotlib.figure import Figure\n",
    "from sklearn.cluster import KMeans\n",
    "\n",
    "from sklearn.metrics import mean_squared_error, r2_score, mean_absolute_error, median_absolute_error\n",
    "from sklearn.feature_selection import f_regression\n",
    "from sklearn.preprocessing import PolynomialFeatures\n",
    "from sklearn.model_selection import train_test_split\n",
    "import statsmodels.api as sm\n",
    "from statsmodels.sandbox.regression.predstd import wls_prediction_std\n",
    "\n",
    "\n",
    "# Though the following import is not directly being used, it is required\n",
    "# for 3D projection to work\n",
    "from mpl_toolkits.mplot3d import Axes3D\n",
    "pd.options.display.float_format = '{:20,.2f}'.format\n",
    "\n",
    "# ignore warnings\n",
    "import warnings\n",
    "warnings.filterwarnings(\"ignore\")\n",
    "\n",
    "# import os\n",
    "# import sys"
   ]
  },
  {
   "cell_type": "code",
   "execution_count": 2,
   "metadata": {},
   "outputs": [
    {
     "data": {
      "application/javascript": [
       "IPython.OutputArea.prototype._should_scroll = function(lines) {\n",
       "    return false;\n",
       "}\n"
      ],
      "text/plain": [
       "<IPython.core.display.Javascript object>"
      ]
     },
     "metadata": {},
     "output_type": "display_data"
    }
   ],
   "source": [
    "%%javascript\n",
    "IPython.OutputArea.prototype._should_scroll = function(lines) {\n",
    "    return false;\n",
    "}"
   ]
  },
  {
   "cell_type": "code",
   "execution_count": 3,
   "metadata": {},
   "outputs": [],
   "source": [
    "# makes entire array print by default, can add [:##] to end to set length\n",
    "np.set_printoptions(threshold=sys.maxsize)"
   ]
  },
  {
   "cell_type": "code",
   "execution_count": 4,
   "metadata": {},
   "outputs": [
    {
     "name": "stdout",
     "output_type": "stream",
     "text": [
      "Reading Zillow data...\n",
      "Preparing and cleaning Zillow data...\n",
      "LinearRegression(copy_X=True, fit_intercept=True, n_jobs=None,\n",
      "         normalize=False)\n",
      "[33039.95776043]\n",
      "[[-0.00962733]]\n",
      "Univariate - final_exam = b + m * exam1\n",
      "    y-intercept (b): 33039.96\n",
      "    coefficient (m): -0.01\n",
      "\n",
      "Zillow data is now ready for analysis!\n"
     ]
    },
    {
     "data": {
      "text/html": [
       "<div>\n",
       "<style scoped>\n",
       "    .dataframe tbody tr th:only-of-type {\n",
       "        vertical-align: middle;\n",
       "    }\n",
       "\n",
       "    .dataframe tbody tr th {\n",
       "        vertical-align: top;\n",
       "    }\n",
       "\n",
       "    .dataframe thead th {\n",
       "        text-align: right;\n",
       "    }\n",
       "</style>\n",
       "<table border=\"1\" class=\"dataframe\">\n",
       "  <thead>\n",
       "    <tr style=\"text-align: right;\">\n",
       "      <th></th>\n",
       "      <th>logerror</th>\n",
       "      <th>bath</th>\n",
       "      <th>bed</th>\n",
       "      <th>bedbath</th>\n",
       "      <th>totsqft</th>\n",
       "      <th>finsqft</th>\n",
       "      <th>year</th>\n",
       "      <th>land_tax_val</th>\n",
       "      <th>struct_tax_val</th>\n",
       "      <th>land_struct_tax_val</th>\n",
       "      <th>...</th>\n",
       "      <th>lotsize</th>\n",
       "      <th>bldgqualtype</th>\n",
       "      <th>hvac</th>\n",
       "      <th>landusecode</th>\n",
       "      <th>landusedesc</th>\n",
       "      <th>propzone</th>\n",
       "      <th>rawcensus</th>\n",
       "      <th>census</th>\n",
       "      <th>assessmentyr</th>\n",
       "      <th>transdate</th>\n",
       "    </tr>\n",
       "    <tr>\n",
       "      <th>parcelid</th>\n",
       "      <th></th>\n",
       "      <th></th>\n",
       "      <th></th>\n",
       "      <th></th>\n",
       "      <th></th>\n",
       "      <th></th>\n",
       "      <th></th>\n",
       "      <th></th>\n",
       "      <th></th>\n",
       "      <th></th>\n",
       "      <th></th>\n",
       "      <th></th>\n",
       "      <th></th>\n",
       "      <th></th>\n",
       "      <th></th>\n",
       "      <th></th>\n",
       "      <th></th>\n",
       "      <th></th>\n",
       "      <th></th>\n",
       "      <th></th>\n",
       "      <th></th>\n",
       "    </tr>\n",
       "  </thead>\n",
       "  <tbody>\n",
       "    <tr>\n",
       "      <th>12786074</th>\n",
       "      <td>-0.01</td>\n",
       "      <td>0.00</td>\n",
       "      <td>0.10</td>\n",
       "      <td>0.10</td>\n",
       "      <td>0.05</td>\n",
       "      <td>0.05</td>\n",
       "      <td>0.43</td>\n",
       "      <td>0.10</td>\n",
       "      <td>0.01</td>\n",
       "      <td>0.11</td>\n",
       "      <td>...</td>\n",
       "      <td>0.00</td>\n",
       "      <td>6.00</td>\n",
       "      <td>Floor/Wall</td>\n",
       "      <td>0100</td>\n",
       "      <td>Single Family Residential</td>\n",
       "      <td>WHR2YY</td>\n",
       "      <td>60375014</td>\n",
       "      <td>60375014003001</td>\n",
       "      <td>2016</td>\n",
       "      <td>2017-08-30</td>\n",
       "    </tr>\n",
       "    <tr>\n",
       "      <th>11966059</th>\n",
       "      <td>0.13</td>\n",
       "      <td>0.00</td>\n",
       "      <td>0.00</td>\n",
       "      <td>0.00</td>\n",
       "      <td>0.01</td>\n",
       "      <td>0.01</td>\n",
       "      <td>0.77</td>\n",
       "      <td>0.05</td>\n",
       "      <td>0.01</td>\n",
       "      <td>0.06</td>\n",
       "      <td>...</td>\n",
       "      <td>0.05</td>\n",
       "      <td>6.00</td>\n",
       "      <td>Central</td>\n",
       "      <td>010C</td>\n",
       "      <td>Condominium</td>\n",
       "      <td>LARD1.5</td>\n",
       "      <td>60371838</td>\n",
       "      <td>60371838201002</td>\n",
       "      <td>2016</td>\n",
       "      <td>2017-03-10</td>\n",
       "    </tr>\n",
       "    <tr>\n",
       "      <th>11465241</th>\n",
       "      <td>0.10</td>\n",
       "      <td>0.11</td>\n",
       "      <td>0.10</td>\n",
       "      <td>0.21</td>\n",
       "      <td>0.05</td>\n",
       "      <td>0.05</td>\n",
       "      <td>0.75</td>\n",
       "      <td>0.18</td>\n",
       "      <td>0.02</td>\n",
       "      <td>0.20</td>\n",
       "      <td>...</td>\n",
       "      <td>0.04</td>\n",
       "      <td>7.00</td>\n",
       "      <td>Central</td>\n",
       "      <td>010C</td>\n",
       "      <td>Condominium</td>\n",
       "      <td>LAR3</td>\n",
       "      <td>60372766</td>\n",
       "      <td>60372766031001</td>\n",
       "      <td>2016</td>\n",
       "      <td>2017-03-29</td>\n",
       "    </tr>\n",
       "  </tbody>\n",
       "</table>\n",
       "<p>3 rows × 28 columns</p>\n",
       "</div>"
      ],
      "text/plain": [
       "                     logerror                 bath                  bed  \\\n",
       "parcelid                                                                  \n",
       "12786074                -0.01                 0.00                 0.10   \n",
       "11966059                 0.13                 0.00                 0.00   \n",
       "11465241                 0.10                 0.11                 0.10   \n",
       "\n",
       "                      bedbath              totsqft              finsqft  \\\n",
       "parcelid                                                                  \n",
       "12786074                 0.10                 0.05                 0.05   \n",
       "11966059                 0.00                 0.01                 0.01   \n",
       "11465241                 0.21                 0.05                 0.05   \n",
       "\n",
       "                         year         land_tax_val       struct_tax_val  \\\n",
       "parcelid                                                                  \n",
       "12786074                 0.43                 0.10                 0.01   \n",
       "11966059                 0.77                 0.05                 0.01   \n",
       "11465241                 0.75                 0.18                 0.02   \n",
       "\n",
       "          land_struct_tax_val     ...                  lotsize  \\\n",
       "parcelid                          ...                            \n",
       "12786074                 0.11     ...                     0.00   \n",
       "11966059                 0.06     ...                     0.05   \n",
       "11465241                 0.20     ...                     0.04   \n",
       "\n",
       "                 bldgqualtype        hvac landusecode  \\\n",
       "parcelid                                                \n",
       "12786074                 6.00  Floor/Wall        0100   \n",
       "11966059                 6.00     Central        010C   \n",
       "11465241                 7.00     Central        010C   \n",
       "\n",
       "                        landusedesc propzone  rawcensus          census  \\\n",
       "parcelid                                                                  \n",
       "12786074  Single Family Residential   WHR2YY   60375014  60375014003001   \n",
       "11966059                Condominium  LARD1.5   60371838  60371838201002   \n",
       "11465241                Condominium     LAR3   60372766  60372766031001   \n",
       "\n",
       "          assessmentyr   transdate  \n",
       "parcelid                            \n",
       "12786074          2016  2017-08-30  \n",
       "11966059          2016  2017-03-10  \n",
       "11465241          2016  2017-03-29  \n",
       "\n",
       "[3 rows x 28 columns]"
      ]
     },
     "execution_count": 4,
     "metadata": {},
     "output_type": "execute_result"
    }
   ],
   "source": [
    "df = prepare_zillow_without_outliers()\n",
    "df.sample(3)\n",
    "# Kept only the single unit properties, per Michael's function.\n",
    "# Dropped columns with more than 45% data missing in a column\n",
    "# and dropped rows with more than 25% data missing in the row.\n",
    "# Filled missing calculatedbathnbr and fullbathcnt with bathroomcnt\n",
    "# then went back and dropped all rows with ANY missing values.\n",
    "# Converted the datatypes of the numeric columns to int and category as appropriate."
   ]
  },
  {
   "cell_type": "code",
   "execution_count": 5,
   "metadata": {},
   "outputs": [
    {
     "data": {
      "text/html": [
       "<div>\n",
       "<style scoped>\n",
       "    .dataframe tbody tr th:only-of-type {\n",
       "        vertical-align: middle;\n",
       "    }\n",
       "\n",
       "    .dataframe tbody tr th {\n",
       "        vertical-align: top;\n",
       "    }\n",
       "\n",
       "    .dataframe thead th {\n",
       "        text-align: right;\n",
       "    }\n",
       "</style>\n",
       "<table border=\"1\" class=\"dataframe\">\n",
       "  <thead>\n",
       "    <tr style=\"text-align: right;\">\n",
       "      <th></th>\n",
       "      <th>logerror</th>\n",
       "      <th>bath</th>\n",
       "      <th>bed</th>\n",
       "      <th>bedbath</th>\n",
       "      <th>totsqft</th>\n",
       "      <th>finsqft</th>\n",
       "      <th>year</th>\n",
       "      <th>land_tax_val</th>\n",
       "      <th>struct_tax_val</th>\n",
       "      <th>land_struct_tax_val</th>\n",
       "      <th>...</th>\n",
       "      <th>lotsize</th>\n",
       "      <th>bldgqualtype</th>\n",
       "      <th>hvac</th>\n",
       "      <th>landusecode</th>\n",
       "      <th>landusedesc</th>\n",
       "      <th>propzone</th>\n",
       "      <th>rawcensus</th>\n",
       "      <th>census</th>\n",
       "      <th>assessmentyr</th>\n",
       "      <th>transdate</th>\n",
       "    </tr>\n",
       "    <tr>\n",
       "      <th>parcelid</th>\n",
       "      <th></th>\n",
       "      <th></th>\n",
       "      <th></th>\n",
       "      <th></th>\n",
       "      <th></th>\n",
       "      <th></th>\n",
       "      <th></th>\n",
       "      <th></th>\n",
       "      <th></th>\n",
       "      <th></th>\n",
       "      <th></th>\n",
       "      <th></th>\n",
       "      <th></th>\n",
       "      <th></th>\n",
       "      <th></th>\n",
       "      <th></th>\n",
       "      <th></th>\n",
       "      <th></th>\n",
       "      <th></th>\n",
       "      <th></th>\n",
       "      <th></th>\n",
       "    </tr>\n",
       "  </thead>\n",
       "  <tbody>\n",
       "    <tr>\n",
       "      <th>11016594</th>\n",
       "      <td>0.03</td>\n",
       "      <td>0.11</td>\n",
       "      <td>0.20</td>\n",
       "      <td>0.31</td>\n",
       "      <td>0.10</td>\n",
       "      <td>0.10</td>\n",
       "      <td>0.59</td>\n",
       "      <td>0.09</td>\n",
       "      <td>0.02</td>\n",
       "      <td>0.11</td>\n",
       "      <td>...</td>\n",
       "      <td>0.00</td>\n",
       "      <td>4.00</td>\n",
       "      <td>0</td>\n",
       "      <td>1</td>\n",
       "      <td>5</td>\n",
       "      <td>666</td>\n",
       "      <td>60371066</td>\n",
       "      <td>60371066461001</td>\n",
       "      <td>2015</td>\n",
       "      <td>0</td>\n",
       "    </tr>\n",
       "    <tr>\n",
       "      <th>12098116</th>\n",
       "      <td>-0.00</td>\n",
       "      <td>0.22</td>\n",
       "      <td>0.10</td>\n",
       "      <td>0.32</td>\n",
       "      <td>0.14</td>\n",
       "      <td>0.14</td>\n",
       "      <td>0.45</td>\n",
       "      <td>0.02</td>\n",
       "      <td>0.01</td>\n",
       "      <td>0.03</td>\n",
       "      <td>...</td>\n",
       "      <td>0.01</td>\n",
       "      <td>4.00</td>\n",
       "      <td>0</td>\n",
       "      <td>1</td>\n",
       "      <td>5</td>\n",
       "      <td>1620</td>\n",
       "      <td>60374638</td>\n",
       "      <td>60374638003004</td>\n",
       "      <td>2015</td>\n",
       "      <td>0</td>\n",
       "    </tr>\n",
       "    <tr>\n",
       "      <th>12643413</th>\n",
       "      <td>0.02</td>\n",
       "      <td>0.11</td>\n",
       "      <td>0.10</td>\n",
       "      <td>0.21</td>\n",
       "      <td>0.03</td>\n",
       "      <td>0.03</td>\n",
       "      <td>0.79</td>\n",
       "      <td>0.03</td>\n",
       "      <td>0.02</td>\n",
       "      <td>0.05</td>\n",
       "      <td>...</td>\n",
       "      <td>0.04</td>\n",
       "      <td>4.00</td>\n",
       "      <td>0</td>\n",
       "      <td>9</td>\n",
       "      <td>0</td>\n",
       "      <td>643</td>\n",
       "      <td>60372963</td>\n",
       "      <td>60372963002002</td>\n",
       "      <td>2015</td>\n",
       "      <td>1</td>\n",
       "    </tr>\n",
       "    <tr>\n",
       "      <th>11509835</th>\n",
       "      <td>-0.27</td>\n",
       "      <td>0.33</td>\n",
       "      <td>0.30</td>\n",
       "      <td>0.63</td>\n",
       "      <td>0.21</td>\n",
       "      <td>0.21</td>\n",
       "      <td>0.75</td>\n",
       "      <td>0.63</td>\n",
       "      <td>0.12</td>\n",
       "      <td>0.75</td>\n",
       "      <td>...</td>\n",
       "      <td>0.00</td>\n",
       "      <td>1.00</td>\n",
       "      <td>0</td>\n",
       "      <td>1</td>\n",
       "      <td>5</td>\n",
       "      <td>564</td>\n",
       "      <td>60376210</td>\n",
       "      <td>60376210044006</td>\n",
       "      <td>2015</td>\n",
       "      <td>1</td>\n",
       "    </tr>\n",
       "    <tr>\n",
       "      <th>12286022</th>\n",
       "      <td>0.04</td>\n",
       "      <td>0.00</td>\n",
       "      <td>0.10</td>\n",
       "      <td>0.10</td>\n",
       "      <td>0.07</td>\n",
       "      <td>0.07</td>\n",
       "      <td>0.44</td>\n",
       "      <td>0.02</td>\n",
       "      <td>0.01</td>\n",
       "      <td>0.03</td>\n",
       "      <td>...</td>\n",
       "      <td>0.00</td>\n",
       "      <td>7.00</td>\n",
       "      <td>1</td>\n",
       "      <td>1</td>\n",
       "      <td>5</td>\n",
       "      <td>285</td>\n",
       "      <td>60375416</td>\n",
       "      <td>60375416053007</td>\n",
       "      <td>2015</td>\n",
       "      <td>1</td>\n",
       "    </tr>\n",
       "  </tbody>\n",
       "</table>\n",
       "<p>5 rows × 28 columns</p>\n",
       "</div>"
      ],
      "text/plain": [
       "                     logerror                 bath                  bed  \\\n",
       "parcelid                                                                  \n",
       "11016594                 0.03                 0.11                 0.20   \n",
       "12098116                -0.00                 0.22                 0.10   \n",
       "12643413                 0.02                 0.11                 0.10   \n",
       "11509835                -0.27                 0.33                 0.30   \n",
       "12286022                 0.04                 0.00                 0.10   \n",
       "\n",
       "                      bedbath              totsqft              finsqft  \\\n",
       "parcelid                                                                  \n",
       "11016594                 0.31                 0.10                 0.10   \n",
       "12098116                 0.32                 0.14                 0.14   \n",
       "12643413                 0.21                 0.03                 0.03   \n",
       "11509835                 0.63                 0.21                 0.21   \n",
       "12286022                 0.10                 0.07                 0.07   \n",
       "\n",
       "                         year         land_tax_val       struct_tax_val  \\\n",
       "parcelid                                                                  \n",
       "11016594                 0.59                 0.09                 0.02   \n",
       "12098116                 0.45                 0.02                 0.01   \n",
       "12643413                 0.79                 0.03                 0.02   \n",
       "11509835                 0.75                 0.63                 0.12   \n",
       "12286022                 0.44                 0.02                 0.01   \n",
       "\n",
       "          land_struct_tax_val    ...                 lotsize  \\\n",
       "parcelid                         ...                           \n",
       "11016594                 0.11    ...                    0.00   \n",
       "12098116                 0.03    ...                    0.01   \n",
       "12643413                 0.05    ...                    0.04   \n",
       "11509835                 0.75    ...                    0.00   \n",
       "12286022                 0.03    ...                    0.00   \n",
       "\n",
       "                 bldgqualtype hvac landusecode landusedesc propzone  \\\n",
       "parcelid                                                              \n",
       "11016594                 4.00    0           1           5      666   \n",
       "12098116                 4.00    0           1           5     1620   \n",
       "12643413                 4.00    0           9           0      643   \n",
       "11509835                 1.00    0           1           5      564   \n",
       "12286022                 7.00    1           1           5      285   \n",
       "\n",
       "          rawcensus          census  assessmentyr transdate  \n",
       "parcelid                                                     \n",
       "11016594   60371066  60371066461001          2015         0  \n",
       "12098116   60374638  60374638003004          2015         0  \n",
       "12643413   60372963  60372963002002          2015         1  \n",
       "11509835   60376210  60376210044006          2015         1  \n",
       "12286022   60375416  60375416053007          2015         1  \n",
       "\n",
       "[5 rows x 28 columns]"
      ]
     },
     "execution_count": 5,
     "metadata": {},
     "output_type": "execute_result"
    }
   ],
   "source": [
    "def encode_col(df, cols):\n",
    "    for col in cols:\n",
    "        encoder = LabelEncoder()\n",
    "        encoder.fit(df[col])\n",
    "        df[col] = encoder.transform(df[col])\n",
    "    return encoder, df\n",
    "\n",
    "encoder, df_features = encode_col(df, cols=['hvac', 'landusecode', 'landusedesc', 'propzone', 'transdate'])\n",
    "df_features.head()"
   ]
  },
  {
   "cell_type": "code",
   "execution_count": 6,
   "metadata": {},
   "outputs": [],
   "source": [
    "df_features.drop(columns=['landusedesc', 'hvac', 'assessmentyr', 'landusecode', 'bedbath', 'rawcensus',\n",
    "                          'census', 'tax_val', 'propzone', 'land_struct_tax_val', 'finsqft'], \n",
    "                 inplace=True)"
   ]
  },
  {
   "cell_type": "code",
   "execution_count": 7,
   "metadata": {},
   "outputs": [],
   "source": [
    "num_cols = df_features.select_dtypes(include='number').columns.tolist()\n",
    "cat_cols = df_features.select_dtypes(exclude='number').columns.tolist()"
   ]
  },
  {
   "cell_type": "markdown",
   "metadata": {},
   "source": [
    "### cluster 1 -- logerror only"
   ]
  },
  {
   "cell_type": "code",
   "execution_count": 8,
   "metadata": {},
   "outputs": [],
   "source": [
    "kmeans = KMeans(n_clusters=4) \n",
    "kmeans.fit(df_features[['logerror']])\n",
    "df_features['cluster_target_A'] = kmeans.predict(df_features[['logerror']])\n",
    "df_features.cluster_target_A = (df_features.cluster_target_A + 1)"
   ]
  },
  {
   "cell_type": "markdown",
   "metadata": {},
   "source": [
    "### cluster 2 -- totsqft only"
   ]
  },
  {
   "cell_type": "code",
   "execution_count": 9,
   "metadata": {},
   "outputs": [],
   "source": [
    "kmeans = KMeans(n_clusters=4) \n",
    "kmeans.fit(df_features[['totsqft']])\n",
    "df_features['cluster_target_B'] = kmeans.predict(df_features[['totsqft']])\n",
    "df_features.cluster_target_B = (df_features.cluster_target_B + 1)"
   ]
  },
  {
   "cell_type": "markdown",
   "metadata": {},
   "source": [
    "### cluster 3 -- land_tax_val only"
   ]
  },
  {
   "cell_type": "code",
   "execution_count": 10,
   "metadata": {},
   "outputs": [],
   "source": [
    "kmeans = KMeans(n_clusters=4)\n",
    "kmeans.fit(df_features[['land_tax_val']])\n",
    "df_features['cluster_target_C'] = kmeans.predict(df_features[['land_tax_val']])\n",
    "df_features.cluster_target_C = (df_features.cluster_target_C + 1)"
   ]
  },
  {
   "cell_type": "markdown",
   "metadata": {},
   "source": [
    "### cluster 4 -- latitude, longitude, and totsqft"
   ]
  },
  {
   "cell_type": "code",
   "execution_count": 11,
   "metadata": {},
   "outputs": [],
   "source": [
    "kmeans = KMeans(n_clusters=4)\n",
    "kmeans.fit(df_features[['latitude', 'longitude', 'totsqft']])\n",
    "df_features['cluster_target_D'] = kmeans.predict(df_features[['latitude', 'longitude', 'totsqft']])\n",
    "df_features.cluster_target_D = (df_features.cluster_target_D + 1)"
   ]
  },
  {
   "cell_type": "markdown",
   "metadata": {},
   "source": [
    "### cluster 5 -- lotsize"
   ]
  },
  {
   "cell_type": "code",
   "execution_count": 12,
   "metadata": {},
   "outputs": [],
   "source": [
    "kmeans = KMeans(n_clusters=3)\n",
    "kmeans.fit(df_features[['lotsize']])\n",
    "df_features['cluster_target_E'] = kmeans.predict(df_features[['lotsize']])\n",
    "df_features.cluster_target_E = (df_features.cluster_target_E + 1)"
   ]
  },
  {
   "cell_type": "code",
   "execution_count": 13,
   "metadata": {},
   "outputs": [
    {
     "data": {
      "text/html": [
       "<div>\n",
       "<style scoped>\n",
       "    .dataframe tbody tr th:only-of-type {\n",
       "        vertical-align: middle;\n",
       "    }\n",
       "\n",
       "    .dataframe tbody tr th {\n",
       "        vertical-align: top;\n",
       "    }\n",
       "\n",
       "    .dataframe thead th {\n",
       "        text-align: right;\n",
       "    }\n",
       "</style>\n",
       "<table border=\"1\" class=\"dataframe\">\n",
       "  <thead>\n",
       "    <tr style=\"text-align: right;\">\n",
       "      <th></th>\n",
       "      <th>logerror</th>\n",
       "      <th>totsqft</th>\n",
       "      <th>land_tax_val</th>\n",
       "      <th>struct_tax_val</th>\n",
       "      <th>year</th>\n",
       "      <th>cluster_target_A</th>\n",
       "      <th>cluster_target_B</th>\n",
       "      <th>cluster_target_C</th>\n",
       "      <th>cluster_target_D</th>\n",
       "      <th>cluster_target_E</th>\n",
       "    </tr>\n",
       "    <tr>\n",
       "      <th>parcelid</th>\n",
       "      <th></th>\n",
       "      <th></th>\n",
       "      <th></th>\n",
       "      <th></th>\n",
       "      <th></th>\n",
       "      <th></th>\n",
       "      <th></th>\n",
       "      <th></th>\n",
       "      <th></th>\n",
       "      <th></th>\n",
       "    </tr>\n",
       "  </thead>\n",
       "  <tbody>\n",
       "    <tr>\n",
       "      <th>12348146</th>\n",
       "      <td>-0.04</td>\n",
       "      <td>0.08</td>\n",
       "      <td>0.12</td>\n",
       "      <td>0.01</td>\n",
       "      <td>0.53</td>\n",
       "      <td>4</td>\n",
       "      <td>2</td>\n",
       "      <td>3</td>\n",
       "      <td>3</td>\n",
       "      <td>2</td>\n",
       "    </tr>\n",
       "    <tr>\n",
       "      <th>13085468</th>\n",
       "      <td>0.00</td>\n",
       "      <td>0.06</td>\n",
       "      <td>0.10</td>\n",
       "      <td>0.02</td>\n",
       "      <td>0.68</td>\n",
       "      <td>4</td>\n",
       "      <td>2</td>\n",
       "      <td>3</td>\n",
       "      <td>4</td>\n",
       "      <td>2</td>\n",
       "    </tr>\n",
       "    <tr>\n",
       "      <th>10969810</th>\n",
       "      <td>-0.06</td>\n",
       "      <td>0.05</td>\n",
       "      <td>0.04</td>\n",
       "      <td>0.02</td>\n",
       "      <td>0.80</td>\n",
       "      <td>4</td>\n",
       "      <td>2</td>\n",
       "      <td>1</td>\n",
       "      <td>1</td>\n",
       "      <td>2</td>\n",
       "    </tr>\n",
       "    <tr>\n",
       "      <th>12190746</th>\n",
       "      <td>-0.08</td>\n",
       "      <td>0.02</td>\n",
       "      <td>0.06</td>\n",
       "      <td>0.01</td>\n",
       "      <td>0.32</td>\n",
       "      <td>4</td>\n",
       "      <td>2</td>\n",
       "      <td>1</td>\n",
       "      <td>3</td>\n",
       "      <td>2</td>\n",
       "    </tr>\n",
       "    <tr>\n",
       "      <th>12046263</th>\n",
       "      <td>-0.03</td>\n",
       "      <td>0.04</td>\n",
       "      <td>0.12</td>\n",
       "      <td>0.01</td>\n",
       "      <td>0.80</td>\n",
       "      <td>4</td>\n",
       "      <td>2</td>\n",
       "      <td>3</td>\n",
       "      <td>1</td>\n",
       "      <td>2</td>\n",
       "    </tr>\n",
       "    <tr>\n",
       "      <th>12504730</th>\n",
       "      <td>0.35</td>\n",
       "      <td>0.01</td>\n",
       "      <td>0.00</td>\n",
       "      <td>0.00</td>\n",
       "      <td>0.32</td>\n",
       "      <td>2</td>\n",
       "      <td>2</td>\n",
       "      <td>1</td>\n",
       "      <td>3</td>\n",
       "      <td>2</td>\n",
       "    </tr>\n",
       "    <tr>\n",
       "      <th>12983648</th>\n",
       "      <td>0.02</td>\n",
       "      <td>0.18</td>\n",
       "      <td>0.13</td>\n",
       "      <td>0.05</td>\n",
       "      <td>0.91</td>\n",
       "      <td>4</td>\n",
       "      <td>4</td>\n",
       "      <td>3</td>\n",
       "      <td>4</td>\n",
       "      <td>2</td>\n",
       "    </tr>\n",
       "    <tr>\n",
       "      <th>12311043</th>\n",
       "      <td>-0.08</td>\n",
       "      <td>0.08</td>\n",
       "      <td>0.01</td>\n",
       "      <td>0.00</td>\n",
       "      <td>0.46</td>\n",
       "      <td>4</td>\n",
       "      <td>2</td>\n",
       "      <td>1</td>\n",
       "      <td>3</td>\n",
       "      <td>2</td>\n",
       "    </tr>\n",
       "    <tr>\n",
       "      <th>10715682</th>\n",
       "      <td>0.01</td>\n",
       "      <td>0.08</td>\n",
       "      <td>0.13</td>\n",
       "      <td>0.02</td>\n",
       "      <td>0.57</td>\n",
       "      <td>4</td>\n",
       "      <td>1</td>\n",
       "      <td>3</td>\n",
       "      <td>1</td>\n",
       "      <td>2</td>\n",
       "    </tr>\n",
       "    <tr>\n",
       "      <th>12667103</th>\n",
       "      <td>-0.01</td>\n",
       "      <td>0.05</td>\n",
       "      <td>0.13</td>\n",
       "      <td>0.01</td>\n",
       "      <td>0.59</td>\n",
       "      <td>4</td>\n",
       "      <td>2</td>\n",
       "      <td>3</td>\n",
       "      <td>3</td>\n",
       "      <td>2</td>\n",
       "    </tr>\n",
       "  </tbody>\n",
       "</table>\n",
       "</div>"
      ],
      "text/plain": [
       "                     logerror              totsqft         land_tax_val  \\\n",
       "parcelid                                                                  \n",
       "12348146                -0.04                 0.08                 0.12   \n",
       "13085468                 0.00                 0.06                 0.10   \n",
       "10969810                -0.06                 0.05                 0.04   \n",
       "12190746                -0.08                 0.02                 0.06   \n",
       "12046263                -0.03                 0.04                 0.12   \n",
       "12504730                 0.35                 0.01                 0.00   \n",
       "12983648                 0.02                 0.18                 0.13   \n",
       "12311043                -0.08                 0.08                 0.01   \n",
       "10715682                 0.01                 0.08                 0.13   \n",
       "12667103                -0.01                 0.05                 0.13   \n",
       "\n",
       "               struct_tax_val                 year  cluster_target_A  \\\n",
       "parcelid                                                               \n",
       "12348146                 0.01                 0.53                 4   \n",
       "13085468                 0.02                 0.68                 4   \n",
       "10969810                 0.02                 0.80                 4   \n",
       "12190746                 0.01                 0.32                 4   \n",
       "12046263                 0.01                 0.80                 4   \n",
       "12504730                 0.00                 0.32                 2   \n",
       "12983648                 0.05                 0.91                 4   \n",
       "12311043                 0.00                 0.46                 4   \n",
       "10715682                 0.02                 0.57                 4   \n",
       "12667103                 0.01                 0.59                 4   \n",
       "\n",
       "          cluster_target_B  cluster_target_C  cluster_target_D  \\\n",
       "parcelid                                                         \n",
       "12348146                 2                 3                 3   \n",
       "13085468                 2                 3                 4   \n",
       "10969810                 2                 1                 1   \n",
       "12190746                 2                 1                 3   \n",
       "12046263                 2                 3                 1   \n",
       "12504730                 2                 1                 3   \n",
       "12983648                 4                 3                 4   \n",
       "12311043                 2                 1                 3   \n",
       "10715682                 1                 3                 1   \n",
       "12667103                 2                 3                 3   \n",
       "\n",
       "          cluster_target_E  \n",
       "parcelid                    \n",
       "12348146                 2  \n",
       "13085468                 2  \n",
       "10969810                 2  \n",
       "12190746                 2  \n",
       "12046263                 2  \n",
       "12504730                 2  \n",
       "12983648                 2  \n",
       "12311043                 2  \n",
       "10715682                 2  \n",
       "12667103                 2  "
      ]
     },
     "execution_count": 13,
     "metadata": {},
     "output_type": "execute_result"
    }
   ],
   "source": [
    "df_features[['logerror', 'totsqft', 'land_tax_val', 'struct_tax_val', 'year', 'cluster_target_A', \n",
    "             'cluster_target_B', 'cluster_target_C', 'cluster_target_D', 'cluster_target_E']].sample(10)"
   ]
  },
  {
   "cell_type": "markdown",
   "metadata": {},
   "source": [
    "### Train and Test Split"
   ]
  },
  {
   "cell_type": "code",
   "execution_count": 14,
   "metadata": {},
   "outputs": [],
   "source": [
    "def validate_train_test_split(X_train, y_train, X_test, y_test, train, test):\n",
    "    if X_train.shape[0] == y_train.shape[0]:\n",
    "        print(\"X & y train rows ARE equal\")\n",
    "    else:\n",
    "        print(\"X & y train rows ARE NOT equal\")\n",
    "\n",
    "\n",
    "    if X_test.shape[0] == y_test.shape[0]:\n",
    "        print(\"X & y test rows ARE equal\")\n",
    "    else:\n",
    "        print(\"X & y test rows ARE NOT equal\")\n",
    "\n",
    "    if train.shape[1] == test.shape[1]:\n",
    "        print(\"Number of columns in train & test ARE equal\")\n",
    "    else:\n",
    "        print(\"Number of columns in train & test ARE NOT equal\")\n",
    "\n",
    "    train_split = train.shape[0] / (train.shape[0] + test.shape[0])\n",
    "    test_split = test.shape[0] / (train.shape[0] + test.shape[0])\n",
    "\n",
    "    print(\"Train Split: %.2f\" % train_split)\n",
    "    print(\"Test Split: %.2f\" % test_split)"
   ]
  },
  {
   "cell_type": "code",
   "execution_count": 15,
   "metadata": {},
   "outputs": [],
   "source": [
    "# train_test_split\n",
    "X = df.drop(['logerror'], axis=1)\n",
    "y = df[['logerror']]\n",
    "\n",
    "X_train, X_test, y_train, y_test = train_test_split(X, y, train_size=.80, random_state=0)\n",
    "\n",
    "train = pd.concat([X_train, y_train], axis=1)\n",
    "\n",
    "test = pd.concat([X_test, y_test], axis=1)"
   ]
  },
  {
   "cell_type": "code",
   "execution_count": 16,
   "metadata": {},
   "outputs": [
    {
     "name": "stdout",
     "output_type": "stream",
     "text": [
      "X & y train rows ARE equal\n",
      "X & y test rows ARE equal\n",
      "Number of columns in train & test ARE equal\n",
      "Train Split: 0.80\n",
      "Test Split: 0.20\n"
     ]
    }
   ],
   "source": [
    "validate_train_test_split(X_train, y_train, X_test, y_test, train, test)"
   ]
  },
  {
   "cell_type": "markdown",
   "metadata": {},
   "source": [
    "Use statsmodels ordinary least squares to assess the importance of each feature with respect to the target."
   ]
  },
  {
   "cell_type": "code",
   "execution_count": 18,
   "metadata": {},
   "outputs": [
    {
     "data": {
      "text/html": [
       "<table class=\"simpletable\">\n",
       "<caption>OLS Regression Results</caption>\n",
       "<tr>\n",
       "  <th>Dep. Variable:</th>        <td>logerror</td>     <th>  R-squared:         </th>  <td>   0.007</td> \n",
       "</tr>\n",
       "<tr>\n",
       "  <th>Model:</th>                   <td>OLS</td>       <th>  Adj. R-squared:    </th>  <td>   0.007</td> \n",
       "</tr>\n",
       "<tr>\n",
       "  <th>Method:</th>             <td>Least Squares</td>  <th>  F-statistic:       </th>  <td>   36.72</td> \n",
       "</tr>\n",
       "<tr>\n",
       "  <th>Date:</th>             <td>Mon, 15 Apr 2019</td> <th>  Prob (F-statistic):</th>  <td>2.57e-107</td>\n",
       "</tr>\n",
       "<tr>\n",
       "  <th>Time:</th>                 <td>08:48:24</td>     <th>  Log-Likelihood:    </th>  <td>  34533.</td> \n",
       "</tr>\n",
       "<tr>\n",
       "  <th>No. Observations:</th>      <td> 76460</td>      <th>  AIC:               </th> <td>-6.903e+04</td>\n",
       "</tr>\n",
       "<tr>\n",
       "  <th>Df Residuals:</th>          <td> 76444</td>      <th>  BIC:               </th> <td>-6.889e+04</td>\n",
       "</tr>\n",
       "<tr>\n",
       "  <th>Df Model:</th>              <td>    15</td>      <th>                     </th>      <td> </td>    \n",
       "</tr>\n",
       "<tr>\n",
       "  <th>Covariance Type:</th>      <td>nonrobust</td>    <th>                     </th>      <td> </td>    \n",
       "</tr>\n",
       "</table>\n",
       "<table class=\"simpletable\">\n",
       "<tr>\n",
       "          <td></td>            <th>coef</th>     <th>std err</th>      <th>t</th>      <th>P>|t|</th>  <th>[0.025</th>    <th>0.975]</th>  \n",
       "</tr>\n",
       "<tr>\n",
       "  <th>bath</th>             <td>   -0.0086</td> <td>    0.010</td> <td>   -0.878</td> <td> 0.380</td> <td>   -0.028</td> <td>    0.011</td>\n",
       "</tr>\n",
       "<tr>\n",
       "  <th>bed</th>              <td>    0.0241</td> <td>    0.008</td> <td>    2.912</td> <td> 0.004</td> <td>    0.008</td> <td>    0.040</td>\n",
       "</tr>\n",
       "<tr>\n",
       "  <th>totsqft</th>          <td>    0.1368</td> <td>    0.018</td> <td>    7.652</td> <td> 0.000</td> <td>    0.102</td> <td>    0.172</td>\n",
       "</tr>\n",
       "<tr>\n",
       "  <th>year</th>             <td>    0.0171</td> <td>    0.004</td> <td>    4.057</td> <td> 0.000</td> <td>    0.009</td> <td>    0.025</td>\n",
       "</tr>\n",
       "<tr>\n",
       "  <th>land_tax_val</th>     <td>    0.0807</td> <td>    0.012</td> <td>    6.491</td> <td> 0.000</td> <td>    0.056</td> <td>    0.105</td>\n",
       "</tr>\n",
       "<tr>\n",
       "  <th>struct_tax_val</th>   <td>    0.2291</td> <td>    0.048</td> <td>    4.810</td> <td> 0.000</td> <td>    0.136</td> <td>    0.322</td>\n",
       "</tr>\n",
       "<tr>\n",
       "  <th>tax</th>              <td>   -0.6734</td> <td>    0.058</td> <td>  -11.680</td> <td> 0.000</td> <td>   -0.786</td> <td>   -0.560</td>\n",
       "</tr>\n",
       "<tr>\n",
       "  <th>latitude</th>         <td>-8.835e-09</td> <td> 2.87e-09</td> <td>   -3.081</td> <td> 0.002</td> <td>-1.45e-08</td> <td>-3.21e-09</td>\n",
       "</tr>\n",
       "<tr>\n",
       "  <th>longitude</th>        <td> -2.66e-09</td> <td> 8.25e-10</td> <td>   -3.225</td> <td> 0.001</td> <td>-4.28e-09</td> <td>-1.04e-09</td>\n",
       "</tr>\n",
       "<tr>\n",
       "  <th>lotsize</th>          <td>    0.0577</td> <td>    0.012</td> <td>    5.007</td> <td> 0.000</td> <td>    0.035</td> <td>    0.080</td>\n",
       "</tr>\n",
       "<tr>\n",
       "  <th>transdate</th>        <td> 1.809e-06</td> <td> 3.17e-06</td> <td>    0.571</td> <td> 0.568</td> <td> -4.4e-06</td> <td> 8.02e-06</td>\n",
       "</tr>\n",
       "<tr>\n",
       "  <th>cluster_target_A</th> <td>   -0.0098</td> <td>    0.001</td> <td>  -11.463</td> <td> 0.000</td> <td>   -0.012</td> <td>   -0.008</td>\n",
       "</tr>\n",
       "<tr>\n",
       "  <th>cluster_target_B</th> <td>    0.0005</td> <td>    0.001</td> <td>    0.723</td> <td> 0.469</td> <td>   -0.001</td> <td>    0.002</td>\n",
       "</tr>\n",
       "<tr>\n",
       "  <th>cluster_target_C</th> <td>   -0.0017</td> <td>    0.001</td> <td>   -2.511</td> <td> 0.012</td> <td>   -0.003</td> <td>   -0.000</td>\n",
       "</tr>\n",
       "<tr>\n",
       "  <th>cluster_target_D</th> <td>    0.0016</td> <td>    0.000</td> <td>    3.288</td> <td> 0.001</td> <td>    0.001</td> <td>    0.003</td>\n",
       "</tr>\n",
       "<tr>\n",
       "  <th>cluster_target_E</th> <td>    0.0071</td> <td>    0.003</td> <td>    2.785</td> <td> 0.005</td> <td>    0.002</td> <td>    0.012</td>\n",
       "</tr>\n",
       "</table>\n",
       "<table class=\"simpletable\">\n",
       "<tr>\n",
       "  <th>Omnibus:</th>       <td>71422.020</td> <th>  Durbin-Watson:     </th>   <td>   2.003</td>  \n",
       "</tr>\n",
       "<tr>\n",
       "  <th>Prob(Omnibus):</th>  <td> 0.000</td>   <th>  Jarque-Bera (JB):  </th> <td>50162372.195</td>\n",
       "</tr>\n",
       "<tr>\n",
       "  <th>Skew:</th>           <td> 3.558</td>   <th>  Prob(JB):          </th>   <td>    0.00</td>  \n",
       "</tr>\n",
       "<tr>\n",
       "  <th>Kurtosis:</th>       <td>128.279</td>  <th>  Cond. No.          </th>   <td>1.49e+10</td>  \n",
       "</tr>\n",
       "</table><br/><br/>Warnings:<br/>[1] Standard Errors assume that the covariance matrix of the errors is correctly specified.<br/>[2] The condition number is large, 1.49e+10. This might indicate that there are<br/>strong multicollinearity or other numerical problems."
      ],
      "text/plain": [
       "<class 'statsmodels.iolib.summary.Summary'>\n",
       "\"\"\"\n",
       "                            OLS Regression Results                            \n",
       "==============================================================================\n",
       "Dep. Variable:               logerror   R-squared:                       0.007\n",
       "Model:                            OLS   Adj. R-squared:                  0.007\n",
       "Method:                 Least Squares   F-statistic:                     36.72\n",
       "Date:                Mon, 15 Apr 2019   Prob (F-statistic):          2.57e-107\n",
       "Time:                        08:48:24   Log-Likelihood:                 34533.\n",
       "No. Observations:               76460   AIC:                        -6.903e+04\n",
       "Df Residuals:                   76444   BIC:                        -6.889e+04\n",
       "Df Model:                          15                                         \n",
       "Covariance Type:            nonrobust                                         \n",
       "====================================================================================\n",
       "                       coef    std err          t      P>|t|      [0.025      0.975]\n",
       "------------------------------------------------------------------------------------\n",
       "bath                -0.0086      0.010     -0.878      0.380      -0.028       0.011\n",
       "bed                  0.0241      0.008      2.912      0.004       0.008       0.040\n",
       "totsqft              0.1368      0.018      7.652      0.000       0.102       0.172\n",
       "year                 0.0171      0.004      4.057      0.000       0.009       0.025\n",
       "land_tax_val         0.0807      0.012      6.491      0.000       0.056       0.105\n",
       "struct_tax_val       0.2291      0.048      4.810      0.000       0.136       0.322\n",
       "tax                 -0.6734      0.058    -11.680      0.000      -0.786      -0.560\n",
       "latitude         -8.835e-09   2.87e-09     -3.081      0.002   -1.45e-08   -3.21e-09\n",
       "longitude         -2.66e-09   8.25e-10     -3.225      0.001   -4.28e-09   -1.04e-09\n",
       "lotsize              0.0577      0.012      5.007      0.000       0.035       0.080\n",
       "transdate         1.809e-06   3.17e-06      0.571      0.568    -4.4e-06    8.02e-06\n",
       "cluster_target_A    -0.0098      0.001    -11.463      0.000      -0.012      -0.008\n",
       "cluster_target_B     0.0005      0.001      0.723      0.469      -0.001       0.002\n",
       "cluster_target_C    -0.0017      0.001     -2.511      0.012      -0.003      -0.000\n",
       "cluster_target_D     0.0016      0.000      3.288      0.001       0.001       0.003\n",
       "cluster_target_E     0.0071      0.003      2.785      0.005       0.002       0.012\n",
       "==============================================================================\n",
       "Omnibus:                    71422.020   Durbin-Watson:                   2.003\n",
       "Prob(Omnibus):                  0.000   Jarque-Bera (JB):         50162372.195\n",
       "Skew:                           3.558   Prob(JB):                         0.00\n",
       "Kurtosis:                     128.279   Cond. No.                     1.49e+10\n",
       "==============================================================================\n",
       "\n",
       "Warnings:\n",
       "[1] Standard Errors assume that the covariance matrix of the errors is correctly specified.\n",
       "[2] The condition number is large, 1.49e+10. This might indicate that there are\n",
       "strong multicollinearity or other numerical problems.\n",
       "\"\"\""
      ]
     },
     "execution_count": 18,
     "metadata": {},
     "output_type": "execute_result"
    }
   ],
   "source": [
    "# Ordinary Least Squares Model to see if this data is a good fit for linear regression\n",
    "ols_model = sm.OLS(y_train, X_train.select_dtypes('number'))\n",
    "fit = ols_model.fit()\n",
    "fit.summary()"
   ]
  },
  {
   "cell_type": "markdown",
   "metadata": {},
   "source": [
    "#### Summarize your conclusions and next steps from your analysis in above.¶\n",
    "What will you try when developing your model? (which features to use/not use/etc)\n",
    "\n",
    "If the data is good for modeling, then our residuals will have certain characteristics. These characteristics are:\n",
    "\n",
    "1. The data is “linear”. That is, the dependent variable is a linear function of independent variables and an error term e, and is largely dependent on characteristics 2-4. Think of the equation of a line in two dimensions: y = mx + b + e. y is the dependent or “response” variable, x is the input, m is the dimensional coefficient and b is the intercept (when x = 0). We can easily extend this “line” to higher dimensions by adding more inputs and coefficients, creating a hyperplane with the following form: y = a1*x1+ a2*x2+ … + an*xn\n",
    "2. Errors are normally distributed across the data. In other words, if you plotted the errors on a graph, they should take on the traditional bell-curve or Gaussian shape.\n",
    "3. There is “homoscedasticity”. This means that the variance of the errors is consistent across the entire dataset. We want to avoid situations where the error rate grows in a particular direction.\n",
    "4. The independent variables are actually independent and not collinear. We want to ensure independence between all of our inputs, otherwise our inputs will affect each other, instead of our response.\n",
    "\n",
    "\n",
    "Omnibus: 71422.020\t\n",
    "- Omnibus/Prob(Omnibus) – a test of the skewness and kurtosis of the residual. (Errors are normally distributed across the data. In other words, if you plotted the errors on a graph, they should take on the traditional bell-curve or Gaussian shape.) We hope to see a value close to zero which would indicate normalcy.\n",
    "\n",
    "Prob(Omnibus): 0.000 \n",
    "- The Prob (Omnibus) performs a statistical test indicating the probability that the residuals are normally distributed. We hope to see something close to 1 here.\n",
    "\n",
    "- In this case Omnibus is hugely high and the Prob (Omnibus) is zero. A linear regression approach will not likely yield results as good as from a nonlinear approach.\n",
    "\n",
    "Skew: 3.558\t \n",
    "- Skew – a measure of data symmetry. We want to see something close to zero, indicating the residual distribution is normal. Note that this value also drives the Omnibus. This result has, I believe, too large of a skew.\n",
    "\n",
    "Kurtosis: 128.279 \n",
    "- Kurtosis – a measure of “peakiness”, or curvature of the data. Higher peaks lead to greater Kurtosis. Greater Kurtosis can be interpreted as a tighter clustering of residuals around zero, implying a better model with few outliers. But this is a terrible model, so I'm not sure what this means.\n",
    "\n",
    "Durbin-Watson: 2.003 \n",
    "- Durbin-Watson – tests for homoscedasticity. (There is “homoscedasticity”. This means that the variance of the errors is consistent across the entire dataset. We want to avoid situations where the error rate grows in a particular direction.). We hope to have a value between 1 and 2. In this case, the data yields a value just over 2, not within limits.\n",
    "\n",
    "Jarque-Bera (JB): 50162372.195 \n",
    "- Jarque-Bera (JB)/Prob(JB) – like the Omnibus test in that it tests both skew and kurtosis. We hope to see in this test a confirmation of the Omnibus test. In this case we do not since the Omnibus test yielded 71422.020.\n",
    "\n",
    "Cond. No. 1.49e+10 \n",
    "- Condition Number – This test measures the sensitivity of a function’s output as compared to its input. (The independent variables are actually independent and not collinear. We want to ensure independence between all of our inputs, otherwise our inputs will affect each other, instead of our response.) When we have multicollinearity, we can expect much higher fluctuations to small changes in the data, hence, we hope to see a relatively small number, something below 30. In this case we have close to 15 billion.\n",
    "\n",
    "\n",
    "##### All that together means that this data is seriously poorly suited for linear models. I wish I'd realized I needed to selected the numeric datatype columns from the X_train when I first tried to run this and before I developed so many linear regression models!"
   ]
  },
  {
   "cell_type": "markdown",
   "metadata": {},
   "source": [
    "### Model Selection"
   ]
  },
  {
   "cell_type": "code",
   "execution_count": 147,
   "metadata": {},
   "outputs": [],
   "source": [
    "def print_mse_and_r2(y, y_pred_lm0):\n",
    "    mse_lm0 = mean_squared_error(y, y_pred_lm0)\n",
    "    print(\"    Mean squared error of linear model is %.2f\" % mse_lm0)\n",
    "\n",
    "    r2_lm0 = r2_score(y, y_pred_lm0)\n",
    "    print('    {:.2%} of the variance in the logerror of the train data can be explained by the number of rooms and the total square footage.'\n",
    "      .format(r2_lm0))"
   ]
  },
  {
   "cell_type": "code",
   "execution_count": 23,
   "metadata": {},
   "outputs": [],
   "source": [
    "def create_univariate_linear_regression_model(X_train, y_train, features):\n",
    "    # Create linear regression objects\n",
    "    lm0 = LinearRegression()\n",
    "    lm0.fit(X_train[features], y_train)\n",
    "    lm0_y_intercept = lm0.intercept_\n",
    "    lm0_coefficients = lm0.coef_\n",
    "\n",
    "    print()\n",
    "    print('Univariate - log error = b + m1 * square feet')\n",
    "    print('    y-intercept  (b): %.2f' % lm0_y_intercept)\n",
    "    print('    coefficient (m1): %.2f' % lm0_coefficients[0][0])\n",
    "\n",
    "    y_pred_lm0 = lm0.predict(X_train[features])\n",
    "\n",
    "    mse_lm0 = mean_squared_error(y_train, y_pred_lm0)\n",
    "    print(\"    Mean squared error of linear model is %.2f\" % mse_lm0)\n",
    "\n",
    "    r2_lm0 = r2_score(y_train, y_pred_lm0)\n",
    "    print('    {:.2%} of the variance in the logerror of the train data can be explained by the number of rooms and the total square footage.'\n",
    "      .format(r2_lm0))\n",
    "    \n",
    "    return lm0, r2_lm0, y_pred_lm0"
   ]
  },
  {
   "cell_type": "code",
   "execution_count": 24,
   "metadata": {},
   "outputs": [],
   "source": [
    "def create_multivariate_linear_regression_model(X_train, y_train, features):\n",
    "    # Create linear regression objects\n",
    "    lm0 = LinearRegression()\n",
    "    lm0.fit(X_train[features], y_train)\n",
    "    lm0_y_intercept = lm0.intercept_\n",
    "    lm0_coefficients = lm0.coef_\n",
    "\n",
    "    print()\n",
    "    print('Multivariate - logerror = b + m1 * rooms + m2 * totsqft')\n",
    "    print('    y-intercept  (b): %.2f' % lm1_y_intercept)\n",
    "    print('    coefficient (m1): %.2f' % lm1_coefficients[0][0])\n",
    "    print('    coefficient (m2): %.2f' % lm1_coefficients[0][1])\n",
    "\n",
    "    y_pred_lm0 = lm0.predict(X_train[features])\n",
    "\n",
    "    mse_lm0 = mean_squared_error(y_train, y_pred_lm0)\n",
    "    print(\"Linear Model\\n  mean_squared_error: {:.3}\".format(mse_lm0)) \n",
    "\n",
    "    r2_lm0 = r2_score(y_train, y_pred_lm0)\n",
    "\n",
    "    print('  {:.2%} of the variance in the log error can be explained by the number of square feet.'.format(r2_lm0))\n",
    "\n",
    "    return lm0, r2_lm0, y_pred_lm0"
   ]
  },
  {
   "cell_type": "code",
   "execution_count": 159,
   "metadata": {},
   "outputs": [],
   "source": [
    "# This function was inspired by https://www.geeksforgeeks.org/python-implementation-of-polynomial-regression/\n",
    "def model_polyreg(X, y, features, X_graph_var):\n",
    "    # X is a dataframe containing all of the independent features\n",
    "    # y a dataframe with the target, like y_train\n",
    "    # features is a list of the columns you wish to use\n",
    "    # X_graph_var is the feature you would like to graph against the target\n",
    "    \n",
    "    lin = LinearRegression()  \n",
    "    lin.fit(X, y) \n",
    "    \n",
    "    poly = PolynomialFeatures(degree = 4) \n",
    "    X_poly = poly.fit_transform(X) \n",
    "\n",
    "    lin2 = LinearRegression() \n",
    "    lin2.fit(X_poly, y) \n",
    "    \n",
    "    # Visualising the Linear Regression results \n",
    "    plt.scatter(X[[X_graph_var]], y, color = 'blue') \n",
    "\n",
    "    # y_pred_lin is the y value...\n",
    "    y_pred_lin = lin.predict(X)\n",
    "\n",
    "    plt.plot(X_train[[X_graph_var]], y_pred_lin, color = 'red') \n",
    "    plt.title('Linear Regression') \n",
    "    plt.xlabel(X_graph_var) \n",
    "    plt.ylabel('Predicted '+ X_graph_var) \n",
    "\n",
    "    plt.show() \n",
    "\n",
    "    mse_lin = mean_squared_error(y, y_pred_lin)\n",
    "    r2_lin = r2_score(y_train, y_pred_lin)\n",
    "    \n",
    "    # Visualising the Polynomial Regression results \n",
    "    plt.scatter(X[[X_graph_var]], y_train, color = 'blue') \n",
    "\n",
    "    y_poly_pred = lin2.predict(poly.fit_transform(X))\n",
    "\n",
    "    plt.plot(X[[X_graph_var]], y_poly_pred, color = 'red') \n",
    "    plt.title('Polynomial Regression') \n",
    "    plt.xlabel(X_graph_var) \n",
    "    plt.ylabel('Predicted '+X_graph_var) \n",
    "\n",
    "    plt.show() \n",
    "    \n",
    "    rmse_lin2 = np.sqrt(mean_squared_error(y,y_poly_pred))\n",
    "    r2_lin2 = r2_score(y,y_poly_pred)\n",
    "    \n",
    "    print(\"    Mean squared error of linear model is %.2f\" % mse_lin)\n",
    "    print('    In the linear model, {:.2%} of the variance in the logerror of the train data can be explained by the number of rooms and the total square footage.'\n",
    "      .format(r2_lin))\n",
    "    print(\"    Root-mean-square error of polynomial model is %.2f\" % rmse_lin2)\n",
    "    print('    In the polynomial model, {:.2%} of the variance in the logerror of the train data can be explained by the number of rooms and the total square footage.'\n",
    "      .format(r2_lin2))\n",
    "\n",
    "    \n",
    "    return lin, mse_lin, r2_lin, y_pred_lin, lin2, rmse_lin2, r2_lin2, y_poly_pred"
   ]
  },
  {
   "cell_type": "markdown",
   "metadata": {},
   "source": [
    "# Model 1 -- totsqft"
   ]
  },
  {
   "cell_type": "code",
   "execution_count": 26,
   "metadata": {},
   "outputs": [
    {
     "name": "stdout",
     "output_type": "stream",
     "text": [
      "\n",
      "Univariate - log error = b + m1 * square feet\n",
      "    y-intercept  (b): 0.00\n",
      "    coefficient (m1): 0.09\n",
      "    Mean squared error of linear model is 0.02\n",
      "    0.15% of the variance in the logerror of the train data can be explained by the number of rooms and the total square footage.\n"
     ]
    }
   ],
   "source": [
    "lm1, r2_lm1, y_pred_lm1 = create_univariate_linear_regression_model(X_train, y_train, features=['totsqft'])"
   ]
  },
  {
   "cell_type": "code",
   "execution_count": 27,
   "metadata": {},
   "outputs": [
    {
     "name": "stdout",
     "output_type": "stream",
     "text": [
      "Mean Squared Error of linear model on test data: 0.028399217576013675\n"
     ]
    }
   ],
   "source": [
    "# Make predictions using the testing set\n",
    "y_pred_lm1 = lm1.predict(X_test[['totsqft']])\n",
    "mse = mean_squared_error(y_test, y_pred_lm1)\n",
    "print(f'Mean Squared Error of linear model on test data: {mse}')"
   ]
  },
  {
   "cell_type": "code",
   "execution_count": 28,
   "metadata": {},
   "outputs": [
    {
     "name": "stdout",
     "output_type": "stream",
     "text": [
      "0.21% of the variance in log errors in the test data can be explained by totsqft.\n"
     ]
    }
   ],
   "source": [
    "r2 = r2_score(y_test, y_pred_lm1)\n",
    "print('{:.2%} of the variance in log errors in the test data can be explained by totsqft.'.format(r2))"
   ]
  },
  {
   "cell_type": "code",
   "execution_count": 29,
   "metadata": {},
   "outputs": [
    {
     "data": {
      "text/plain": [
       "Text(0, 0.5, 'Residuals')"
      ]
     },
     "execution_count": 29,
     "metadata": {},
     "output_type": "execute_result"
    },
    {
     "data": {
      "image/png": "[encoded data removed]",
      "text/plain": [
       "<Figure size 432x288 with 1 Axes>"
      ]
     },
     "metadata": {
      "needs_background": "light"
     },
     "output_type": "display_data"
    }
   ],
   "source": [
    "plt.scatter(y_pred_lm1, y_pred_lm1 - y_test, c='g', s=40)\n",
    "plt.hlines(y=0, xmin=50, xmax=100)\n",
    "plt.title(\"Residual plot\")\n",
    "plt.ylabel('Residuals')"
   ]
  },
  {
   "cell_type": "markdown",
   "metadata": {},
   "source": [
    "# Model 2 -- land_tax_val"
   ]
  },
  {
   "cell_type": "code",
   "execution_count": 30,
   "metadata": {},
   "outputs": [
    {
     "name": "stdout",
     "output_type": "stream",
     "text": [
      "\n",
      "Univariate - log error = b + m1 * square feet\n",
      "    y-intercept  (b): 0.01\n",
      "    coefficient (m1): -0.02\n",
      "    Mean squared error of linear model is 0.02\n",
      "    0.02% of the variance in the logerror of the train data can be explained by the number of rooms and the total square footage.\n"
     ]
    }
   ],
   "source": [
    "lm2, r2_lm2, y_pred_lm2 = create_univariate_linear_regression_model(X_train, y_train, features=['land_tax_val'])"
   ]
  },
  {
   "cell_type": "code",
   "execution_count": 31,
   "metadata": {},
   "outputs": [],
   "source": [
    "# pd.DataFrame({'actual': y_train.logerror,\n",
    "#               'lm2': y_pred_lm2.ravel()})\\\n",
    "#     .melt(id_vars=['actual'], var_name='model', value_name='prediction')\\\n",
    "#     .pipe((sns.relplot, 'data'), x='actual', y='prediction', hue='model')\n",
    "\n",
    "# plt.plot([60, 100], [60, 100], c='black', ls=':')\n",
    "# plt.ylim(60, 100)\n",
    "# plt.xlim(60, 100)\n",
    "# plt.title('Predicted vs Actual Log Error')\n",
    "# # The further away from this line the are, the farther off the prediction was."
   ]
  },
  {
   "cell_type": "code",
   "execution_count": 32,
   "metadata": {},
   "outputs": [
    {
     "name": "stdout",
     "output_type": "stream",
     "text": [
      "Mean Squared Error of linear model on test data: 0.02845459364092511\n"
     ]
    }
   ],
   "source": [
    "# Make predictions using the testing set\n",
    "y_pred_lm2 = lm2.predict(X_test[['land_tax_val']])\n",
    "mse = mean_squared_error(y_test, y_pred_lm2)\n",
    "print(f'Mean Squared Error of linear model on test data: {mse}')"
   ]
  },
  {
   "cell_type": "code",
   "execution_count": 33,
   "metadata": {},
   "outputs": [
    {
     "name": "stdout",
     "output_type": "stream",
     "text": [
      "0.01% of the variance in log errors in the test data can be explained by land_tax_val.\n"
     ]
    }
   ],
   "source": [
    "r2 = r2_score(y_test, y_pred_lm2)\n",
    "print('{:.2%} of the variance in log errors in the test data can be explained by land_tax_val.'.format(r2))"
   ]
  },
  {
   "cell_type": "code",
   "execution_count": 34,
   "metadata": {},
   "outputs": [
    {
     "data": {
      "text/plain": [
       "Text(0, 0.5, 'Residuals')"
      ]
     },
     "execution_count": 34,
     "metadata": {},
     "output_type": "execute_result"
    },
    {
     "data": {
      "image/png": "[encoded data removed]",
      "text/plain": [
       "<Figure size 432x288 with 1 Axes>"
      ]
     },
     "metadata": {
      "needs_background": "light"
     },
     "output_type": "display_data"
    }
   ],
   "source": [
    "plt.scatter(y_pred_lm2, y_pred_lm2 - y_test, c='g', s=40)\n",
    "plt.hlines(y=0, xmin=50, xmax=100)\n",
    "plt.title(\"Residual plot\")\n",
    "plt.ylabel('Residuals')"
   ]
  },
  {
   "cell_type": "markdown",
   "metadata": {},
   "source": [
    "# Models using cluster targets\n",
    "    - cluster_target_A = logerror only\n",
    "    - cluster_target_B = totsqft only\n",
    "    - cluster_target_C = land_tax_val only\n",
    "    - cluster_target_D = latitude, longitude, and totsqft"
   ]
  },
  {
   "cell_type": "markdown",
   "metadata": {},
   "source": [
    "# Model 3 -- cluster_target_A"
   ]
  },
  {
   "cell_type": "code",
   "execution_count": 35,
   "metadata": {},
   "outputs": [
    {
     "name": "stdout",
     "output_type": "stream",
     "text": [
      "\n",
      "Univariate - log error = b + m1 * square feet\n",
      "    y-intercept  (b): 0.05\n",
      "    coefficient (m1): -0.01\n",
      "    Mean squared error of linear model is 0.02\n",
      "    0.15% of the variance in the logerror of the train data can be explained by the number of rooms and the total square footage.\n"
     ]
    }
   ],
   "source": [
    "lm3, r2_lm3, y_pred_lm3 = create_univariate_linear_regression_model(X_train, y_train, features=['cluster_target_A'])"
   ]
  },
  {
   "cell_type": "code",
   "execution_count": 36,
   "metadata": {},
   "outputs": [
    {
     "name": "stdout",
     "output_type": "stream",
     "text": [
      "Mean Squared Error of test data: 0.028415187259933646\n"
     ]
    }
   ],
   "source": [
    "# Make predictions using the testing set\n",
    "y_pred_lm3 = lm3.predict(X_test[['cluster_target_A']])\n",
    "mse = mean_squared_error(y_test, y_pred_lm3)\n",
    "print(f'Mean Squared Error of test data: {mse}')"
   ]
  },
  {
   "cell_type": "code",
   "execution_count": 37,
   "metadata": {},
   "outputs": [
    {
     "name": "stdout",
     "output_type": "stream",
     "text": [
      "0.15% of the variance in log errors in test data can be explained by cluster target A only.\n"
     ]
    }
   ],
   "source": [
    "r2 = r2_score(y_test, y_pred_lm3)\n",
    "print('{:.2%} of the variance in log errors in test data can be explained by cluster target A only.'.format(r2))"
   ]
  },
  {
   "cell_type": "code",
   "execution_count": 38,
   "metadata": {},
   "outputs": [
    {
     "data": {
      "text/plain": [
       "Text(0, 0.5, 'Residuals')"
      ]
     },
     "execution_count": 38,
     "metadata": {},
     "output_type": "execute_result"
    },
    {
     "data": {
      "image/png": "[encoded data removed]",
      "text/plain": [
       "<Figure size 432x288 with 1 Axes>"
      ]
     },
     "metadata": {
      "needs_background": "light"
     },
     "output_type": "display_data"
    }
   ],
   "source": [
    "plt.scatter(y_pred_lm3, y_pred_lm3 - y_test, c='r', s=40)\n",
    "plt.hlines(y=0, xmin=0, xmax=.8)\n",
    "plt.title(\"Residual Plot\")\n",
    "plt.ylabel('Residuals')"
   ]
  },
  {
   "cell_type": "markdown",
   "metadata": {},
   "source": [
    "# Model 4 -- cluster_target_A and cluster_target_B"
   ]
  },
  {
   "cell_type": "code",
   "execution_count": 39,
   "metadata": {},
   "outputs": [
    {
     "name": "stdout",
     "output_type": "stream",
     "text": [
      "\n",
      "Univariate - log error = b + m1 * square feet\n",
      "    y-intercept  (b): 0.04\n",
      "    coefficient (m1): -0.01\n",
      "    Mean squared error of linear model is 0.02\n",
      "    0.19% of the variance in the logerror of the train data can be explained by the number of rooms and the total square footage.\n"
     ]
    }
   ],
   "source": [
    "lm4, r2_lm4, y_pred_lm4 = create_univariate_linear_regression_model(X_train, y_train, features=['cluster_target_A', 'cluster_target_B'])"
   ]
  },
  {
   "cell_type": "code",
   "execution_count": 40,
   "metadata": {},
   "outputs": [
    {
     "name": "stdout",
     "output_type": "stream",
     "text": [
      "Mean Squared Error of test data: 0.028392170994940548\n"
     ]
    }
   ],
   "source": [
    "# Make predictions using the testing set\n",
    "y_pred_lm4 = lm4.predict(X_test[['cluster_target_A', 'cluster_target_B']])\n",
    "mse = mean_squared_error(y_test, y_pred_lm4)\n",
    "print(f'Mean Squared Error of test data: {mse}')"
   ]
  },
  {
   "cell_type": "code",
   "execution_count": 41,
   "metadata": {},
   "outputs": [
    {
     "name": "stdout",
     "output_type": "stream",
     "text": [
      "0.23% of the variance in log errors in test data can be explained by cluster targets A and B.\n"
     ]
    }
   ],
   "source": [
    "r2 = r2_score(y_test, y_pred_lm4)\n",
    "print('{:.2%} of the variance in log errors in test data can be explained by cluster targets A and B.'.format(r2))"
   ]
  },
  {
   "cell_type": "code",
   "execution_count": 42,
   "metadata": {},
   "outputs": [
    {
     "data": {
      "text/plain": [
       "Text(0, 0.5, 'Residuals')"
      ]
     },
     "execution_count": 42,
     "metadata": {},
     "output_type": "execute_result"
    },
    {
     "data": {
      "image/png": "[encoded data removed]",
      "text/plain": [
       "<Figure size 432x288 with 1 Axes>"
      ]
     },
     "metadata": {
      "needs_background": "light"
     },
     "output_type": "display_data"
    }
   ],
   "source": [
    "plt.scatter(y_pred_lm4, y_pred_lm4 - y_test, c='r', s=40)\n",
    "plt.hlines(y=0, xmin=0, xmax=.8)\n",
    "plt.title(\"Residual Plot\")\n",
    "plt.ylabel('Residuals')"
   ]
  },
  {
   "cell_type": "markdown",
   "metadata": {},
   "source": [
    "# Model 5 -- cluster_target_A, cluster_target_B, and cluster_target_C"
   ]
  },
  {
   "cell_type": "code",
   "execution_count": 43,
   "metadata": {},
   "outputs": [
    {
     "name": "stdout",
     "output_type": "stream",
     "text": [
      "\n",
      "Univariate - log error = b + m1 * square feet\n",
      "    y-intercept  (b): 0.04\n",
      "    coefficient (m1): -0.01\n",
      "    Mean squared error of linear model is 0.02\n",
      "    0.21% of the variance in the logerror of the train data can be explained by the number of rooms and the total square footage.\n"
     ]
    }
   ],
   "source": [
    "lm5, r2_lm5, y_pred_lm5 = create_univariate_linear_regression_model(X_train, y_train, features=['cluster_target_A', 'cluster_target_B', 'cluster_target_C'])"
   ]
  },
  {
   "cell_type": "code",
   "execution_count": 44,
   "metadata": {},
   "outputs": [
    {
     "name": "stdout",
     "output_type": "stream",
     "text": [
      "Mean Squared Error of test data: 0.02839300468408278\n"
     ]
    }
   ],
   "source": [
    "# Make predictions using the testing set\n",
    "y_pred_lm5 = lm5.predict(X_test[['cluster_target_A', 'cluster_target_B', 'cluster_target_C']])\n",
    "mse = mean_squared_error(y_test, y_pred_lm5)\n",
    "print(f'Mean Squared Error of test data: {mse}')"
   ]
  },
  {
   "cell_type": "code",
   "execution_count": 45,
   "metadata": {},
   "outputs": [
    {
     "name": "stdout",
     "output_type": "stream",
     "text": [
      "0.23% of the variance in log errors in test data can be explained by cluster targets A, B, and C.\n"
     ]
    }
   ],
   "source": [
    "r2 = r2_score(y_test, y_pred_lm5)\n",
    "print('{:.2%} of the variance in log errors in test data can be explained by cluster targets A, B, and C.'.format(r2))"
   ]
  },
  {
   "cell_type": "code",
   "execution_count": 46,
   "metadata": {},
   "outputs": [
    {
     "data": {
      "text/plain": [
       "Text(0, 0.5, 'Residuals')"
      ]
     },
     "execution_count": 46,
     "metadata": {},
     "output_type": "execute_result"
    },
    {
     "data": {
      "image/png": "[encoded data removed]",
      "text/plain": [
       "<Figure size 432x288 with 1 Axes>"
      ]
     },
     "metadata": {
      "needs_background": "light"
     },
     "output_type": "display_data"
    }
   ],
   "source": [
    "plt.scatter(y_pred_lm5, y_pred_lm5 - y_test, c='r', s=40)\n",
    "plt.hlines(y=0, xmin=0, xmax=.8)\n",
    "plt.title(\"Residual Plot\")\n",
    "plt.ylabel('Residuals')"
   ]
  },
  {
   "cell_type": "markdown",
   "metadata": {},
   "source": [
    "# Model 6 -- cluster_target_A, cluster_target_B, cluster_target_C, and cluster_target_D"
   ]
  },
  {
   "cell_type": "code",
   "execution_count": 47,
   "metadata": {},
   "outputs": [
    {
     "name": "stdout",
     "output_type": "stream",
     "text": [
      "\n",
      "Univariate - log error = b + m1 * square feet\n",
      "    y-intercept  (b): 0.04\n",
      "    coefficient (m1): -0.01\n",
      "    Mean squared error of linear model is 0.02\n",
      "    0.23% of the variance in the logerror of the train data can be explained by the number of rooms and the total square footage.\n"
     ]
    }
   ],
   "source": [
    "lm6, r2_lm6, y_pred_lm6 = create_univariate_linear_regression_model(X_train, y_train, features=['cluster_target_A', 'cluster_target_B', 'cluster_target_C', 'cluster_target_D'])"
   ]
  },
  {
   "cell_type": "code",
   "execution_count": 48,
   "metadata": {},
   "outputs": [
    {
     "name": "stdout",
     "output_type": "stream",
     "text": [
      "Mean Squared Error of test data: 0.028393684098553838\n"
     ]
    }
   ],
   "source": [
    "# Make predictions using the testing set\n",
    "y_pred_lm6 = lm6.predict(X_test[['cluster_target_A', 'cluster_target_B', 'cluster_target_C', 'cluster_target_D']])\n",
    "mse = mean_squared_error(y_test, y_pred_lm6)\n",
    "print(f'Mean Squared Error of test data: {mse}')"
   ]
  },
  {
   "cell_type": "code",
   "execution_count": 49,
   "metadata": {},
   "outputs": [
    {
     "name": "stdout",
     "output_type": "stream",
     "text": [
      "0.23% of the variance in log errors in test data can be explained by cluster targets A, B, C, and D.\n"
     ]
    }
   ],
   "source": [
    "r2 = r2_score(y_test, y_pred_lm6)\n",
    "print('{:.2%} of the variance in log errors in test data can be explained by cluster targets A, B, C, and D.'.format(r2))"
   ]
  },
  {
   "cell_type": "code",
   "execution_count": 50,
   "metadata": {},
   "outputs": [
    {
     "data": {
      "text/plain": [
       "Text(0, 0.5, 'Residuals')"
      ]
     },
     "execution_count": 50,
     "metadata": {},
     "output_type": "execute_result"
    },
    {
     "data": {
      "image/png": "[encoded data removed]",
      "text/plain": [
       "<Figure size 432x288 with 1 Axes>"
      ]
     },
     "metadata": {
      "needs_background": "light"
     },
     "output_type": "display_data"
    }
   ],
   "source": [
    "plt.scatter(y_pred_lm6, y_pred_lm6 - y_test, c='r', s=40)\n",
    "plt.hlines(y=0, xmin=0, xmax=.8)\n",
    "plt.title(\"Residual Plot\")\n",
    "plt.ylabel('Residuals')"
   ]
  },
  {
   "cell_type": "markdown",
   "metadata": {},
   "source": [
    "# Model 7 -- cluster_target_D"
   ]
  },
  {
   "cell_type": "code",
   "execution_count": 51,
   "metadata": {},
   "outputs": [
    {
     "name": "stdout",
     "output_type": "stream",
     "text": [
      "\n",
      "Univariate - log error = b + m1 * square feet\n",
      "    y-intercept  (b): 0.01\n",
      "    coefficient (m1): 0.00\n",
      "    Mean squared error of linear model is 0.02\n",
      "    0.01% of the variance in the logerror of the train data can be explained by the number of rooms and the total square footage.\n"
     ]
    }
   ],
   "source": [
    "lm7, r2_lm7, y_pred_lm7 = create_univariate_linear_regression_model(X_train, y_train, features=['cluster_target_D'])"
   ]
  },
  {
   "cell_type": "code",
   "execution_count": 52,
   "metadata": {},
   "outputs": [
    {
     "name": "stdout",
     "output_type": "stream",
     "text": [
      "Mean Squared Error of test data: 0.028460484942166263\n"
     ]
    }
   ],
   "source": [
    "# Make predictions using the testing set\n",
    "y_pred_lm7 = lm7.predict(X_test[['cluster_target_D']])\n",
    "mse = mean_squared_error(y_test, y_pred_lm7)\n",
    "print(f'Mean Squared Error of test data: {mse}')"
   ]
  },
  {
   "cell_type": "code",
   "execution_count": 53,
   "metadata": {},
   "outputs": [
    {
     "name": "stdout",
     "output_type": "stream",
     "text": [
      "-0.01% of the variance in log errors in test data can be explained by cluster targets D.\n"
     ]
    }
   ],
   "source": [
    "r2 = r2_score(y_test, y_pred_lm7)\n",
    "print('{:.2%} of the variance in log errors in test data can be explained by cluster targets D.'.format(r2))"
   ]
  },
  {
   "cell_type": "code",
   "execution_count": 54,
   "metadata": {},
   "outputs": [
    {
     "data": {
      "text/plain": [
       "Text(0, 0.5, 'Residuals')"
      ]
     },
     "execution_count": 54,
     "metadata": {},
     "output_type": "execute_result"
    },
    {
     "data": {
      "image/png": "[encoded data removed]",
      "text/plain": [
       "<Figure size 432x288 with 1 Axes>"
      ]
     },
     "metadata": {
      "needs_background": "light"
     },
     "output_type": "display_data"
    }
   ],
   "source": [
    "plt.scatter(y_pred_lm7, y_pred_lm7 - y_test, c='r', s=40)\n",
    "plt.hlines(y=0, xmin=0, xmax=.8)\n",
    "plt.title(\"Residual Plot\")\n",
    "plt.ylabel('Residuals')"
   ]
  },
  {
   "cell_type": "markdown",
   "metadata": {},
   "source": [
    "# Model 8 -- cluster_target_A, cluster_target_B, and cluster_target_E"
   ]
  },
  {
   "cell_type": "code",
   "execution_count": 55,
   "metadata": {},
   "outputs": [
    {
     "name": "stdout",
     "output_type": "stream",
     "text": [
      "\n",
      "Univariate - log error = b + m1 * square feet\n",
      "    y-intercept  (b): 0.04\n",
      "    coefficient (m1): -0.01\n",
      "    Mean squared error of linear model is 0.02\n",
      "    0.19% of the variance in the logerror of the train data can be explained by the number of rooms and the total square footage.\n"
     ]
    }
   ],
   "source": [
    "lm8, r2_lm8, y_pred_lm8 = create_univariate_linear_regression_model(\n",
    "    X_train, \n",
    "    y_train, \n",
    "    features=['cluster_target_A', 'cluster_target_B', 'cluster_target_E'])"
   ]
  },
  {
   "cell_type": "code",
   "execution_count": 56,
   "metadata": {},
   "outputs": [
    {
     "name": "stdout",
     "output_type": "stream",
     "text": [
      "Mean Squared Error of test data: 0.028393684098553838\n"
     ]
    }
   ],
   "source": [
    "# Make predictions using the testing set\n",
    "y_pred_lm8 = lm8.predict(X_test[['cluster_target_A', 'cluster_target_B', 'cluster_target_E']])\n",
    "mse = mean_squared_error(y_test, y_pred_lm6)\n",
    "print(f'Mean Squared Error of test data: {mse}')"
   ]
  },
  {
   "cell_type": "code",
   "execution_count": 57,
   "metadata": {},
   "outputs": [
    {
     "name": "stdout",
     "output_type": "stream",
     "text": [
      "0.23% of the variance in log errors in test data can be explained by cluster targets A, B, and E.\n"
     ]
    }
   ],
   "source": [
    "r2 = r2_score(y_test, y_pred_lm6)\n",
    "print('{:.2%} of the variance in log errors in test data can be explained by cluster targets A, B, and E.'.format(r2))"
   ]
  },
  {
   "cell_type": "code",
   "execution_count": 58,
   "metadata": {},
   "outputs": [
    {
     "data": {
      "text/plain": [
       "Text(0, 0.5, 'Residuals')"
      ]
     },
     "execution_count": 58,
     "metadata": {},
     "output_type": "execute_result"
    },
    {
     "data": {
      "image/png": "[encoded data removed]",
      "text/plain": [
       "<Figure size 432x288 with 1 Axes>"
      ]
     },
     "metadata": {
      "needs_background": "light"
     },
     "output_type": "display_data"
    }
   ],
   "source": [
    "plt.scatter(y_pred_lm8, y_pred_lm8 - y_test, c='r', s=40)\n",
    "plt.hlines(y=0, xmin=0, xmax=.8)\n",
    "plt.title(\"Residual Plot\")\n",
    "plt.ylabel('Residuals')"
   ]
  },
  {
   "cell_type": "markdown",
   "metadata": {},
   "source": [
    "# Try one on a poloynomial regression..."
   ]
  },
  {
   "cell_type": "markdown",
   "metadata": {},
   "source": [
    "# Model 9 -- totsqft and land_tax_val\n",
    "\n",
    "- Step 1: Get the data.\n",
    "\n",
    "- Step 2: Dividing the dataset into 2 components -- did that in the train_test_split.\n",
    "- ........But take a subset because this algorithm takes forever to run!"
   ]
  },
  {
   "cell_type": "code",
   "execution_count": 93,
   "metadata": {},
   "outputs": [
    {
     "data": {
      "text/plain": [
       "parcelid\n",
       "12436694                   0.00\n",
       "11650765                   0.11\n",
       "11285608                   0.02\n",
       "11633900                   0.13\n",
       "10864151                   0.04\n",
       "Name: logerror, dtype: float64"
      ]
     },
     "execution_count": 93,
     "metadata": {},
     "output_type": "execute_result"
    }
   ],
   "source": [
    "# Take the absolute value of the logerror...\n",
    "y_train = y_train.abs()\n",
    "y_train.logerror.sample(5)"
   ]
  },
  {
   "cell_type": "markdown",
   "metadata": {},
   "source": [
    "- Step 3: Fitting Linear Regression to the dataset\n",
    "\n",
    "- Fitting the linear Regression model On two components."
   ]
  },
  {
   "cell_type": "code",
   "execution_count": 94,
   "metadata": {},
   "outputs": [
    {
     "data": {
      "text/plain": [
       "LinearRegression(copy_X=True, fit_intercept=True, n_jobs=None,\n",
       "         normalize=False)"
      ]
     },
     "execution_count": 94,
     "metadata": {},
     "output_type": "execute_result"
    }
   ],
   "source": [
    "lin = LinearRegression() \n",
    "  \n",
    "lin.fit(X_train[['totsqft', 'land_tax_val']], y_train) "
   ]
  },
  {
   "cell_type": "markdown",
   "metadata": {},
   "source": [
    "- Step 4: Fitting Polynomial Regression to the dataset\n",
    "\n",
    "- Fitting the Polynomial Regression model on two components X and y."
   ]
  },
  {
   "cell_type": "code",
   "execution_count": 96,
   "metadata": {},
   "outputs": [
    {
     "data": {
      "text/plain": [
       "LinearRegression(copy_X=True, fit_intercept=True, n_jobs=None,\n",
       "         normalize=False)"
      ]
     },
     "execution_count": 96,
     "metadata": {},
     "output_type": "execute_result"
    }
   ],
   "source": [
    "poly = PolynomialFeatures(degree = 4) \n",
    "X_poly = poly.fit_transform(X_train[['totsqft', 'land_tax_val']]) \n",
    "  \n",
    "lin2 = LinearRegression() \n",
    "lin2.fit(X_poly, y_train) "
   ]
  },
  {
   "cell_type": "markdown",
   "metadata": {},
   "source": [
    "- Step 5: In this step we are Visualising the Linear Regression results using scatter plot."
   ]
  },
  {
   "cell_type": "code",
   "execution_count": 97,
   "metadata": {},
   "outputs": [
    {
     "data": {
      "image/png": "[encoded data removed]",
      "text/plain": [
       "<Figure size 432x288 with 1 Axes>"
      ]
     },
     "metadata": {
      "needs_background": "light"
     },
     "output_type": "display_data"
    }
   ],
   "source": [
    "# Visualising the Linear Regression results \n",
    "plt.scatter(X_train[['totsqft']], y_train, color = 'blue') \n",
    "\n",
    "# predictions is the y value...\n",
    "predictions = lin.predict(X_train[['totsqft', 'land_tax_val']])\n",
    "\n",
    "plt.plot(X_train[['totsqft']], predictions, color = 'red') \n",
    "plt.title('Linear Regression') \n",
    "plt.xlabel('Total Square Feet') \n",
    "plt.ylabel('Predicted totsqft') \n",
    "  \n",
    "plt.show() "
   ]
  },
  {
   "cell_type": "markdown",
   "metadata": {},
   "source": [
    "- Step 6: Visualising the Polynomial Regression results using scatter plot."
   ]
  },
  {
   "cell_type": "code",
   "execution_count": 98,
   "metadata": {},
   "outputs": [
    {
     "data": {
      "image/png": "[encoded data removed]",
      "text/plain": [
       "<Figure size 432x288 with 1 Axes>"
      ]
     },
     "metadata": {
      "needs_background": "light"
     },
     "output_type": "display_data"
    }
   ],
   "source": [
    "# Visualising the Polynomial Regression results \n",
    "plt.scatter(X_train[['totsqft']], y_train, color = 'blue') \n",
    "  \n",
    "poly_predictions = lin2.predict(poly.fit_transform(X_train[['totsqft', 'land_tax_val']]))\n",
    "    \n",
    "plt.plot(X_train[['totsqft']], poly_predictions, color = 'red') \n",
    "plt.title('Polynomial Regression') \n",
    "plt.xlabel('Total Square Feet') \n",
    "plt.ylabel('Land Tax Value') \n",
    "  \n",
    "plt.show() "
   ]
  },
  {
   "cell_type": "markdown",
   "metadata": {},
   "source": [
    "- Step 7: Predicting new result with both Linear and Polynomial Regression."
   ]
  },
  {
   "cell_type": "code",
   "execution_count": 99,
   "metadata": {},
   "outputs": [
    {
     "data": {
      "text/plain": [
       "array([[0.11298904]])"
      ]
     },
     "execution_count": 99,
     "metadata": {},
     "output_type": "execute_result"
    }
   ],
   "source": [
    "# Predicting a new logerror with Linear Regression \n",
    "# using totsqft = .95 and land_tax_val = 1\n",
    "lin.predict([[.95, 1]]) "
   ]
  },
  {
   "cell_type": "code",
   "execution_count": 100,
   "metadata": {},
   "outputs": [
    {
     "data": {
      "text/plain": [
       "array([[0.40717565]])"
      ]
     },
     "execution_count": 100,
     "metadata": {},
     "output_type": "execute_result"
    }
   ],
   "source": [
    "# Predicting a new logerror with Polynomial Regression \n",
    "# using totsqft = .95 and land_tax_val = 1\n",
    "lin2.predict(poly.fit_transform([[.95, 1]])) "
   ]
  },
  {
   "cell_type": "markdown",
   "metadata": {},
   "source": [
    "#### Advantages of using Polynomial Regression:\n",
    "- Broad range of function can be fit under it.\n",
    "- Polynomial basically fits wide range of curvature.\n",
    "- Polynomial provides the best approximation of the relationship between dependent and independent variable.\n",
    "\n",
    "#### Disadvantages of using Polynomial Regression\n",
    "- These are too sensitive to the outliers.\n",
    "- The presence of one or two outliers in the data can seriously affect the results of a nonlinear analysis.\n",
    "- In addition there are unfortunately fewer model validation tools for the detection of outliers in nonlinear regression than there are for linear regression."
   ]
  },
  {
   "cell_type": "code",
   "execution_count": 101,
   "metadata": {},
   "outputs": [
    {
     "data": {
      "text/plain": [
       "Index(['bath', 'bed', 'totsqft', 'year', 'land_tax_val', 'struct_tax_val',\n",
       "       'tax', 'zip', 'regionidcity', 'regionidcounty', 'fips', 'latitude',\n",
       "       'longitude', 'lotsize', 'bldgqualtype', 'transdate', 'cluster_target_A',\n",
       "       'cluster_target_B', 'cluster_target_C', 'cluster_target_D',\n",
       "       'cluster_target_E'],\n",
       "      dtype='object')"
      ]
     },
     "execution_count": 101,
     "metadata": {},
     "output_type": "execute_result"
    }
   ],
   "source": [
    "X_train.columns"
   ]
  },
  {
   "cell_type": "markdown",
   "metadata": {},
   "source": [
    "# Model 10 -- polynomial regression \n",
    "# ......let's try fitting a bunch of features to the model"
   ]
  },
  {
   "cell_type": "code",
   "execution_count": 151,
   "metadata": {},
   "outputs": [
    {
     "data": {
      "text/html": [
       "<div>\n",
       "<style scoped>\n",
       "    .dataframe tbody tr th:only-of-type {\n",
       "        vertical-align: middle;\n",
       "    }\n",
       "\n",
       "    .dataframe tbody tr th {\n",
       "        vertical-align: top;\n",
       "    }\n",
       "\n",
       "    .dataframe thead th {\n",
       "        text-align: right;\n",
       "    }\n",
       "</style>\n",
       "<table border=\"1\" class=\"dataframe\">\n",
       "  <thead>\n",
       "    <tr style=\"text-align: right;\">\n",
       "      <th></th>\n",
       "      <th>logerror</th>\n",
       "    </tr>\n",
       "    <tr>\n",
       "      <th>parcelid</th>\n",
       "      <th></th>\n",
       "    </tr>\n",
       "  </thead>\n",
       "  <tbody>\n",
       "    <tr>\n",
       "      <th>11106403</th>\n",
       "      <td>0.01</td>\n",
       "    </tr>\n",
       "    <tr>\n",
       "      <th>11978581</th>\n",
       "      <td>0.06</td>\n",
       "    </tr>\n",
       "    <tr>\n",
       "      <th>10859302</th>\n",
       "      <td>0.10</td>\n",
       "    </tr>\n",
       "    <tr>\n",
       "      <th>10895234</th>\n",
       "      <td>0.01</td>\n",
       "    </tr>\n",
       "    <tr>\n",
       "      <th>12703998</th>\n",
       "      <td>0.03</td>\n",
       "    </tr>\n",
       "  </tbody>\n",
       "</table>\n",
       "</div>"
      ],
      "text/plain": [
       "                     logerror\n",
       "parcelid                     \n",
       "11106403                 0.01\n",
       "11978581                 0.06\n",
       "10859302                 0.10\n",
       "10895234                 0.01\n",
       "12703998                 0.03"
      ]
     },
     "execution_count": 151,
     "metadata": {},
     "output_type": "execute_result"
    }
   ],
   "source": [
    "y_train.head()"
   ]
  },
  {
   "cell_type": "code",
   "execution_count": 170,
   "metadata": {},
   "outputs": [],
   "source": [
    "# This function was inspired by https://www.geeksforgeeks.org/python-implementation-of-polynomial-regression/\n",
    "def model_polyreg(X, y, features, X_graph_var):\n",
    "    # X is a dataframe containing all of the independent features\n",
    "    # y a dataframe with the target, like y_train\n",
    "    # features is a list of the columns you wish to use\n",
    "    # X_graph_var is the feature you would like to graph against the target\n",
    "    \n",
    "    lin = LinearRegression()  \n",
    "    lin.fit(X, y) \n",
    "    \n",
    "    poly = PolynomialFeatures(degree = 4) \n",
    "    X_poly = poly.fit_transform(X) \n",
    "\n",
    "    lin2 = LinearRegression() \n",
    "    lin2.fit(X_poly, y) \n",
    "    \n",
    "    # Visualising the Linear Regression results \n",
    "    plt.scatter(X[[X_graph_var]], y, color = 'blue') \n",
    "\n",
    "    # y_pred_lin is the y value...\n",
    "    y_pred_lin = lin.predict(X)\n",
    "\n",
    "    plt.plot(X_train[[X_graph_var]], y_pred_lin, color = 'red') \n",
    "    plt.title('Linear Regression') \n",
    "    plt.xlabel(X_graph_var) \n",
    "    plt.ylabel('Predicted '+ X_graph_var) \n",
    "\n",
    "    plt.show() \n",
    "\n",
    "    mse_lin = mean_squared_error(y, y_pred_lin)\n",
    "    r2_lin = r2_score(y_train, y_pred_lin)\n",
    "    \n",
    "    # Visualising the Polynomial Regression results \n",
    "    plt.scatter(X[[X_graph_var]], y_train, color = 'blue') \n",
    "\n",
    "    y_poly_pred = lin2.predict(poly.fit_transform(X))\n",
    "\n",
    "    plt.plot(X[[X_graph_var]], y_poly_pred, color = 'red') \n",
    "    plt.title('Polynomial Regression') \n",
    "    plt.xlabel(X_graph_var) \n",
    "    plt.ylabel('Predicted '+X_graph_var) \n",
    "\n",
    "    plt.show() \n",
    "    \n",
    "    rmse_lin2 = np.sqrt(mean_squared_error(y,y_poly_pred))\n",
    "    r2_lin2 = r2_score(y,y_poly_pred)\n",
    "    \n",
    "    print(\"    Mean squared error of linear model is %.2f\" % mse_lin)\n",
    "    print('    In the linear model, {:.2%} of the variance in the logerror of the train data can be explained by the number of rooms and the total square footage.'\n",
    "      .format(r2_lin))\n",
    "    print(\"    Root-mean-square error of polynomial model is %.2f\" % rmse_lin2)\n",
    "    print('    In the polynomial model, {:.2%} of the variance in the logerror of the train data can be explained by the number of rooms and the total square footage.'\n",
    "      .format(r2_lin2))\n",
    "\n",
    "    \n",
    "    return lin, mse_lin, r2_lin, y_pred_lin, lin2, rmse_lin2, r2_lin2, y_poly_pred"
   ]
  },
  {
   "cell_type": "code",
   "execution_count": 171,
   "metadata": {},
   "outputs": [
    {
     "data": {
      "image/png": "[encoded data removed]",
      "text/plain": [
       "<Figure size 432x288 with 1 Axes>"
      ]
     },
     "metadata": {
      "needs_background": "light"
     },
     "output_type": "display_data"
    },
    {
     "data": {
      "image/png": "[encoded data removed]",
      "text/plain": [
       "<Figure size 432x288 with 1 Axes>"
      ]
     },
     "metadata": {
      "needs_background": "light"
     },
     "output_type": "display_data"
    },
    {
     "name": "stdout",
     "output_type": "stream",
     "text": [
      "    Mean squared error of linear model is 0.02\n",
      "    In the linear model, 1.44% of the variance in the logerror of the train data can be explained by the number of rooms and the total square footage.\n",
      "    Root-mean-square error of polynomial model is 0.14\n",
      "    In the polynomial model, 2.39% of the variance in the logerror of the train data can be explained by the number of rooms and the total square footage.\n",
      "Given 'totsqft' = .03, 'land_tax_val' = .03, 'longitude' = -118462000.00, 'struct_tax_val' = .01,\n",
      "'year' = .77, 'latitude' = 34413500.00, 'lotsize' = .09,\n",
      "lin predicts y to be  [[0.05563308]] and\n",
      "lin2 predicts y to be  [[0.04028931]]\n",
      "\n",
      "\n"
     ]
    }
   ],
   "source": [
    "# create the linear regression model and fit it to the data\n",
    "features = ['totsqft', 'land_tax_val', 'longitude', 'struct_tax_val', 'year', 'latitude', 'lotsize']\n",
    "X = X_train[['totsqft', 'land_tax_val', 'longitude', 'struct_tax_val', 'year', 'latitude', 'lotsize']].copy()\n",
    "y = y_train.copy()\n",
    "X_graph_var = 'totsqft'\n",
    "lin, mse_lin, r2_lin, y_pred_lin, lin2, rmse, r2_lin, y_poly_pred = model_polyreg(X, y, features, X_graph_var)\n",
    "\n",
    "# Predicting a new logerror with Linear Regression \n",
    "# 'totsqft' = .03, 'land_tax_val' = .03, 'longitude' = -118462000.00, 'struct_tax_val' = .01, \n",
    "# 'year' = .77, 'latitude' = 34413500.00, 'lotsize' = .09\n",
    "print(\"Given 'totsqft' = .03, 'land_tax_val' = .03, 'longitude' = -118462000.00, 'struct_tax_val' = .01,\")\n",
    "print(\"'year' = .77, 'latitude' = 34413500.00, 'lotsize' = .09,\")\n",
    "print('lin predicts y to be ', lin.predict([[0.03, 0.03, -118462000.00, 0.01, 0.77, 34413500.00, 0.09]]), 'and')\n",
    "\n",
    "# Predicting a new logerror with Polynomial Regression \n",
    "print('lin2 predicts y to be ', lin2.predict(poly.fit_transform([[0.03, 0.03, -118462000.00, 0.01, 0.77, 34413500.00, 0.09]])))\n",
    "print('\\n')\n"
   ]
  },
  {
   "cell_type": "markdown",
   "metadata": {},
   "source": [
    "The polynomial predictor got closer.\n",
    "\n",
    "Try the second row..."
   ]
  },
  {
   "cell_type": "code",
   "execution_count": 172,
   "metadata": {},
   "outputs": [
    {
     "name": "stdout",
     "output_type": "stream",
     "text": [
      "Given 'totsqft' = .02, 'land_tax_val' = .06, 'longitude' = -118190000.00, 'struct_tax_val' = 0.02,\n",
      "'year' = 0.73, 'latitude' = 34106700.00, 'lotsize' = 0.16,\n",
      "lin predicts y to be  [[0.05698432]] and\n",
      "lin2 predicts y to be  [[0.05338364]]\n"
     ]
    }
   ],
   "source": [
    "print(\"Given 'totsqft' = .02, 'land_tax_val' = .06, 'longitude' = -118190000.00, 'struct_tax_val' = 0.02,\")\n",
    "print(\"'year' = 0.73, 'latitude' = 34106700.00, 'lotsize' = 0.16,\")\n",
    "\n",
    "print('lin predicts y to be ', lin.predict([[0.02, 0.06, -118190000.00, 0.02, 0.73, 34106700.00, 0.16]]), 'and')\n",
    "print('lin2 predicts y to be ', lin2.predict(poly.fit_transform([[0.02, 0.06, -118190000.00, 0.02, 0.73, 34106700.00, 0.16]])))\n"
   ]
  },
  {
   "cell_type": "markdown",
   "metadata": {},
   "source": [
    "This time, they are both very close, but the first one is closer."
   ]
  },
  {
   "cell_type": "code",
   "execution_count": 173,
   "metadata": {},
   "outputs": [
    {
     "data": {
      "image/png": "[encoded data removed]",
      "text/plain": [
       "<Figure size 432x288 with 1 Axes>"
      ]
     },
     "metadata": {
      "needs_background": "light"
     },
     "output_type": "display_data"
    },
    {
     "data": {
      "image/png": "[encoded data removed]",
      "text/plain": [
       "<Figure size 432x288 with 1 Axes>"
      ]
     },
     "metadata": {
      "needs_background": "light"
     },
     "output_type": "display_data"
    },
    {
     "name": "stdout",
     "output_type": "stream",
     "text": [
      "    Mean squared error of linear model is 0.02\n",
      "    In the linear model, 0.07% of the variance in the logerror of the train data can be explained by the number of rooms and the total square footage.\n",
      "    Root-mean-square error of polynomial model is 0.14\n",
      "    In the polynomial model, 0.77% of the variance in the logerror of the train data can be explained by the number of rooms and the total square footage.\n",
      "Given 'totsqft' = .03, 'land_tax_val' = .03,\n",
      "lin predicts y to be  [[0.06653353]] and\n",
      "lin2 predicts y to be  [[0.08163405]]\n",
      "\n",
      "\n"
     ]
    }
   ],
   "source": [
    "# create the linear regression model and fit it to the data\n",
    "features = ['totsqft', 'land_tax_val']\n",
    "X = X_train[['totsqft', 'land_tax_val']].copy()\n",
    "y = y_train.copy()\n",
    "X_graph_var = 'totsqft'\n",
    "lin, mse_lin, r2_lin, y_pred_lin, lin2, rmse, r2_lin, y_poly_pred = model_polyreg(X, y, features, X_graph_var)\n",
    "\n",
    "# Predicting a new logerror with Linear Regression \n",
    "# \n",
    "print(\"Given 'totsqft' = .03, 'land_tax_val' = .03,\")\n",
    "print('lin predicts y to be ', lin.predict([[.03, .03]]), 'and')\n",
    "\n",
    "# Predicting a new logerror with Polynomial Regression \n",
    "print('lin2 predicts y to be ', lin2.predict(poly.fit_transform([[0.03, 0.03]])))\n",
    "print('\\n')\n"
   ]
  },
  {
   "cell_type": "markdown",
   "metadata": {},
   "source": [
    "    - cluster_target_A = logerror only\n",
    "    - cluster_target_B = totsqft only\n",
    "    - cluster_target_C = land_tax_val only\n",
    "    - cluster_target_D = latitude, longitude, and totsqft"
   ]
  },
  {
   "cell_type": "markdown",
   "metadata": {},
   "source": [
    "Try using cluster_target_D as the independent variable."
   ]
  },
  {
   "cell_type": "code",
   "execution_count": 174,
   "metadata": {},
   "outputs": [
    {
     "data": {
      "image/png": "[encoded data removed]",
      "text/plain": [
       "<Figure size 432x288 with 1 Axes>"
      ]
     },
     "metadata": {
      "needs_background": "light"
     },
     "output_type": "display_data"
    },
    {
     "data": {
      "image/png": "[encoded data removed]",
      "text/plain": [
       "<Figure size 432x288 with 1 Axes>"
      ]
     },
     "metadata": {
      "needs_background": "light"
     },
     "output_type": "display_data"
    },
    {
     "name": "stdout",
     "output_type": "stream",
     "text": [
      "    Mean squared error of linear model is 0.02\n",
      "    In the linear model, 0.00% of the variance in the logerror of the train data can be explained by the number of rooms and the total square footage.\n",
      "    Root-mean-square error of polynomial model is 0.14\n",
      "    In the polynomial model, 0.10% of the variance in the logerror of the train data can be explained by the number of rooms and the total square footage.\n",
      "Given 'cluster_target_D' = 3,\n",
      "lin predicts y to be  [[0.0694347]] and\n",
      "lin2 predicts y to be  [[0.07534847]]\n",
      "\n",
      "\n"
     ]
    }
   ],
   "source": [
    "# create the linear regression model and fit it to the data\n",
    "features = ['cluster_target_D']\n",
    "X = X_train[['cluster_target_D']].copy()\n",
    "y = y_train.copy()\n",
    "X_graph_var = 'cluster_target_D'\n",
    "lin, mse_lin, r2_lin, y_pred_lin, lin2, rmse, r2_lin, y_poly_pred = model_polyreg(X, y, features, X_graph_var)\n",
    "\n",
    "# Predicting a new logerror with Linear Regression \n",
    "print(\"Given 'cluster_target_D' = 3,\")\n",
    "print('lin predicts y to be ', lin.predict([[3]]), 'and')\n",
    "\n",
    "# Predicting a new logerror with Polynomial Regression \n",
    "print('lin2 predicts y to be ', lin2.predict(poly.fit_transform([[3]])))\n",
    "print('\\n')\n"
   ]
  },
  {
   "cell_type": "code",
   "execution_count": 175,
   "metadata": {},
   "outputs": [
    {
     "data": {
      "text/html": [
       "<div>\n",
       "<style scoped>\n",
       "    .dataframe tbody tr th:only-of-type {\n",
       "        vertical-align: middle;\n",
       "    }\n",
       "\n",
       "    .dataframe tbody tr th {\n",
       "        vertical-align: top;\n",
       "    }\n",
       "\n",
       "    .dataframe thead th {\n",
       "        text-align: right;\n",
       "    }\n",
       "</style>\n",
       "<table border=\"1\" class=\"dataframe\">\n",
       "  <thead>\n",
       "    <tr style=\"text-align: right;\">\n",
       "      <th></th>\n",
       "      <th>cluster_target_A</th>\n",
       "      <th>cluster_target_B</th>\n",
       "      <th>cluster_target_C</th>\n",
       "    </tr>\n",
       "    <tr>\n",
       "      <th>parcelid</th>\n",
       "      <th></th>\n",
       "      <th></th>\n",
       "      <th></th>\n",
       "    </tr>\n",
       "  </thead>\n",
       "  <tbody>\n",
       "    <tr>\n",
       "      <th>11106403</th>\n",
       "      <td>4</td>\n",
       "      <td>2</td>\n",
       "      <td>1</td>\n",
       "    </tr>\n",
       "  </tbody>\n",
       "</table>\n",
       "</div>"
      ],
      "text/plain": [
       "          cluster_target_A  cluster_target_B  cluster_target_C\n",
       "parcelid                                                      \n",
       "11106403                 4                 2                 1"
      ]
     },
     "execution_count": 175,
     "metadata": {},
     "output_type": "execute_result"
    }
   ],
   "source": [
    "X_train[['cluster_target_A', 'cluster_target_B', 'cluster_target_C']].head(1)"
   ]
  },
  {
   "cell_type": "code",
   "execution_count": 176,
   "metadata": {},
   "outputs": [
    {
     "data": {
      "image/png": "[encoded data removed]",
      "text/plain": [
       "<Figure size 432x288 with 1 Axes>"
      ]
     },
     "metadata": {
      "needs_background": "light"
     },
     "output_type": "display_data"
    },
    {
     "data": {
      "image/png": "[encoded data removed]",
      "text/plain": [
       "<Figure size 432x288 with 1 Axes>"
      ]
     },
     "metadata": {
      "needs_background": "light"
     },
     "output_type": "display_data"
    },
    {
     "name": "stdout",
     "output_type": "stream",
     "text": [
      "    Mean squared error of linear model is 0.01\n",
      "    In the linear model, 38.02% of the variance in the logerror of the train data can be explained by the number of rooms and the total square footage.\n",
      "    Root-mean-square error of polynomial model is 0.08\n",
      "    In the polynomial model, 67.56% of the variance in the logerror of the train data can be explained by the number of rooms and the total square footage.\n",
      "Given 'cluster_target_A' = 4, 'cluster_target_B' = 2, 'cluster_target_C' = 1\n",
      "lin predicts y to be  [[0.04547603]] and\n",
      "lin2 predicts y to be  [[0.04210375]]\n",
      "\n",
      "\n"
     ]
    }
   ],
   "source": [
    "# create the linear regression model and fit it to the data\n",
    "features = ['cluster_target_A', 'cluster_target_B', 'cluster_target_C']\n",
    "X = X_train[['cluster_target_A', 'cluster_target_B', 'cluster_target_C']].copy()\n",
    "y = y_train.copy()\n",
    "X_graph_var = 'cluster_target_A'\n",
    "lin, mse_lin, r2_lin, y_pred_lin, lin2, rmse, r2_lin, y_poly_pred = model_polyreg(X, y, features, X_graph_var)\n",
    "\n",
    "# Predicting a new logerror with Linear Regression \n",
    "print(\"Given 'cluster_target_A' = 4, 'cluster_target_B' = 2, 'cluster_target_C' = 1\")\n",
    "print('lin predicts y to be ', lin.predict([[4,2,1]]), 'and')\n",
    "\n",
    "# Predicting a new logerror with Polynomial Regression \n",
    "print('lin2 predicts y to be ', lin2.predict(poly.fit_transform([[4,2,1]])))\n",
    "print('\\n')\n"
   ]
  },
  {
   "cell_type": "code",
   "execution_count": 180,
   "metadata": {},
   "outputs": [
    {
     "data": {
      "image/png": "[encoded data removed]",
      "text/plain": [
       "<Figure size 432x288 with 1 Axes>"
      ]
     },
     "metadata": {
      "needs_background": "light"
     },
     "output_type": "display_data"
    },
    {
     "data": {
      "image/png": "[encoded data removed]",
      "text/plain": [
       "<Figure size 432x288 with 1 Axes>"
      ]
     },
     "metadata": {
      "needs_background": "light"
     },
     "output_type": "display_data"
    },
    {
     "name": "stdout",
     "output_type": "stream",
     "text": [
      "    Mean squared error of linear model is 0.01\n",
      "    In the linear model, 38.02% of the variance in the logerror of the train data can be explained by the number of rooms and the total square footage.\n",
      "    Root-mean-square error of polynomial model is 0.08\n",
      "    In the polynomial model, 67.56% of the variance in the logerror of the train data can be explained by the number of rooms and the total square footage.\n",
      "Given 'cluster_target_A' = 4, 'cluster_target_B' = 2, 'cluster_target_C' = 1\n",
      "lin predicts y to be  [[0.04547603]] and\n",
      "lin2 predicts y to be  [[0.04210375]]\n",
      "\n",
      "\n"
     ]
    }
   ],
   "source": [
    "# create the linear regression model and fit it to the data\n",
    "features = ['cluster_target_A', 'cluster_target_B', 'cluster_target_C']\n",
    "X = X_train[['cluster_target_A', 'cluster_target_B', 'cluster_target_C']].copy()\n",
    "y = y_train.copy()\n",
    "X_graph_var = 'cluster_target_C'\n",
    "lin, mse_lin, r2_lin, y_pred_lin, lin2, rmse, r2_lin, y_poly_pred = model_polyreg(X, y, features, X_graph_var)\n",
    "\n",
    "# Predicting a new logerror with Linear Regression \n",
    "print(\"Given 'cluster_target_A' = 4, 'cluster_target_B' = 2, 'cluster_target_C' = 1\")\n",
    "print('lin predicts y to be ', lin.predict([[4,2,1]]), 'and')\n",
    "\n",
    "# Predicting a new logerror with Polynomial Regression \n",
    "print('lin2 predicts y to be ', lin2.predict(poly.fit_transform([[4,2,1]])))\n",
    "print('\\n')\n"
   ]
  },
  {
   "cell_type": "code",
   "execution_count": null,
   "metadata": {},
   "outputs": [],
   "source": []
  },
  {
   "cell_type": "code",
   "execution_count": null,
   "metadata": {},
   "outputs": [],
   "source": []
  }
 ],
 "metadata": {
  "kernelspec": {
   "display_name": "Python 3",
   "language": "python",
   "name": "python3"
  },
  "language_info": {
   "codemirror_mode": {
    "name": "ipython",
    "version": 3
   },
   "file_extension": ".py",
   "mimetype": "text/x-python",
   "name": "python",
   "nbconvert_exporter": "python",
   "pygments_lexer": "ipython3",
   "version": "3.7.1"
  }
 },
 "nbformat": 4,
 "nbformat_minor": 2
}
