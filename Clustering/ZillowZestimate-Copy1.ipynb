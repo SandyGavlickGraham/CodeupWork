{
 "cells": [
  {
   "cell_type": "code",
   "execution_count": 1,
   "metadata": {},
   "outputs": [
    {
     "name": "stdout",
     "output_type": "stream",
     "text": [
      "cufflinks version  0.15\n"
     ]
    }
   ],
   "source": [
    "# import prepared data\n",
    "from prepare_zillow import prepare_zillow_without_outliers\n",
    "from summarize import df_summary\n",
    "\n",
    "# ignore warnings\n",
    "import warnings\n",
    "warnings.filterwarnings(\"ignore\")\n",
    "\n",
    "# Wrangling\n",
    "import numpy as np\n",
    "import pandas as pd\n",
    "\n",
    "# Visualizing\n",
    "%matplotlib inline\n",
    "import matplotlib.pyplot as plt\n",
    "from matplotlib import cm\n",
    "import seaborn as sns\n",
    "import plotly.plotly as py\n",
    "import plotly.tools as tls\n",
    "import cufflinks as cf\n",
    "print('cufflinks version ', cf.__version__)\n",
    "import plotly.graph_objs as go\n",
    "import sys # used in command to make entire array print by default\n",
    "\n",
    "# Modeling\n",
    "from scipy.spatial.distance import cdist\n",
    "from scipy.cluster.vq import kmeans2, whiten\n",
    "from sklearn.cluster import KMeans\n",
    "from sklearn import metrics\n",
    "import math\n",
    "from mpl_toolkits.mplot3d import Axes3D\n",
    "%matplotlib inline\n",
    "from sklearn.preprocessing import LabelEncoder\n",
    "from sklearn.preprocessing import MinMaxScaler\n",
    "import xgboost as xgb\n",
    "from scipy import stats\n",
    "from pandas.tools.plotting import scatter_matrix\n",
    "from matplotlib.ticker import FormatStrFormatter\n",
    "from sklearn.linear_model import LinearRegression\n",
    "from matplotlib.figure import Figure\n",
    "from sklearn.cluster import KMeans\n",
    "\n",
    "from sklearn.metrics import mean_squared_error, r2_score, mean_absolute_error, median_absolute_error\n",
    "from sklearn.feature_selection import f_regression\n",
    "from sklearn.preprocessing import PolynomialFeatures\n",
    "from sklearn.model_selection import train_test_split\n",
    "import statsmodels.api as sm\n",
    "from statsmodels.sandbox.regression.predstd import wls_prediction_std\n",
    "\n",
    "\n",
    "# Though the following import is not directly being used, it is required\n",
    "# for 3D projection to work\n",
    "from mpl_toolkits.mplot3d import Axes3D\n",
    "pd.options.display.float_format = '{:20,.2f}'.format\n",
    "\n",
    "# ignore warnings\n",
    "import warnings\n",
    "warnings.filterwarnings(\"ignore\")\n",
    "\n",
    "# import os\n",
    "# import sys"
   ]
  },
  {
   "cell_type": "code",
   "execution_count": 2,
   "metadata": {},
   "outputs": [
    {
     "data": {
      "application/javascript": [
       "IPython.OutputArea.prototype._should_scroll = function(lines) {\n",
       "    return false;\n",
       "}\n"
      ],
      "text/plain": [
       "<IPython.core.display.Javascript object>"
      ]
     },
     "metadata": {},
     "output_type": "display_data"
    }
   ],
   "source": [
    "%%javascript\n",
    "IPython.OutputArea.prototype._should_scroll = function(lines) {\n",
    "    return false;\n",
    "}"
   ]
  },
  {
   "cell_type": "code",
   "execution_count": 3,
   "metadata": {},
   "outputs": [],
   "source": [
    "# makes entire array print by default, can add [:##] to end to set length\n",
    "np.set_printoptions(threshold=sys.maxsize)"
   ]
  },
  {
   "cell_type": "code",
   "execution_count": 4,
   "metadata": {},
   "outputs": [
    {
     "name": "stdout",
     "output_type": "stream",
     "text": [
      "Reading Zillow data...\n",
      "Preparing and cleaning Zillow data...\n",
      "LinearRegression(copy_X=True, fit_intercept=True, n_jobs=None,\n",
      "         normalize=False)\n",
      "[33039.95776043]\n",
      "[[-0.00962733]]\n",
      "Univariate - final_exam = b + m * exam1\n",
      "    y-intercept (b): 33039.96\n",
      "    coefficient (m): -0.01\n",
      "\n",
      "Zillow data is now ready for analysis!\n"
     ]
    },
    {
     "data": {
      "text/html": [
       "<div>\n",
       "<style scoped>\n",
       "    .dataframe tbody tr th:only-of-type {\n",
       "        vertical-align: middle;\n",
       "    }\n",
       "\n",
       "    .dataframe tbody tr th {\n",
       "        vertical-align: top;\n",
       "    }\n",
       "\n",
       "    .dataframe thead th {\n",
       "        text-align: right;\n",
       "    }\n",
       "</style>\n",
       "<table border=\"1\" class=\"dataframe\">\n",
       "  <thead>\n",
       "    <tr style=\"text-align: right;\">\n",
       "      <th></th>\n",
       "      <th>logerror</th>\n",
       "      <th>bath</th>\n",
       "      <th>bed</th>\n",
       "      <th>bedbath</th>\n",
       "      <th>totsqft</th>\n",
       "      <th>finsqft</th>\n",
       "      <th>year</th>\n",
       "      <th>land_tax_val</th>\n",
       "      <th>struct_tax_val</th>\n",
       "      <th>land_struct_tax_val</th>\n",
       "      <th>...</th>\n",
       "      <th>lotsize</th>\n",
       "      <th>bldgqualtype</th>\n",
       "      <th>hvac</th>\n",
       "      <th>landusecode</th>\n",
       "      <th>landusedesc</th>\n",
       "      <th>propzone</th>\n",
       "      <th>rawcensus</th>\n",
       "      <th>census</th>\n",
       "      <th>assessmentyr</th>\n",
       "      <th>transdate</th>\n",
       "    </tr>\n",
       "    <tr>\n",
       "      <th>parcelid</th>\n",
       "      <th></th>\n",
       "      <th></th>\n",
       "      <th></th>\n",
       "      <th></th>\n",
       "      <th></th>\n",
       "      <th></th>\n",
       "      <th></th>\n",
       "      <th></th>\n",
       "      <th></th>\n",
       "      <th></th>\n",
       "      <th></th>\n",
       "      <th></th>\n",
       "      <th></th>\n",
       "      <th></th>\n",
       "      <th></th>\n",
       "      <th></th>\n",
       "      <th></th>\n",
       "      <th></th>\n",
       "      <th></th>\n",
       "      <th></th>\n",
       "      <th></th>\n",
       "    </tr>\n",
       "  </thead>\n",
       "  <tbody>\n",
       "    <tr>\n",
       "      <th>12603480</th>\n",
       "      <td>0.01</td>\n",
       "      <td>0.22</td>\n",
       "      <td>0.20</td>\n",
       "      <td>0.42</td>\n",
       "      <td>0.12</td>\n",
       "      <td>0.12</td>\n",
       "      <td>0.93</td>\n",
       "      <td>0.15</td>\n",
       "      <td>0.04</td>\n",
       "      <td>0.18</td>\n",
       "      <td>...</td>\n",
       "      <td>0.02</td>\n",
       "      <td>4.00</td>\n",
       "      <td>Central</td>\n",
       "      <td>010D</td>\n",
       "      <td>Planned Unit Development</td>\n",
       "      <td>TOPR-MD</td>\n",
       "      <td>60376509</td>\n",
       "      <td>60376509023009</td>\n",
       "      <td>2015</td>\n",
       "      <td>2016-07-22</td>\n",
       "    </tr>\n",
       "    <tr>\n",
       "      <th>11069345</th>\n",
       "      <td>-0.03</td>\n",
       "      <td>0.22</td>\n",
       "      <td>0.30</td>\n",
       "      <td>0.52</td>\n",
       "      <td>0.18</td>\n",
       "      <td>0.18</td>\n",
       "      <td>0.93</td>\n",
       "      <td>0.21</td>\n",
       "      <td>0.04</td>\n",
       "      <td>0.24</td>\n",
       "      <td>...</td>\n",
       "      <td>0.00</td>\n",
       "      <td>4.00</td>\n",
       "      <td>Central</td>\n",
       "      <td>010D</td>\n",
       "      <td>Planned Unit Development</td>\n",
       "      <td>LARZ4</td>\n",
       "      <td>60371082</td>\n",
       "      <td>60371082021028</td>\n",
       "      <td>2015</td>\n",
       "      <td>2016-08-12</td>\n",
       "    </tr>\n",
       "    <tr>\n",
       "      <th>11853596</th>\n",
       "      <td>0.17</td>\n",
       "      <td>0.22</td>\n",
       "      <td>0.20</td>\n",
       "      <td>0.42</td>\n",
       "      <td>0.11</td>\n",
       "      <td>0.11</td>\n",
       "      <td>0.72</td>\n",
       "      <td>0.08</td>\n",
       "      <td>0.03</td>\n",
       "      <td>0.10</td>\n",
       "      <td>...</td>\n",
       "      <td>0.00</td>\n",
       "      <td>8.00</td>\n",
       "      <td>Central</td>\n",
       "      <td>010D</td>\n",
       "      <td>Planned Unit Development</td>\n",
       "      <td>PRPUD*</td>\n",
       "      <td>60375005</td>\n",
       "      <td>60375005001018</td>\n",
       "      <td>2016</td>\n",
       "      <td>2017-08-08</td>\n",
       "    </tr>\n",
       "  </tbody>\n",
       "</table>\n",
       "<p>3 rows × 28 columns</p>\n",
       "</div>"
      ],
      "text/plain": [
       "                     logerror                 bath                  bed  \\\n",
       "parcelid                                                                  \n",
       "12603480                 0.01                 0.22                 0.20   \n",
       "11069345                -0.03                 0.22                 0.30   \n",
       "11853596                 0.17                 0.22                 0.20   \n",
       "\n",
       "                      bedbath              totsqft              finsqft  \\\n",
       "parcelid                                                                  \n",
       "12603480                 0.42                 0.12                 0.12   \n",
       "11069345                 0.52                 0.18                 0.18   \n",
       "11853596                 0.42                 0.11                 0.11   \n",
       "\n",
       "                         year         land_tax_val       struct_tax_val  \\\n",
       "parcelid                                                                  \n",
       "12603480                 0.93                 0.15                 0.04   \n",
       "11069345                 0.93                 0.21                 0.04   \n",
       "11853596                 0.72                 0.08                 0.03   \n",
       "\n",
       "          land_struct_tax_val     ...                  lotsize  \\\n",
       "parcelid                          ...                            \n",
       "12603480                 0.18     ...                     0.02   \n",
       "11069345                 0.24     ...                     0.00   \n",
       "11853596                 0.10     ...                     0.00   \n",
       "\n",
       "                 bldgqualtype     hvac landusecode               landusedesc  \\\n",
       "parcelid                                                                       \n",
       "12603480                 4.00  Central        010D  Planned Unit Development   \n",
       "11069345                 4.00  Central        010D  Planned Unit Development   \n",
       "11853596                 8.00  Central        010D  Planned Unit Development   \n",
       "\n",
       "         propzone  rawcensus          census  assessmentyr   transdate  \n",
       "parcelid                                                                \n",
       "12603480  TOPR-MD   60376509  60376509023009          2015  2016-07-22  \n",
       "11069345    LARZ4   60371082  60371082021028          2015  2016-08-12  \n",
       "11853596   PRPUD*   60375005  60375005001018          2016  2017-08-08  \n",
       "\n",
       "[3 rows x 28 columns]"
      ]
     },
     "execution_count": 4,
     "metadata": {},
     "output_type": "execute_result"
    }
   ],
   "source": [
    "df = prepare_zillow_without_outliers()\n",
    "df.sample(3)\n",
    "# Kept only the single unit properties, per Michael's function.\n",
    "# Dropped columns with more than 45% data missing in a column\n",
    "# and dropped rows with more than 25% data missing in the row.\n",
    "# Filled missing calculatedbathnbr and fullbathcnt with bathroomcnt\n",
    "# then went back and dropped all rows with ANY missing values.\n",
    "# Converted the datatypes of the numeric columns to int and category as appropriate."
   ]
  },
  {
   "cell_type": "code",
   "execution_count": 5,
   "metadata": {},
   "outputs": [
    {
     "data": {
      "text/html": [
       "<div>\n",
       "<style scoped>\n",
       "    .dataframe tbody tr th:only-of-type {\n",
       "        vertical-align: middle;\n",
       "    }\n",
       "\n",
       "    .dataframe tbody tr th {\n",
       "        vertical-align: top;\n",
       "    }\n",
       "\n",
       "    .dataframe thead th {\n",
       "        text-align: right;\n",
       "    }\n",
       "</style>\n",
       "<table border=\"1\" class=\"dataframe\">\n",
       "  <thead>\n",
       "    <tr style=\"text-align: right;\">\n",
       "      <th></th>\n",
       "      <th>logerror</th>\n",
       "      <th>bath</th>\n",
       "      <th>bed</th>\n",
       "      <th>bedbath</th>\n",
       "      <th>totsqft</th>\n",
       "      <th>finsqft</th>\n",
       "      <th>year</th>\n",
       "      <th>land_tax_val</th>\n",
       "      <th>struct_tax_val</th>\n",
       "      <th>land_struct_tax_val</th>\n",
       "      <th>...</th>\n",
       "      <th>lotsize</th>\n",
       "      <th>bldgqualtype</th>\n",
       "      <th>hvac</th>\n",
       "      <th>landusecode</th>\n",
       "      <th>landusedesc</th>\n",
       "      <th>propzone</th>\n",
       "      <th>rawcensus</th>\n",
       "      <th>census</th>\n",
       "      <th>assessmentyr</th>\n",
       "      <th>transdate</th>\n",
       "    </tr>\n",
       "    <tr>\n",
       "      <th>parcelid</th>\n",
       "      <th></th>\n",
       "      <th></th>\n",
       "      <th></th>\n",
       "      <th></th>\n",
       "      <th></th>\n",
       "      <th></th>\n",
       "      <th></th>\n",
       "      <th></th>\n",
       "      <th></th>\n",
       "      <th></th>\n",
       "      <th></th>\n",
       "      <th></th>\n",
       "      <th></th>\n",
       "      <th></th>\n",
       "      <th></th>\n",
       "      <th></th>\n",
       "      <th></th>\n",
       "      <th></th>\n",
       "      <th></th>\n",
       "      <th></th>\n",
       "      <th></th>\n",
       "    </tr>\n",
       "  </thead>\n",
       "  <tbody>\n",
       "    <tr>\n",
       "      <th>11016594</th>\n",
       "      <td>0.03</td>\n",
       "      <td>0.11</td>\n",
       "      <td>0.20</td>\n",
       "      <td>0.31</td>\n",
       "      <td>0.10</td>\n",
       "      <td>0.10</td>\n",
       "      <td>0.59</td>\n",
       "      <td>0.09</td>\n",
       "      <td>0.02</td>\n",
       "      <td>0.11</td>\n",
       "      <td>...</td>\n",
       "      <td>0.00</td>\n",
       "      <td>4.00</td>\n",
       "      <td>0</td>\n",
       "      <td>1</td>\n",
       "      <td>5</td>\n",
       "      <td>666</td>\n",
       "      <td>60371066</td>\n",
       "      <td>60371066461001</td>\n",
       "      <td>2015</td>\n",
       "      <td>0</td>\n",
       "    </tr>\n",
       "    <tr>\n",
       "      <th>12098116</th>\n",
       "      <td>-0.00</td>\n",
       "      <td>0.22</td>\n",
       "      <td>0.10</td>\n",
       "      <td>0.32</td>\n",
       "      <td>0.14</td>\n",
       "      <td>0.14</td>\n",
       "      <td>0.45</td>\n",
       "      <td>0.02</td>\n",
       "      <td>0.01</td>\n",
       "      <td>0.03</td>\n",
       "      <td>...</td>\n",
       "      <td>0.01</td>\n",
       "      <td>4.00</td>\n",
       "      <td>0</td>\n",
       "      <td>1</td>\n",
       "      <td>5</td>\n",
       "      <td>1620</td>\n",
       "      <td>60374638</td>\n",
       "      <td>60374638003004</td>\n",
       "      <td>2015</td>\n",
       "      <td>0</td>\n",
       "    </tr>\n",
       "    <tr>\n",
       "      <th>12643413</th>\n",
       "      <td>0.02</td>\n",
       "      <td>0.11</td>\n",
       "      <td>0.10</td>\n",
       "      <td>0.21</td>\n",
       "      <td>0.03</td>\n",
       "      <td>0.03</td>\n",
       "      <td>0.79</td>\n",
       "      <td>0.03</td>\n",
       "      <td>0.02</td>\n",
       "      <td>0.05</td>\n",
       "      <td>...</td>\n",
       "      <td>0.04</td>\n",
       "      <td>4.00</td>\n",
       "      <td>0</td>\n",
       "      <td>9</td>\n",
       "      <td>0</td>\n",
       "      <td>643</td>\n",
       "      <td>60372963</td>\n",
       "      <td>60372963002002</td>\n",
       "      <td>2015</td>\n",
       "      <td>1</td>\n",
       "    </tr>\n",
       "    <tr>\n",
       "      <th>11509835</th>\n",
       "      <td>-0.27</td>\n",
       "      <td>0.33</td>\n",
       "      <td>0.30</td>\n",
       "      <td>0.63</td>\n",
       "      <td>0.21</td>\n",
       "      <td>0.21</td>\n",
       "      <td>0.75</td>\n",
       "      <td>0.63</td>\n",
       "      <td>0.12</td>\n",
       "      <td>0.75</td>\n",
       "      <td>...</td>\n",
       "      <td>0.00</td>\n",
       "      <td>1.00</td>\n",
       "      <td>0</td>\n",
       "      <td>1</td>\n",
       "      <td>5</td>\n",
       "      <td>564</td>\n",
       "      <td>60376210</td>\n",
       "      <td>60376210044006</td>\n",
       "      <td>2015</td>\n",
       "      <td>1</td>\n",
       "    </tr>\n",
       "    <tr>\n",
       "      <th>12286022</th>\n",
       "      <td>0.04</td>\n",
       "      <td>0.00</td>\n",
       "      <td>0.10</td>\n",
       "      <td>0.10</td>\n",
       "      <td>0.07</td>\n",
       "      <td>0.07</td>\n",
       "      <td>0.44</td>\n",
       "      <td>0.02</td>\n",
       "      <td>0.01</td>\n",
       "      <td>0.03</td>\n",
       "      <td>...</td>\n",
       "      <td>0.00</td>\n",
       "      <td>7.00</td>\n",
       "      <td>1</td>\n",
       "      <td>1</td>\n",
       "      <td>5</td>\n",
       "      <td>285</td>\n",
       "      <td>60375416</td>\n",
       "      <td>60375416053007</td>\n",
       "      <td>2015</td>\n",
       "      <td>1</td>\n",
       "    </tr>\n",
       "  </tbody>\n",
       "</table>\n",
       "<p>5 rows × 28 columns</p>\n",
       "</div>"
      ],
      "text/plain": [
       "                     logerror                 bath                  bed  \\\n",
       "parcelid                                                                  \n",
       "11016594                 0.03                 0.11                 0.20   \n",
       "12098116                -0.00                 0.22                 0.10   \n",
       "12643413                 0.02                 0.11                 0.10   \n",
       "11509835                -0.27                 0.33                 0.30   \n",
       "12286022                 0.04                 0.00                 0.10   \n",
       "\n",
       "                      bedbath              totsqft              finsqft  \\\n",
       "parcelid                                                                  \n",
       "11016594                 0.31                 0.10                 0.10   \n",
       "12098116                 0.32                 0.14                 0.14   \n",
       "12643413                 0.21                 0.03                 0.03   \n",
       "11509835                 0.63                 0.21                 0.21   \n",
       "12286022                 0.10                 0.07                 0.07   \n",
       "\n",
       "                         year         land_tax_val       struct_tax_val  \\\n",
       "parcelid                                                                  \n",
       "11016594                 0.59                 0.09                 0.02   \n",
       "12098116                 0.45                 0.02                 0.01   \n",
       "12643413                 0.79                 0.03                 0.02   \n",
       "11509835                 0.75                 0.63                 0.12   \n",
       "12286022                 0.44                 0.02                 0.01   \n",
       "\n",
       "          land_struct_tax_val    ...                 lotsize  \\\n",
       "parcelid                         ...                           \n",
       "11016594                 0.11    ...                    0.00   \n",
       "12098116                 0.03    ...                    0.01   \n",
       "12643413                 0.05    ...                    0.04   \n",
       "11509835                 0.75    ...                    0.00   \n",
       "12286022                 0.03    ...                    0.00   \n",
       "\n",
       "                 bldgqualtype hvac landusecode landusedesc propzone  \\\n",
       "parcelid                                                              \n",
       "11016594                 4.00    0           1           5      666   \n",
       "12098116                 4.00    0           1           5     1620   \n",
       "12643413                 4.00    0           9           0      643   \n",
       "11509835                 1.00    0           1           5      564   \n",
       "12286022                 7.00    1           1           5      285   \n",
       "\n",
       "          rawcensus          census  assessmentyr transdate  \n",
       "parcelid                                                     \n",
       "11016594   60371066  60371066461001          2015         0  \n",
       "12098116   60374638  60374638003004          2015         0  \n",
       "12643413   60372963  60372963002002          2015         1  \n",
       "11509835   60376210  60376210044006          2015         1  \n",
       "12286022   60375416  60375416053007          2015         1  \n",
       "\n",
       "[5 rows x 28 columns]"
      ]
     },
     "execution_count": 5,
     "metadata": {},
     "output_type": "execute_result"
    }
   ],
   "source": [
    "def encode_col(df, cols):\n",
    "    for col in cols:\n",
    "        encoder = LabelEncoder()\n",
    "        encoder.fit(df[col])\n",
    "        df[col] = encoder.transform(df[col])\n",
    "    return encoder, df\n",
    "\n",
    "encoder, df_features = encode_col(df, cols=['hvac', 'landusecode', 'landusedesc', 'propzone', 'transdate'])\n",
    "df_features.head()"
   ]
  },
  {
   "cell_type": "code",
   "execution_count": 6,
   "metadata": {},
   "outputs": [],
   "source": [
    "df_features.drop(columns=['landusedesc', 'hvac', 'assessmentyr', 'landusecode', 'bedbath', 'rawcensus',\n",
    "                          'census', 'tax_val', 'propzone', 'land_struct_tax_val', 'finsqft'], \n",
    "                 inplace=True)"
   ]
  },
  {
   "cell_type": "code",
   "execution_count": 7,
   "metadata": {},
   "outputs": [],
   "source": [
    "num_cols = df_features.select_dtypes(include='number').columns.tolist()\n",
    "cat_cols = df_features.select_dtypes(exclude='number').columns.tolist()"
   ]
  },
  {
   "cell_type": "markdown",
   "metadata": {},
   "source": [
    "### cluster 1 -- logerror only"
   ]
  },
  {
   "cell_type": "code",
   "execution_count": 8,
   "metadata": {},
   "outputs": [],
   "source": [
    "kmeans = KMeans(n_clusters=4) \n",
    "kmeans.fit(df_features[['logerror']])\n",
    "df_features['cluster_target_A'] = kmeans.predict(df_features[['logerror']])\n",
    "df_features.cluster_target_A = (df_features.cluster_target_A + 1)"
   ]
  },
  {
   "cell_type": "markdown",
   "metadata": {},
   "source": [
    "### cluster 2 -- totsqft only"
   ]
  },
  {
   "cell_type": "code",
   "execution_count": 9,
   "metadata": {},
   "outputs": [],
   "source": [
    "kmeans = KMeans(n_clusters=4) \n",
    "kmeans.fit(df_features[['totsqft']])\n",
    "df_features['cluster_target_B'] = kmeans.predict(df_features[['totsqft']])\n",
    "df_features.cluster_target_B = (df_features.cluster_target_B + 1)"
   ]
  },
  {
   "cell_type": "markdown",
   "metadata": {},
   "source": [
    "### cluster 3 -- land_tax_val only"
   ]
  },
  {
   "cell_type": "code",
   "execution_count": 10,
   "metadata": {},
   "outputs": [],
   "source": [
    "kmeans = KMeans(n_clusters=4)\n",
    "kmeans.fit(df_features[['land_tax_val']])\n",
    "df_features['cluster_target_C'] = kmeans.predict(df_features[['land_tax_val']])\n",
    "df_features.cluster_target_C = (df_features.cluster_target_C + 1)"
   ]
  },
  {
   "cell_type": "markdown",
   "metadata": {},
   "source": [
    "### cluster 4 -- latitude, longitude, and totsqft"
   ]
  },
  {
   "cell_type": "code",
   "execution_count": 11,
   "metadata": {},
   "outputs": [],
   "source": [
    "kmeans = KMeans(n_clusters=4)\n",
    "kmeans.fit(df_features[['latitude', 'longitude', 'totsqft']])\n",
    "df_features['cluster_target_D'] = kmeans.predict(df_features[['latitude', 'longitude', 'totsqft']])\n",
    "df_features.cluster_target_D = (df_features.cluster_target_D + 1)"
   ]
  },
  {
   "cell_type": "markdown",
   "metadata": {},
   "source": [
    "### cluster 5 -- lotsize"
   ]
  },
  {
   "cell_type": "code",
   "execution_count": 12,
   "metadata": {},
   "outputs": [],
   "source": [
    "kmeans = KMeans(n_clusters=3)\n",
    "kmeans.fit(df_features[['lotsize']])\n",
    "df_features['cluster_target_E'] = kmeans.predict(df_features[['lotsize']])\n",
    "df_features.cluster_target_E = (df_features.cluster_target_E + 1)"
   ]
  },
  {
   "cell_type": "code",
   "execution_count": 13,
   "metadata": {},
   "outputs": [
    {
     "data": {
      "text/html": [
       "<div>\n",
       "<style scoped>\n",
       "    .dataframe tbody tr th:only-of-type {\n",
       "        vertical-align: middle;\n",
       "    }\n",
       "\n",
       "    .dataframe tbody tr th {\n",
       "        vertical-align: top;\n",
       "    }\n",
       "\n",
       "    .dataframe thead th {\n",
       "        text-align: right;\n",
       "    }\n",
       "</style>\n",
       "<table border=\"1\" class=\"dataframe\">\n",
       "  <thead>\n",
       "    <tr style=\"text-align: right;\">\n",
       "      <th></th>\n",
       "      <th>logerror</th>\n",
       "      <th>totsqft</th>\n",
       "      <th>land_tax_val</th>\n",
       "      <th>struct_tax_val</th>\n",
       "      <th>year</th>\n",
       "      <th>cluster_target_A</th>\n",
       "      <th>cluster_target_B</th>\n",
       "      <th>cluster_target_C</th>\n",
       "      <th>cluster_target_D</th>\n",
       "      <th>cluster_target_E</th>\n",
       "    </tr>\n",
       "    <tr>\n",
       "      <th>parcelid</th>\n",
       "      <th></th>\n",
       "      <th></th>\n",
       "      <th></th>\n",
       "      <th></th>\n",
       "      <th></th>\n",
       "      <th></th>\n",
       "      <th></th>\n",
       "      <th></th>\n",
       "      <th></th>\n",
       "      <th></th>\n",
       "    </tr>\n",
       "  </thead>\n",
       "  <tbody>\n",
       "    <tr>\n",
       "      <th>10958655</th>\n",
       "      <td>0.03</td>\n",
       "      <td>0.08</td>\n",
       "      <td>0.21</td>\n",
       "      <td>0.02</td>\n",
       "      <td>0.45</td>\n",
       "      <td>1</td>\n",
       "      <td>1</td>\n",
       "      <td>3</td>\n",
       "      <td>2</td>\n",
       "      <td>1</td>\n",
       "    </tr>\n",
       "    <tr>\n",
       "      <th>11513416</th>\n",
       "      <td>-0.11</td>\n",
       "      <td>0.07</td>\n",
       "      <td>0.24</td>\n",
       "      <td>0.02</td>\n",
       "      <td>0.74</td>\n",
       "      <td>1</td>\n",
       "      <td>1</td>\n",
       "      <td>2</td>\n",
       "      <td>3</td>\n",
       "      <td>1</td>\n",
       "    </tr>\n",
       "    <tr>\n",
       "      <th>13086284</th>\n",
       "      <td>0.03</td>\n",
       "      <td>0.10</td>\n",
       "      <td>0.06</td>\n",
       "      <td>0.02</td>\n",
       "      <td>0.73</td>\n",
       "      <td>1</td>\n",
       "      <td>2</td>\n",
       "      <td>1</td>\n",
       "      <td>1</td>\n",
       "      <td>2</td>\n",
       "    </tr>\n",
       "    <tr>\n",
       "      <th>12554336</th>\n",
       "      <td>0.01</td>\n",
       "      <td>0.05</td>\n",
       "      <td>0.05</td>\n",
       "      <td>0.02</td>\n",
       "      <td>0.75</td>\n",
       "      <td>1</td>\n",
       "      <td>1</td>\n",
       "      <td>1</td>\n",
       "      <td>3</td>\n",
       "      <td>1</td>\n",
       "    </tr>\n",
       "    <tr>\n",
       "      <th>12544040</th>\n",
       "      <td>0.06</td>\n",
       "      <td>0.13</td>\n",
       "      <td>0.18</td>\n",
       "      <td>0.03</td>\n",
       "      <td>0.27</td>\n",
       "      <td>1</td>\n",
       "      <td>2</td>\n",
       "      <td>3</td>\n",
       "      <td>3</td>\n",
       "      <td>1</td>\n",
       "    </tr>\n",
       "    <tr>\n",
       "      <th>10821963</th>\n",
       "      <td>0.01</td>\n",
       "      <td>0.05</td>\n",
       "      <td>0.12</td>\n",
       "      <td>0.01</td>\n",
       "      <td>0.51</td>\n",
       "      <td>1</td>\n",
       "      <td>1</td>\n",
       "      <td>3</td>\n",
       "      <td>2</td>\n",
       "      <td>1</td>\n",
       "    </tr>\n",
       "    <tr>\n",
       "      <th>11808521</th>\n",
       "      <td>0.05</td>\n",
       "      <td>0.04</td>\n",
       "      <td>0.04</td>\n",
       "      <td>0.01</td>\n",
       "      <td>0.93</td>\n",
       "      <td>1</td>\n",
       "      <td>1</td>\n",
       "      <td>1</td>\n",
       "      <td>3</td>\n",
       "      <td>1</td>\n",
       "    </tr>\n",
       "    <tr>\n",
       "      <th>11744481</th>\n",
       "      <td>-0.00</td>\n",
       "      <td>0.10</td>\n",
       "      <td>0.11</td>\n",
       "      <td>0.01</td>\n",
       "      <td>0.22</td>\n",
       "      <td>1</td>\n",
       "      <td>2</td>\n",
       "      <td>3</td>\n",
       "      <td>3</td>\n",
       "      <td>1</td>\n",
       "    </tr>\n",
       "    <tr>\n",
       "      <th>12849859</th>\n",
       "      <td>-0.01</td>\n",
       "      <td>0.04</td>\n",
       "      <td>0.04</td>\n",
       "      <td>0.01</td>\n",
       "      <td>0.58</td>\n",
       "      <td>1</td>\n",
       "      <td>1</td>\n",
       "      <td>1</td>\n",
       "      <td>1</td>\n",
       "      <td>1</td>\n",
       "    </tr>\n",
       "    <tr>\n",
       "      <th>11064513</th>\n",
       "      <td>0.02</td>\n",
       "      <td>0.04</td>\n",
       "      <td>0.01</td>\n",
       "      <td>0.00</td>\n",
       "      <td>0.57</td>\n",
       "      <td>1</td>\n",
       "      <td>1</td>\n",
       "      <td>1</td>\n",
       "      <td>2</td>\n",
       "      <td>1</td>\n",
       "    </tr>\n",
       "  </tbody>\n",
       "</table>\n",
       "</div>"
      ],
      "text/plain": [
       "                     logerror              totsqft         land_tax_val  \\\n",
       "parcelid                                                                  \n",
       "10958655                 0.03                 0.08                 0.21   \n",
       "11513416                -0.11                 0.07                 0.24   \n",
       "13086284                 0.03                 0.10                 0.06   \n",
       "12554336                 0.01                 0.05                 0.05   \n",
       "12544040                 0.06                 0.13                 0.18   \n",
       "10821963                 0.01                 0.05                 0.12   \n",
       "11808521                 0.05                 0.04                 0.04   \n",
       "11744481                -0.00                 0.10                 0.11   \n",
       "12849859                -0.01                 0.04                 0.04   \n",
       "11064513                 0.02                 0.04                 0.01   \n",
       "\n",
       "               struct_tax_val                 year  cluster_target_A  \\\n",
       "parcelid                                                               \n",
       "10958655                 0.02                 0.45                 1   \n",
       "11513416                 0.02                 0.74                 1   \n",
       "13086284                 0.02                 0.73                 1   \n",
       "12554336                 0.02                 0.75                 1   \n",
       "12544040                 0.03                 0.27                 1   \n",
       "10821963                 0.01                 0.51                 1   \n",
       "11808521                 0.01                 0.93                 1   \n",
       "11744481                 0.01                 0.22                 1   \n",
       "12849859                 0.01                 0.58                 1   \n",
       "11064513                 0.00                 0.57                 1   \n",
       "\n",
       "          cluster_target_B  cluster_target_C  cluster_target_D  \\\n",
       "parcelid                                                         \n",
       "10958655                 1                 3                 2   \n",
       "11513416                 1                 2                 3   \n",
       "13086284                 2                 1                 1   \n",
       "12554336                 1                 1                 3   \n",
       "12544040                 2                 3                 3   \n",
       "10821963                 1                 3                 2   \n",
       "11808521                 1                 1                 3   \n",
       "11744481                 2                 3                 3   \n",
       "12849859                 1                 1                 1   \n",
       "11064513                 1                 1                 2   \n",
       "\n",
       "          cluster_target_E  \n",
       "parcelid                    \n",
       "10958655                 1  \n",
       "11513416                 1  \n",
       "13086284                 2  \n",
       "12554336                 1  \n",
       "12544040                 1  \n",
       "10821963                 1  \n",
       "11808521                 1  \n",
       "11744481                 1  \n",
       "12849859                 1  \n",
       "11064513                 1  "
      ]
     },
     "execution_count": 13,
     "metadata": {},
     "output_type": "execute_result"
    }
   ],
   "source": [
    "df_features[['logerror', 'totsqft', 'land_tax_val', 'struct_tax_val', 'year', 'cluster_target_A', \n",
    "             'cluster_target_B', 'cluster_target_C', 'cluster_target_D', 'cluster_target_E']].sample(10)"
   ]
  },
  {
   "cell_type": "markdown",
   "metadata": {},
   "source": [
    "### Train and Test Split"
   ]
  },
  {
   "cell_type": "code",
   "execution_count": 14,
   "metadata": {},
   "outputs": [],
   "source": [
    "def validate_train_test_split(X_train, y_train, X_test, y_test, train, test):\n",
    "    if X_train.shape[0] == y_train.shape[0]:\n",
    "        print(\"X & y train rows ARE equal\")\n",
    "    else:\n",
    "        print(\"X & y train rows ARE NOT equal\")\n",
    "\n",
    "\n",
    "    if X_test.shape[0] == y_test.shape[0]:\n",
    "        print(\"X & y test rows ARE equal\")\n",
    "    else:\n",
    "        print(\"X & y test rows ARE NOT equal\")\n",
    "\n",
    "    if train.shape[1] == test.shape[1]:\n",
    "        print(\"Number of columns in train & test ARE equal\")\n",
    "    else:\n",
    "        print(\"Number of columns in train & test ARE NOT equal\")\n",
    "\n",
    "    train_split = train.shape[0] / (train.shape[0] + test.shape[0])\n",
    "    test_split = test.shape[0] / (train.shape[0] + test.shape[0])\n",
    "\n",
    "    print(\"Train Split: %.2f\" % train_split)\n",
    "    print(\"Test Split: %.2f\" % test_split)"
   ]
  },
  {
   "cell_type": "code",
   "execution_count": 15,
   "metadata": {},
   "outputs": [],
   "source": [
    "# train_test_split\n",
    "X = df.drop(['logerror'], axis=1)\n",
    "y = df[['logerror']]\n",
    "\n",
    "X_train, X_test, y_train, y_test = train_test_split(X, y, train_size=.80, random_state=0)\n",
    "\n",
    "train = pd.concat([X_train, y_train], axis=1)\n",
    "\n",
    "test = pd.concat([X_test, y_test], axis=1)"
   ]
  },
  {
   "cell_type": "code",
   "execution_count": 16,
   "metadata": {},
   "outputs": [
    {
     "name": "stdout",
     "output_type": "stream",
     "text": [
      "X & y train rows ARE equal\n",
      "X & y test rows ARE equal\n",
      "Number of columns in train & test ARE equal\n",
      "Train Split: 0.80\n",
      "Test Split: 0.20\n"
     ]
    }
   ],
   "source": [
    "validate_train_test_split(X_train, y_train, X_test, y_test, train, test)"
   ]
  },
  {
   "cell_type": "markdown",
   "metadata": {},
   "source": [
    "Use statsmodels ordinary least squares to assess the importance of each feature with respect to the target."
   ]
  },
  {
   "cell_type": "code",
   "execution_count": 17,
   "metadata": {},
   "outputs": [],
   "source": [
    "# Could not get this to work...\n",
    "# ols_model = sm.OLS(y_train, X_train)\n",
    "# fit = ols_model.fit()\n",
    "# fit.summary()"
   ]
  },
  {
   "cell_type": "markdown",
   "metadata": {},
   "source": [
    "#### Summarize your conclusions and next steps from your analysis in above.¶\n",
    "What will you try when developing your model? (which features to use/not use/etc)\n",
    "\n",
    "If the data is good for modeling, then our residuals will have certain characteristics. These characteristics are:\n",
    "\n",
    "1. The data is “linear”. That is, the dependent variable is a linear function of independent variables and an error term e, and is largely dependent on characteristics 2-4. Think of the equation of a line in two dimensions: y = mx + b + e. yis the dependent or “response” variable, xis the input, mis the dimensional coefficient and bis the intercept (when x = 0). We can easily extend this “line” to higher dimensions by adding more inputs and coefficients, creating a hyperplane with the following form: y = a1*x1+ a2*x2+ … + an*xn\n",
    "2. Errors are normally distributed across the data. In other words, if you plotted the errors on a graph, they should take on the traditional bell-curve or Gaussian shape.\n",
    "3. There is “homoscedasticity”. This means that the variance of the errors is consistent across the entire dataset. We want to avoid situations where the error rate grows in a particular direction.\n",
    "4. The independent variables are actually independent and not collinear. We want to ensure independence between all of our inputs, otherwise our inputs will affect each other, instead of our response.\n",
    "\n",
    "\n",
    "Leaving these notes from a previous program to follow if I ever get this working!\n",
    "Omnibus: ###### Omnibus/Prob(Omnibus) – a test of the skewness and kurtosis of the residual. (Errors are normally distributed across the data. In other words, if you plotted the errors on a graph, they should take on the traditional bell-curve or Gaussian shape.) We hope to see a value close to zero which would indicate normalcy.\n",
    "\n",
    "Prob(Omnibus): #.#### The Prob (Omnibus) performs a statistical test indicating the probability that the residuals are normally distributed. We hope to see something close to 1 here.\n",
    "\n",
    "In this case Omnibus is hugely high and the Prob (Omnibus) is zero. A linear regression approach will not likely yield results as good as from a nonlinear approach.\n",
    "\n",
    "Skew: ##.### Skew – a measure of data symmetry. We want to see something close to zero, indicating the residual distribution is normal. Note that this value also drives the Omnibus. This result has a very large, and therefore terrible, skew.\n",
    "\n",
    "Kurtosis: ###.### Kurtosis – a measure of “peakiness”, or curvature of the data. Higher peaks lead to greater Kurtosis. Greater Kurtosis can be interpreted as a tighter clustering of residuals around zero, implying a better model with few outliers. But this is a terrible model, so I'm not sure what this means.\n",
    "\n",
    "Durbin-Watson: #.### Durbin-Watson – tests for homoscedasticity. (There is “homoscedasticity”. This means that the variance of the errors is consistent across the entire dataset. We want to avoid situations where the error rate grows in a particular direction.). We hope to have a value between 1 and 2. In this case, the data yields a value of 2, not within limits.\n",
    "\n",
    "Jarque-Bera (JB): #######.#### Jarque-Bera (JB)/Prob(JB) – like the Omnibus test in that it tests both skew and kurtosis. We hope to see in this test a confirmation of the Omnibus test. In this case we do not since the Omnibus test yielded 98079.547.\n",
    "\n",
    "Cond. No. #.##e+## Condition Number – This test measures the sensitivity of a function’s output as compared to its input. (The independent variables are actually independent and not collinear. We want to ensure independence between all of our inputs, otherwise our inputs will affect each other, instead of our response.) When we have multicollinearity, we can expect much higher fluctuations to small changes in the data, hence, we hope to see a relatively small number, something below 30. In this case we are over 2 million."
   ]
  },
  {
   "cell_type": "markdown",
   "metadata": {},
   "source": [
    "### Model Selection"
   ]
  },
  {
   "cell_type": "code",
   "execution_count": 18,
   "metadata": {},
   "outputs": [],
   "source": [
    "def create_univariate_linear_regression_model(X_train, y_train, features):\n",
    "    # Create linear regression objects\n",
    "    lm0 = LinearRegression()\n",
    "    lm0.fit(X_train[features], y_train)\n",
    "    lm0_y_intercept = lm0.intercept_\n",
    "    lm0_coefficients = lm0.coef_\n",
    "\n",
    "    print()\n",
    "    print('Univariate - log error = b + m1 * square feet')\n",
    "    print('    y-intercept  (b): %.2f' % lm0_y_intercept)\n",
    "    print('    coefficient (m1): %.2f' % lm0_coefficients[0][0])\n",
    "\n",
    "    y_pred_lm0 = lm0.predict(X_train[features])\n",
    "\n",
    "    mse_lm0 = mean_squared_error(y_train, y_pred_lm0)\n",
    "    print(\"    Mean squared error of linear model is %.2f\" % mse_lm0)\n",
    "\n",
    "    r2_lm0 = r2_score(y_train, y_pred_lm0)\n",
    "    print('    {:.2%} of the variance in the logerror of the train data can be explained by the number of rooms and the total square footage.'\n",
    "      .format(r2_lm0))\n",
    "    \n",
    "    return lm0, r2_lm0, y_pred_lm0"
   ]
  },
  {
   "cell_type": "code",
   "execution_count": 19,
   "metadata": {},
   "outputs": [],
   "source": [
    "def create_multivariate_linear_regression_model(X_train, y_train, features):\n",
    "    # Create linear regression objects\n",
    "    lm0 = LinearRegression()\n",
    "    lm0.fit(X_train[features], y_train)\n",
    "    lm0_y_intercept = lm0.intercept_\n",
    "    lm0_coefficients = lm0.coef_\n",
    "\n",
    "    print()\n",
    "    print('Multivariate - logerror = b + m1 * rooms + m2 * totsqft')\n",
    "    print('    y-intercept  (b): %.2f' % lm1_y_intercept)\n",
    "    print('    coefficient (m1): %.2f' % lm1_coefficients[0][0])\n",
    "    print('    coefficient (m2): %.2f' % lm1_coefficients[0][1])\n",
    "\n",
    "    y_pred_lm0 = lm0.predict(X_train[features])\n",
    "\n",
    "    mse_lm0 = mean_squared_error(y_train, y_pred_lm0)\n",
    "    print(\"Linear Model\\n  mean_squared_error: {:.3}\".format(mse_lm0)) \n",
    "\n",
    "    r2_lm0 = r2_score(y_train, y_pred_lm0)\n",
    "\n",
    "    print('  {:.2%} of the variance in the log error can be explained by the number of square feet.'.format(r2_lm0))\n",
    "\n",
    "    return lm0, r2_lm0, y_pred_lm0"
   ]
  },
  {
   "cell_type": "code",
   "execution_count": 20,
   "metadata": {},
   "outputs": [],
   "source": [
    "# This function is from Ednalyn de Dios\n",
    "def model_polyreg(X, y, features):\n",
    "    lin = LinearRegression() \t  \n",
    "    lin.fit(X, y)\n",
    "\n",
    "    poly = PolynomialFeatures(degree = 4) \n",
    "    X_poly = poly.fit_transform(X) \n",
    "    poly.fit(X_poly, y) \n",
    "\n",
    "    lin2 = LinearRegression() \n",
    "    lin2.fit(X_poly, y)\n",
    "\n",
    "    # Visualising the Linear Regression results \n",
    "    plt.scatter(X, y, color = 'blue') \n",
    "      \n",
    "    plt.plot(X, lin.predict(X), color = 'red') \n",
    "    plt.title('Linear Regression') \n",
    "    plt.xlabel('Temperature') \n",
    "    plt.ylabel('Pressure') \n",
    "      \n",
    "    plt.show()\n",
    "\n",
    "    # Visualising the Polynomial Regression results \n",
    "    plt.scatter(X, y, color = 'blue') \n",
    "      \n",
    "    plt.plot(X, lin2.predict(poly.fit_transform(X)), color = 'red') \n",
    "    plt.title('Polynomial Regression') \n",
    "    plt.xlabel('Temperature') \n",
    "    plt.ylabel('Pressure') \n",
    "      \n",
    "    plt.show()"
   ]
  },
  {
   "cell_type": "markdown",
   "metadata": {},
   "source": [
    "# Model 1 -- totsqft"
   ]
  },
  {
   "cell_type": "code",
   "execution_count": 21,
   "metadata": {},
   "outputs": [
    {
     "name": "stdout",
     "output_type": "stream",
     "text": [
      "\n",
      "Univariate - log error = b + m1 * square feet\n",
      "    y-intercept  (b): 0.00\n",
      "    coefficient (m1): 0.09\n",
      "    Mean squared error of linear model is 0.02\n",
      "    0.15% of the variance in the logerror of the train data can be explained by the number of rooms and the total square footage.\n"
     ]
    }
   ],
   "source": [
    "lm1, r2_lm1, y_pred_lm1 = create_univariate_linear_regression_model(X_train, y_train, features=['totsqft'])"
   ]
  },
  {
   "cell_type": "code",
   "execution_count": 22,
   "metadata": {},
   "outputs": [
    {
     "name": "stdout",
     "output_type": "stream",
     "text": [
      "Mean Squared Error of linear model on test data: 0.028399217576013675\n"
     ]
    }
   ],
   "source": [
    "# Make predictions using the testing set\n",
    "y_pred_lm1 = lm1.predict(X_test[['totsqft']])\n",
    "mse = mean_squared_error(y_test, y_pred_lm1)\n",
    "print(f'Mean Squared Error of linear model on test data: {mse}')"
   ]
  },
  {
   "cell_type": "code",
   "execution_count": 23,
   "metadata": {},
   "outputs": [
    {
     "name": "stdout",
     "output_type": "stream",
     "text": [
      "0.21% of the variance in log errors in the test data can be explained by totsqft.\n"
     ]
    }
   ],
   "source": [
    "r2 = r2_score(y_test, y_pred_lm1)\n",
    "print('{:.2%} of the variance in log errors in the test data can be explained by totsqft.'.format(r2))"
   ]
  },
  {
   "cell_type": "code",
   "execution_count": 24,
   "metadata": {},
   "outputs": [
    {
     "data": {
      "text/plain": [
       "Text(0, 0.5, 'Residuals')"
      ]
     },
     "execution_count": 24,
     "metadata": {},
     "output_type": "execute_result"
    },
    {
     "data": {
      "image/png": "[encoded data removed]",
      "text/plain": [
       "<Figure size 432x288 with 1 Axes>"
      ]
     },
     "metadata": {
      "needs_background": "light"
     },
     "output_type": "display_data"
    }
   ],
   "source": [
    "plt.scatter(y_pred_lm1, y_pred_lm1 - y_test, c='g', s=40)\n",
    "plt.hlines(y=0, xmin=50, xmax=100)\n",
    "plt.title(\"Residual plot\")\n",
    "plt.ylabel('Residuals')"
   ]
  },
  {
   "cell_type": "markdown",
   "metadata": {},
   "source": [
    "# Model 2 -- land_tax_val"
   ]
  },
  {
   "cell_type": "code",
   "execution_count": 25,
   "metadata": {},
   "outputs": [
    {
     "name": "stdout",
     "output_type": "stream",
     "text": [
      "\n",
      "Univariate - log error = b + m1 * square feet\n",
      "    y-intercept  (b): 0.01\n",
      "    coefficient (m1): -0.02\n",
      "    Mean squared error of linear model is 0.02\n",
      "    0.02% of the variance in the logerror of the train data can be explained by the number of rooms and the total square footage.\n"
     ]
    }
   ],
   "source": [
    "lm2, r2_lm2, y_pred_lm2 = create_univariate_linear_regression_model(X_train, y_train, features=['land_tax_val'])"
   ]
  },
  {
   "cell_type": "code",
   "execution_count": 26,
   "metadata": {},
   "outputs": [],
   "source": [
    "# pd.DataFrame({'actual': y_train.logerror,\n",
    "#               'lm2': y_pred_lm2.ravel()})\\\n",
    "#     .melt(id_vars=['actual'], var_name='model', value_name='prediction')\\\n",
    "#     .pipe((sns.relplot, 'data'), x='actual', y='prediction', hue='model')\n",
    "\n",
    "# plt.plot([60, 100], [60, 100], c='black', ls=':')\n",
    "# plt.ylim(60, 100)\n",
    "# plt.xlim(60, 100)\n",
    "# plt.title('Predicted vs Actual Log Error')\n",
    "# # The further away from this line the are, the farther off the prediction was."
   ]
  },
  {
   "cell_type": "code",
   "execution_count": 27,
   "metadata": {},
   "outputs": [
    {
     "name": "stdout",
     "output_type": "stream",
     "text": [
      "Mean Squared Error of linear model on test data: 0.02845459364092511\n"
     ]
    }
   ],
   "source": [
    "# Make predictions using the testing set\n",
    "y_pred_lm2 = lm2.predict(X_test[['land_tax_val']])\n",
    "mse = mean_squared_error(y_test, y_pred_lm2)\n",
    "print(f'Mean Squared Error of linear model on test data: {mse}')"
   ]
  },
  {
   "cell_type": "code",
   "execution_count": 28,
   "metadata": {},
   "outputs": [
    {
     "name": "stdout",
     "output_type": "stream",
     "text": [
      "0.01% of the variance in log errors in the test data can be explained by land_tax_val.\n"
     ]
    }
   ],
   "source": [
    "r2 = r2_score(y_test, y_pred_lm2)\n",
    "print('{:.2%} of the variance in log errors in the test data can be explained by land_tax_val.'.format(r2))"
   ]
  },
  {
   "cell_type": "code",
   "execution_count": 29,
   "metadata": {},
   "outputs": [
    {
     "data": {
      "text/plain": [
       "Text(0, 0.5, 'Residuals')"
      ]
     },
     "execution_count": 29,
     "metadata": {},
     "output_type": "execute_result"
    },
    {
     "data": {
      "image/png": "[encoded data removed]",
      "text/plain": [
       "<Figure size 432x288 with 1 Axes>"
      ]
     },
     "metadata": {
      "needs_background": "light"
     },
     "output_type": "display_data"
    }
   ],
   "source": [
    "plt.scatter(y_pred_lm2, y_pred_lm2 - y_test, c='g', s=40)\n",
    "plt.hlines(y=0, xmin=50, xmax=100)\n",
    "plt.title(\"Residual plot\")\n",
    "plt.ylabel('Residuals')"
   ]
  },
  {
   "cell_type": "markdown",
   "metadata": {},
   "source": [
    "# Models using cluster targets\n",
    "    - cluster_target_A = logerror only\n",
    "    - cluster_target_B = totsqft only\n",
    "    - cluster_target_C = land_tax_val only\n",
    "    - cluster_target_D = latitude, longitude, and totsqft"
   ]
  },
  {
   "cell_type": "markdown",
   "metadata": {},
   "source": [
    "# Model 3 -- cluster_target_A"
   ]
  },
  {
   "cell_type": "code",
   "execution_count": 30,
   "metadata": {},
   "outputs": [
    {
     "name": "stdout",
     "output_type": "stream",
     "text": [
      "\n",
      "Univariate - log error = b + m1 * square feet\n",
      "    y-intercept  (b): -0.00\n",
      "    coefficient (m1): 0.01\n",
      "    Mean squared error of linear model is 0.02\n",
      "    0.24% of the variance in the logerror of the train data can be explained by the number of rooms and the total square footage.\n"
     ]
    }
   ],
   "source": [
    "lm3, r2_lm3, y_pred_lm3 = create_univariate_linear_regression_model(X_train, y_train, features=['cluster_target_A'])"
   ]
  },
  {
   "cell_type": "code",
   "execution_count": 31,
   "metadata": {},
   "outputs": [
    {
     "name": "stdout",
     "output_type": "stream",
     "text": [
      "Mean Squared Error of test data: 0.02839413132152262\n"
     ]
    }
   ],
   "source": [
    "# Make predictions using the testing set\n",
    "y_pred_lm3 = lm3.predict(X_test[['cluster_target_A']])\n",
    "mse = mean_squared_error(y_test, y_pred_lm3)\n",
    "print(f'Mean Squared Error of test data: {mse}')"
   ]
  },
  {
   "cell_type": "code",
   "execution_count": 32,
   "metadata": {},
   "outputs": [
    {
     "name": "stdout",
     "output_type": "stream",
     "text": [
      "0.22% of the variance in log errors in test data can be explained by cluster target A only.\n"
     ]
    }
   ],
   "source": [
    "r2 = r2_score(y_test, y_pred_lm3)\n",
    "print('{:.2%} of the variance in log errors in test data can be explained by cluster target A only.'.format(r2))"
   ]
  },
  {
   "cell_type": "code",
   "execution_count": 33,
   "metadata": {},
   "outputs": [
    {
     "data": {
      "text/plain": [
       "Text(0, 0.5, 'Residuals')"
      ]
     },
     "execution_count": 33,
     "metadata": {},
     "output_type": "execute_result"
    },
    {
     "data": {
      "image/png": "[encoded data removed]",
      "text/plain": [
       "<Figure size 432x288 with 1 Axes>"
      ]
     },
     "metadata": {
      "needs_background": "light"
     },
     "output_type": "display_data"
    }
   ],
   "source": [
    "plt.scatter(y_pred_lm3, y_pred_lm3 - y_test, c='r', s=40)\n",
    "plt.hlines(y=0, xmin=0, xmax=.8)\n",
    "plt.title(\"Residual Plot\")\n",
    "plt.ylabel('Residuals')"
   ]
  },
  {
   "cell_type": "markdown",
   "metadata": {},
   "source": [
    "# Model 4 -- cluster_target_A and cluster_target_B"
   ]
  },
  {
   "cell_type": "code",
   "execution_count": 34,
   "metadata": {},
   "outputs": [
    {
     "name": "stdout",
     "output_type": "stream",
     "text": [
      "\n",
      "Univariate - log error = b + m1 * square feet\n",
      "    y-intercept  (b): -0.01\n",
      "    coefficient (m1): 0.01\n",
      "    Mean squared error of linear model is 0.02\n",
      "    0.35% of the variance in the logerror of the train data can be explained by the number of rooms and the total square footage.\n"
     ]
    }
   ],
   "source": [
    "lm4, r2_lm4, y_pred_lm4 = create_univariate_linear_regression_model(X_train, y_train, features=['cluster_target_A', 'cluster_target_B'])"
   ]
  },
  {
   "cell_type": "code",
   "execution_count": 35,
   "metadata": {},
   "outputs": [
    {
     "name": "stdout",
     "output_type": "stream",
     "text": [
      "Mean Squared Error of test data: 0.028353063274384346\n"
     ]
    }
   ],
   "source": [
    "# Make predictions using the testing set\n",
    "y_pred_lm4 = lm4.predict(X_test[['cluster_target_A', 'cluster_target_B']])\n",
    "mse = mean_squared_error(y_test, y_pred_lm4)\n",
    "print(f'Mean Squared Error of test data: {mse}')"
   ]
  },
  {
   "cell_type": "code",
   "execution_count": 36,
   "metadata": {},
   "outputs": [
    {
     "name": "stdout",
     "output_type": "stream",
     "text": [
      "0.37% of the variance in log errors in test data can be explained by cluster targets A and B.\n"
     ]
    }
   ],
   "source": [
    "r2 = r2_score(y_test, y_pred_lm4)\n",
    "print('{:.2%} of the variance in log errors in test data can be explained by cluster targets A and B.'.format(r2))"
   ]
  },
  {
   "cell_type": "code",
   "execution_count": 37,
   "metadata": {},
   "outputs": [
    {
     "data": {
      "text/plain": [
       "Text(0, 0.5, 'Residuals')"
      ]
     },
     "execution_count": 37,
     "metadata": {},
     "output_type": "execute_result"
    },
    {
     "data": {
      "image/png": "[encoded data removed]",
      "text/plain": [
       "<Figure size 432x288 with 1 Axes>"
      ]
     },
     "metadata": {
      "needs_background": "light"
     },
     "output_type": "display_data"
    }
   ],
   "source": [
    "plt.scatter(y_pred_lm4, y_pred_lm4 - y_test, c='r', s=40)\n",
    "plt.hlines(y=0, xmin=0, xmax=.8)\n",
    "plt.title(\"Residual Plot\")\n",
    "plt.ylabel('Residuals')"
   ]
  },
  {
   "cell_type": "markdown",
   "metadata": {},
   "source": [
    "# Model 5 -- cluster_target_A, cluster_target_B, and cluster_target_C"
   ]
  },
  {
   "cell_type": "code",
   "execution_count": 38,
   "metadata": {},
   "outputs": [
    {
     "name": "stdout",
     "output_type": "stream",
     "text": [
      "\n",
      "Univariate - log error = b + m1 * square feet\n",
      "    y-intercept  (b): -0.00\n",
      "    coefficient (m1): 0.01\n",
      "    Mean squared error of linear model is 0.02\n",
      "    0.41% of the variance in the logerror of the train data can be explained by the number of rooms and the total square footage.\n"
     ]
    }
   ],
   "source": [
    "lm5, r2_lm5, y_pred_lm5 = create_univariate_linear_regression_model(X_train, y_train, features=['cluster_target_A', 'cluster_target_B', 'cluster_target_C'])"
   ]
  },
  {
   "cell_type": "code",
   "execution_count": 39,
   "metadata": {},
   "outputs": [
    {
     "name": "stdout",
     "output_type": "stream",
     "text": [
      "Mean Squared Error of test data: 0.02833901251567777\n"
     ]
    }
   ],
   "source": [
    "# Make predictions using the testing set\n",
    "y_pred_lm5 = lm5.predict(X_test[['cluster_target_A', 'cluster_target_B', 'cluster_target_C']])\n",
    "mse = mean_squared_error(y_test, y_pred_lm5)\n",
    "print(f'Mean Squared Error of test data: {mse}')"
   ]
  },
  {
   "cell_type": "code",
   "execution_count": 40,
   "metadata": {},
   "outputs": [
    {
     "name": "stdout",
     "output_type": "stream",
     "text": [
      "0.42% of the variance in log errors in test data can be explained by cluster targets A, B, and C.\n"
     ]
    }
   ],
   "source": [
    "r2 = r2_score(y_test, y_pred_lm5)\n",
    "print('{:.2%} of the variance in log errors in test data can be explained by cluster targets A, B, and C.'.format(r2))"
   ]
  },
  {
   "cell_type": "code",
   "execution_count": 41,
   "metadata": {},
   "outputs": [
    {
     "data": {
      "text/plain": [
       "Text(0, 0.5, 'Residuals')"
      ]
     },
     "execution_count": 41,
     "metadata": {},
     "output_type": "execute_result"
    },
    {
     "data": {
      "image/png": "[encoded data removed]",
      "text/plain": [
       "<Figure size 432x288 with 1 Axes>"
      ]
     },
     "metadata": {
      "needs_background": "light"
     },
     "output_type": "display_data"
    }
   ],
   "source": [
    "plt.scatter(y_pred_lm5, y_pred_lm5 - y_test, c='r', s=40)\n",
    "plt.hlines(y=0, xmin=0, xmax=.8)\n",
    "plt.title(\"Residual Plot\")\n",
    "plt.ylabel('Residuals')"
   ]
  },
  {
   "cell_type": "markdown",
   "metadata": {},
   "source": [
    "# Model 6 -- cluster_target_A, cluster_target_B, cluster_target_C, and cluster_target_D"
   ]
  },
  {
   "cell_type": "code",
   "execution_count": 42,
   "metadata": {},
   "outputs": [
    {
     "name": "stdout",
     "output_type": "stream",
     "text": [
      "\n",
      "Univariate - log error = b + m1 * square feet\n",
      "    y-intercept  (b): 0.00\n",
      "    coefficient (m1): 0.01\n",
      "    Mean squared error of linear model is 0.02\n",
      "    0.45% of the variance in the logerror of the train data can be explained by the number of rooms and the total square footage.\n"
     ]
    }
   ],
   "source": [
    "lm6, r2_lm6, y_pred_lm6 = create_univariate_linear_regression_model(X_train, y_train, features=['cluster_target_A', 'cluster_target_B', 'cluster_target_C', 'cluster_target_D'])"
   ]
  },
  {
   "cell_type": "code",
   "execution_count": 43,
   "metadata": {},
   "outputs": [
    {
     "name": "stdout",
     "output_type": "stream",
     "text": [
      "Mean Squared Error of test data: 0.028326148435717034\n"
     ]
    }
   ],
   "source": [
    "# Make predictions using the testing set\n",
    "y_pred_lm6 = lm6.predict(X_test[['cluster_target_A', 'cluster_target_B', 'cluster_target_C', 'cluster_target_D']])\n",
    "mse = mean_squared_error(y_test, y_pred_lm6)\n",
    "print(f'Mean Squared Error of test data: {mse}')"
   ]
  },
  {
   "cell_type": "code",
   "execution_count": 44,
   "metadata": {},
   "outputs": [
    {
     "name": "stdout",
     "output_type": "stream",
     "text": [
      "0.46% of the variance in log errors in test data can be explained by cluster targets A, B, C, and D.\n"
     ]
    }
   ],
   "source": [
    "r2 = r2_score(y_test, y_pred_lm6)\n",
    "print('{:.2%} of the variance in log errors in test data can be explained by cluster targets A, B, C, and D.'.format(r2))"
   ]
  },
  {
   "cell_type": "code",
   "execution_count": 45,
   "metadata": {},
   "outputs": [
    {
     "data": {
      "text/plain": [
       "Text(0, 0.5, 'Residuals')"
      ]
     },
     "execution_count": 45,
     "metadata": {},
     "output_type": "execute_result"
    },
    {
     "data": {
      "image/png": "[encoded data removed]",
      "text/plain": [
       "<Figure size 432x288 with 1 Axes>"
      ]
     },
     "metadata": {
      "needs_background": "light"
     },
     "output_type": "display_data"
    }
   ],
   "source": [
    "plt.scatter(y_pred_lm6, y_pred_lm6 - y_test, c='r', s=40)\n",
    "plt.hlines(y=0, xmin=0, xmax=.8)\n",
    "plt.title(\"Residual Plot\")\n",
    "plt.ylabel('Residuals')"
   ]
  },
  {
   "cell_type": "markdown",
   "metadata": {},
   "source": [
    "# Model 7 -- cluster_target_D"
   ]
  },
  {
   "cell_type": "code",
   "execution_count": 46,
   "metadata": {},
   "outputs": [
    {
     "name": "stdout",
     "output_type": "stream",
     "text": [
      "\n",
      "Univariate - log error = b + m1 * square feet\n",
      "    y-intercept  (b): 0.02\n",
      "    coefficient (m1): -0.00\n",
      "    Mean squared error of linear model is 0.02\n",
      "    0.03% of the variance in the logerror of the train data can be explained by the number of rooms and the total square footage.\n"
     ]
    }
   ],
   "source": [
    "lm7, r2_lm7, y_pred_lm7 = create_univariate_linear_regression_model(X_train, y_train, features=['cluster_target_D'])"
   ]
  },
  {
   "cell_type": "code",
   "execution_count": 47,
   "metadata": {},
   "outputs": [
    {
     "name": "stdout",
     "output_type": "stream",
     "text": [
      "Mean Squared Error of test data: 0.028451164409519256\n"
     ]
    }
   ],
   "source": [
    "# Make predictions using the testing set\n",
    "y_pred_lm7 = lm7.predict(X_test[['cluster_target_D']])\n",
    "mse = mean_squared_error(y_test, y_pred_lm7)\n",
    "print(f'Mean Squared Error of test data: {mse}')"
   ]
  },
  {
   "cell_type": "code",
   "execution_count": 48,
   "metadata": {},
   "outputs": [
    {
     "name": "stdout",
     "output_type": "stream",
     "text": [
      "0.02% of the variance in log errors in test data can be explained by cluster targets D.\n"
     ]
    }
   ],
   "source": [
    "r2 = r2_score(y_test, y_pred_lm7)\n",
    "print('{:.2%} of the variance in log errors in test data can be explained by cluster targets D.'.format(r2))"
   ]
  },
  {
   "cell_type": "code",
   "execution_count": 49,
   "metadata": {},
   "outputs": [
    {
     "data": {
      "text/plain": [
       "Text(0, 0.5, 'Residuals')"
      ]
     },
     "execution_count": 49,
     "metadata": {},
     "output_type": "execute_result"
    },
    {
     "data": {
      "image/png": "[encoded data removed]",
      "text/plain": [
       "<Figure size 432x288 with 1 Axes>"
      ]
     },
     "metadata": {
      "needs_background": "light"
     },
     "output_type": "display_data"
    }
   ],
   "source": [
    "plt.scatter(y_pred_lm7, y_pred_lm7 - y_test, c='r', s=40)\n",
    "plt.hlines(y=0, xmin=0, xmax=.8)\n",
    "plt.title(\"Residual Plot\")\n",
    "plt.ylabel('Residuals')"
   ]
  },
  {
   "cell_type": "markdown",
   "metadata": {},
   "source": [
    "# Model 8 -- cluster_target_A, cluster_target_B, and cluster_target_E"
   ]
  },
  {
   "cell_type": "code",
   "execution_count": 50,
   "metadata": {},
   "outputs": [
    {
     "name": "stdout",
     "output_type": "stream",
     "text": [
      "\n",
      "Univariate - log error = b + m1 * square feet\n",
      "    y-intercept  (b): -0.02\n",
      "    coefficient (m1): 0.01\n",
      "    Mean squared error of linear model is 0.02\n",
      "    0.36% of the variance in the logerror of the train data can be explained by the number of rooms and the total square footage.\n"
     ]
    }
   ],
   "source": [
    "lm8, r2_lm8, y_pred_lm8 = create_univariate_linear_regression_model(\n",
    "    X_train, \n",
    "    y_train, \n",
    "    features=['cluster_target_A', 'cluster_target_B', 'cluster_target_E'])"
   ]
  },
  {
   "cell_type": "code",
   "execution_count": 51,
   "metadata": {},
   "outputs": [
    {
     "name": "stdout",
     "output_type": "stream",
     "text": [
      "Mean Squared Error of test data: 0.028326148435717034\n"
     ]
    }
   ],
   "source": [
    "# Make predictions using the testing set\n",
    "y_pred_lm8 = lm8.predict(X_test[['cluster_target_A', 'cluster_target_B', 'cluster_target_E']])\n",
    "mse = mean_squared_error(y_test, y_pred_lm6)\n",
    "print(f'Mean Squared Error of test data: {mse}')"
   ]
  },
  {
   "cell_type": "code",
   "execution_count": 52,
   "metadata": {},
   "outputs": [
    {
     "name": "stdout",
     "output_type": "stream",
     "text": [
      "0.46% of the variance in log errors in test data can be explained by cluster targets A, B, and E.\n"
     ]
    }
   ],
   "source": [
    "r2 = r2_score(y_test, y_pred_lm6)\n",
    "print('{:.2%} of the variance in log errors in test data can be explained by cluster targets A, B, and E.'.format(r2))"
   ]
  },
  {
   "cell_type": "code",
   "execution_count": 53,
   "metadata": {},
   "outputs": [
    {
     "data": {
      "text/plain": [
       "Text(0, 0.5, 'Residuals')"
      ]
     },
     "execution_count": 53,
     "metadata": {},
     "output_type": "execute_result"
    },
    {
     "data": {
      "image/png": "[encoded data removed]",
      "text/plain": [
       "<Figure size 432x288 with 1 Axes>"
      ]
     },
     "metadata": {
      "needs_background": "light"
     },
     "output_type": "display_data"
    }
   ],
   "source": [
    "plt.scatter(y_pred_lm8, y_pred_lm8 - y_test, c='r', s=40)\n",
    "plt.hlines(y=0, xmin=0, xmax=.8)\n",
    "plt.title(\"Residual Plot\")\n",
    "plt.ylabel('Residuals')"
   ]
  },
  {
   "cell_type": "markdown",
   "metadata": {},
   "source": [
    "# Try one on a poloynomial regression..."
   ]
  },
  {
   "cell_type": "code",
   "execution_count": null,
   "metadata": {},
   "outputs": [],
   "source": [
    "lm9, r2_lm9, y_pred_lm9 = model_polyreg(X_train, \n",
    "                                        y_train, \n",
    "                                        features=['cluster_target_A', 'cluster_target_B', 'cluster_target_E'])"
   ]
  },
  {
   "cell_type": "code",
   "execution_count": null,
   "metadata": {},
   "outputs": [],
   "source": [
    "# Make predictions using the testing set\n",
    "y_pred_lm9 = lm9.predict(X_test[['cluster_target_A', 'cluster_target_B', 'cluster_target_E']])\n",
    "mse = mean_squared_error(y_test, y_pred_lm9)\n",
    "print(f'Mean Squared Error of test data: {mse}')"
   ]
  },
  {
   "cell_type": "code",
   "execution_count": null,
   "metadata": {},
   "outputs": [],
   "source": [
    "r2 = r2_score(y_test, y_pred_lm9)\n",
    "print('{:.2%} of the variance in log errors in test data can be explained by cluster targets A, B, and E.'.format(r2))"
   ]
  },
  {
   "cell_type": "code",
   "execution_count": null,
   "metadata": {},
   "outputs": [],
   "source": [
    "plt.scatter(y_pred_lm9, y_pred_lm9 - y_test, c='r', s=40)\n",
    "plt.hlines(y=0, xmin=0, xmax=.8)\n",
    "plt.title(\"Residual Plot\")\n",
    "plt.ylabel('Residuals')"
   ]
  }
 ],
 "metadata": {
  "kernelspec": {
   "display_name": "Python 3",
   "language": "python",
   "name": "python3"
  },
  "language_info": {
   "codemirror_mode": {
    "name": "ipython",
    "version": 3
   },
   "file_extension": ".py",
   "mimetype": "text/x-python",
   "name": "python",
   "nbconvert_exporter": "python",
   "pygments_lexer": "ipython3",
   "version": "3.7.1"
  }
 },
 "nbformat": 4,
 "nbformat_minor": 2
}
