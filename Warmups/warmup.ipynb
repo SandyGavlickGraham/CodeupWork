{
 "cells": [
  {
   "cell_type": "markdown",
   "metadata": {},
   "source": [
    "Take the word EASY: Its first three letters — E, A and S — are the fifth, first, and nineteenth letters, respectively, in the alphabet. If you add 5, 1, and 19, you get 25, which is the value of the alphabetical position of Y, the last letter of EASY.\n",
    "\n",
    "Can you think of a common five-letter word that works in the opposite way — in which the value of the alphabetical positions of its last four letters add up to the value of the alphabetical position of its first letter?"
   ]
  },
  {
   "cell_type": "code",
   "execution_count": 1,
   "metadata": {},
   "outputs": [
    {
     "data": {
      "text/plain": [
       "['A', 'a', 'aa', 'aal', 'aalii']"
      ]
     },
     "execution_count": 1,
     "metadata": {},
     "output_type": "execute_result"
    }
   ],
   "source": [
    "with open('/usr/share/dict/words') as f:\n",
    "    words = f.read().split('\\n')\n",
    "    \n",
    "words[:5]"
   ]
  },
  {
   "cell_type": "code",
   "execution_count": 2,
   "metadata": {},
   "outputs": [
    {
     "name": "stdout",
     "output_type": "stream",
     "text": [
      "raffe\n",
      "Sadie\n",
      "sifac\n",
      "table\n",
      "Uchee\n",
      "vakia\n",
      "Vicia\n",
      "wanga\n",
      "whack\n",
      "Xicak\n",
      "yeara\n",
      "zebra\n"
     ]
    }
   ],
   "source": [
    "def alpha_position(c):\n",
    "    return 'abcdefghijklmnopqrstuvwxyz'.index(c) + 1\n",
    "    # return ord(c) - ord('a') + 1\n",
    "\n",
    "for word in words:\n",
    "    if len(word) != 5:\n",
    "        continue\n",
    "    first_letter, *rest = word.lower()\n",
    "    if alpha_position(first_letter) == sum([alpha_position(c) for c in rest]):\n",
    "        print(word)"
   ]
  },
  {
   "cell_type": "code",
   "execution_count": null,
   "metadata": {},
   "outputs": [],
   "source": [
    "import re\n",
    "import pandas as pd\n",
    "from pandas import Series"
   ]
  },
  {
   "cell_type": "code",
   "execution_count": 3,
   "metadata": {},
   "outputs": [
    {
     "name": "stdout",
     "output_type": "stream",
     "text": [
      "0 a\n",
      "1 b\n",
      "2 c\n",
      "3 d\n",
      "4 e\n",
      "5 f\n",
      "6 g\n",
      "7 h\n",
      "8 i\n",
      "9 j\n",
      "10 k\n",
      "11 l\n",
      "12 m\n",
      "13 n\n",
      "14 o\n",
      "15 p\n",
      "16 q\n",
      "17 r\n",
      "18 s\n",
      "19 t\n",
      "20 u\n",
      "21 v\n",
      "22 w\n",
      "23 x\n",
      "24 y\n",
      "25 z\n"
     ]
    }
   ],
   "source": [
    "alphabet = ('abcdefghijklmnopqrstuvwxyz')\n",
    "for i in range(26):\n",
    "    print(i, alphabet[i])"
   ]
  },
  {
   "cell_type": "code",
   "execution_count": 4,
   "metadata": {},
   "outputs": [
    {
     "data": {
      "text/plain": [
       "1"
      ]
     },
     "execution_count": 4,
     "metadata": {},
     "output_type": "execute_result"
    }
   ],
   "source": [
    "alphabet.index('b')"
   ]
  },
  {
   "cell_type": "code",
   "execution_count": 5,
   "metadata": {},
   "outputs": [
    {
     "data": {
      "text/plain": [
       "''"
      ]
     },
     "execution_count": 5,
     "metadata": {},
     "output_type": "execute_result"
    }
   ],
   "source": [
    "word[-1:]"
   ]
  },
  {
   "cell_type": "code",
   "execution_count": 6,
   "metadata": {},
   "outputs": [],
   "source": [
    "word = 'easy'"
   ]
  },
  {
   "cell_type": "code",
   "execution_count": 7,
   "metadata": {},
   "outputs": [
    {
     "name": "stdout",
     "output_type": "stream",
     "text": [
      "5 e\n",
      "1 a\n",
      "19 s\n",
      "25\n",
      "y 25\n",
      "The indexes of all but the last letter of easy\n",
      "add up to the index of the last letter of easy .\n",
      "The sum is 25 .\n"
     ]
    }
   ],
   "source": [
    "sum = 0\n",
    "for character in word[:-1]:\n",
    "    print(alphabet.index(character)+1, character)\n",
    "    sum += alphabet.index(character)+1\n",
    "print(sum)\n",
    "print(word[-1:], alphabet.index(word[-1:])+1)\n",
    "if sum == alphabet.index(word[-1:])+1:\n",
    "    print('The indexes of all but the last letter of', word)\n",
    "    print('add up to the index of the last letter of', word,'.')\n",
    "    print('The sum is', sum, '.')"
   ]
  },
  {
   "cell_type": "markdown",
   "metadata": {},
   "source": [
    "Can you think of a common five-letter word that works in the opposite way — in which the value of the alphabetical positions of its last four letters add up to the value of the alphabetical position of its first letter?"
   ]
  },
  {
   "cell_type": "code",
   "execution_count": null,
   "metadata": {},
   "outputs": [],
   "source": [
    "for c in reversed(word):\n",
    "     print(c)"
   ]
  },
  {
   "cell_type": "code",
   "execution_count": null,
   "metadata": {},
   "outputs": [],
   "source": [
    "sum = 0\n",
    "for character in reversed(word[1:]):\n",
    "    print(alphabet.index(character)+1, character)\n",
    "    sum += alphabet.index(character)+1\n",
    "print(sum)\n",
    "print(word[-1:], alphabet.index(word[-1:])+1)\n",
    "if sum == alphabet.index(word[-1:])+1:\n",
    "    print('The indexes of all but the last letter of', word)\n",
    "    print('add up to the index of the first letter of', word,'.')\n",
    "    print('The sum is', sum, '.')"
   ]
  },
  {
   "cell_type": "code",
   "execution_count": null,
   "metadata": {},
   "outputs": [],
   "source": [
    "sum = 0\n",
    "for character in reversed(word[1:]):\n",
    "    print(alphabet.index(character)+1, character)\n",
    "    sum += alphabet.index(character)+1\n",
    "print(sum)\n",
    "print(word[-1:], alphabet.index(word[-1:])+1)\n",
    "if sum == alphabet.index(word[-1:])+1:\n",
    "    print('The indexes of all but the last letter of', word)\n",
    "    print('add up to the index of the first letter of', word,'.')\n",
    "    print('The sum is', sum, '.')"
   ]
  },
  {
   "cell_type": "code",
   "execution_count": null,
   "metadata": {},
   "outputs": [],
   "source": [
    "with open('/usr/share/dict/words') as f:\n",
    "    words = f.read().split('\\n')\n",
    "    \n",
    "words[:5]"
   ]
  },
  {
   "cell_type": "code",
   "execution_count": null,
   "metadata": {},
   "outputs": [],
   "source": [
    "def alpha_position(c):\n",
    "    return 'abcdefghijklmnopqrstuvwxyz'.index(c) + 1\n",
    "    # return ord(c) - ord('a') + 1\n",
    "\n",
    "for word in words:\n",
    "    if len(word) != 5:\n",
    "        continue\n",
    "    first_letter, *rest = word.lower()\n",
    "    if alpha_position(first_letter) == sum([alpha_position(c) for c in rest]):\n",
    "        print(word)"
   ]
  },
  {
   "cell_type": "code",
   "execution_count": null,
   "metadata": {},
   "outputs": [],
   "source": [
    "# Just for fun, a functional take\n",
    "\n",
    "def alpha_position(c):\n",
    "    # return 'abcdefghijklmnopqrstuvwxyz'.index(c) + 1\n",
    "    return ord(c) - ord('a') + 1\n",
    "\n",
    "def alpha_score(word):\n",
    "    return sum(alpha_position(c) for c in word)\n",
    "\n",
    "def compose(*fns):\n",
    "    return partial(reduce, lambda x, f: f(x), reversed(fns))\n",
    "\n",
    "from functools import reduce, partial\n",
    "\n",
    "compose(\n",
    "    list,\n",
    "    partial(map, lambda d: d['word']),\n",
    "    partial(filter, lambda word: word['scores'][0] == word['scores'][1]),\n",
    "    partial(map, lambda parts: dict(scores=list(map(alpha_score, parts)),\n",
    "                                    word=parts[0] + parts[1])),\n",
    "    partial(map, lambda word: [word[0], word[1:]]),\n",
    "    partial(map, lambda word: word.lower()),\n",
    "    partial(filter, lambda word: len(word) == 5)\n",
    ")(words)"
   ]
  },
  {
   "cell_type": "code",
   "execution_count": null,
   "metadata": {},
   "outputs": [],
   "source": []
  }
 ],
 "metadata": {
  "kernelspec": {
   "display_name": "Python 3",
   "language": "python",
   "name": "python3"
  },
  "language_info": {
   "codemirror_mode": {
    "name": "ipython",
    "version": 3
   },
   "file_extension": ".py",
   "mimetype": "text/x-python",
   "name": "python",
   "nbconvert_exporter": "python",
   "pygments_lexer": "ipython3",
   "version": "3.7.1"
  }
 },
 "nbformat": 4,
 "nbformat_minor": 2
}
