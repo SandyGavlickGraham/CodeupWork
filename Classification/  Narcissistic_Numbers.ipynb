{
 "cells": [
  {
   "cell_type": "code",
   "execution_count": 1,
   "metadata": {},
   "outputs": [],
   "source": [
    "count = 0\n",
    "number = 1"
   ]
  },
  {
   "cell_type": "code",
   "execution_count": 2,
   "metadata": {},
   "outputs": [
    {
     "name": "stdout",
     "output_type": "stream",
     "text": [
      "1 1\n",
      "2 2\n",
      "3 3\n",
      "4 4\n",
      "5 5\n",
      "6 6\n",
      "7 7\n",
      "8 8\n",
      "9 9\n",
      "10 153\n",
      "11 370\n",
      "12 371\n",
      "13 407\n",
      "14 1634\n",
      "15 8208\n",
      "16 9474\n",
      "17 54748\n",
      "18 92727\n",
      "19 93084\n",
      "20 548834\n",
      "21 1741725\n",
      "22 4210818\n"
     ]
    }
   ],
   "source": [
    "while count < 22:\n",
    "    num_digits = len(str(number))\n",
    "    sum_digits = 0\n",
    "    \n",
    "    for i in range(num_digits):\n",
    "        sum_digits += int(str(number)[i:i+1])**num_digits\n",
    "        \n",
    "    if sum_digits == number:\n",
    "        count += 1\n",
    "        print(count, number)\n",
    "        \n",
    "    number += 1"
   ]
  },
  {
   "cell_type": "code",
   "execution_count": 3,
   "metadata": {},
   "outputs": [
    {
     "name": "stdout",
     "output_type": "stream",
     "text": [
      "0: 1\n",
      "1: 2\n",
      "2: 3\n",
      "3: 4\n",
      "4: 5\n",
      "5: 6\n",
      "6: 7\n",
      "7: 8\n",
      "8: 9\n",
      "9: 153\n",
      "10: 370\n",
      "11: 371\n",
      "12: 407\n",
      "13: 1634\n",
      "14: 8208\n",
      "15: 9474\n",
      "16: 54748\n",
      "17: 92727\n",
      "18: 93084\n",
      "19: 548834\n"
     ]
    }
   ],
   "source": [
    "def is_narcissistic(n:int) -> bool:\n",
    "    digits = [int(n) for n in list(str(n))]\n",
    "    n_digits = len(digits)\n",
    "    return sum([digit ** n_digits for digit in digits]) == n\n",
    "\n",
    "if __name__=='__main__':\n",
    "    assert is_narcissistic(153)\n",
    "    assert not is_narcissistic(154)\n",
    "    assert not is_narcissistic(152)\n",
    "    \n",
    "    number_to_find = 20\n",
    "    n_found = 0\n",
    "    i = 1\n",
    "    while True:\n",
    "        if is_narcissistic(i):\n",
    "            print('{}: {}'.format(n_found, i))\n",
    "            n_found += 1\n",
    "        if n_found == number_to_find:\n",
    "            break\n",
    "        i += 1"
   ]
  },
  {
   "cell_type": "code",
   "execution_count": null,
   "metadata": {},
   "outputs": [],
   "source": []
  }
 ],
 "metadata": {
  "kernelspec": {
   "display_name": "Python 3",
   "language": "python",
   "name": "python3"
  },
  "language_info": {
   "codemirror_mode": {
    "name": "ipython",
    "version": 3
   },
   "file_extension": ".py",
   "mimetype": "text/x-python",
   "name": "python",
   "nbconvert_exporter": "python",
   "pygments_lexer": "ipython3",
   "version": "3.7.1"
  }
 },
 "nbformat": 4,
 "nbformat_minor": 2
}
