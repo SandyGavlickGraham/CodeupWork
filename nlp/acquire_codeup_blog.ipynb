{
 "cells": [
  {
   "cell_type": "code",
   "execution_count": 1,
   "metadata": {},
   "outputs": [],
   "source": [
    "import os\n",
    "import re\n",
    "import requests\n",
    "import json\n",
    "from bs4 import BeautifulSoup\n",
    "\n",
    "urls = [\n",
    "    'https://codeup.com/codeups-data-science-career-accelerator-is-here/',\n",
    "    'https://codeup.com/data-science-myths/',\n",
    "    'https://codeup.com/data-science-vs-data-analytics-whats-the-difference/',\n",
    "    'https://codeup.com/10-tips-to-crush-it-at-the-sa-tech-job-fair/',\n",
    "    'https://codeup.com/competitor-bootcamps-are-closing-is-the-model-in-danger/',\n",
    "]\n",
    "\n",
    "def extract_title(codeup_blog_url):\n",
    "    '''\n",
    "    Returns the title of a codeup blog url. undefined results with any other url.\n",
    "    '''\n",
    "    return re.search(r'.*?([\\w-]+)/$', codeup_blog_url)[1]\n",
    "\n",
    "def fetch_page_text(url):\n",
    "    response = requests.get(url, headers={'User-Agent': 'zach'})\n",
    "    return response.text\n",
    "\n",
    "def extract_blog_article(html):\n",
    "    soup = BeautifulSoup(html)\n",
    "    content = soup.find(class_='mk-single-content').text.strip()\n",
    "    title = extract_title(url)\n",
    "    return dict(content=content, title=title)\n",
    "\n",
    "def get_blog_articles(use_cache=True):\n",
    "    if use_cache and os.path.exists('codeup_blog_articles.json'):\n",
    "        articles = json.load(open('codeup_blog_articles.json'))\n",
    "    else:\n",
    "        articles = [extract_blog_article(fetch_page_text(url))\n",
    "                    for url in urls]\n",
    "        json.dump(articles, open('codeup_blog_articles.json', 'w'))\n",
    "    return articles"
   ]
  },
  {
   "cell_type": "code",
   "execution_count": null,
   "metadata": {},
   "outputs": [],
   "source": []
  }
 ],
 "metadata": {
  "kernelspec": {
   "display_name": "Python 3",
   "language": "python",
   "name": "python3"
  },
  "language_info": {
   "codemirror_mode": {
    "name": "ipython",
    "version": 3
   },
   "file_extension": ".py",
   "mimetype": "text/x-python",
   "name": "python",
   "nbconvert_exporter": "python",
   "pygments_lexer": "ipython3",
   "version": "3.7.1"
  }
 },
 "nbformat": 4,
 "nbformat_minor": 2
}
